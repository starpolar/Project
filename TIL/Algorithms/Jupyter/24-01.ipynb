{
 "cells": [
  {
   "cell_type": "markdown",
   "id": "a4f64ded-858d-4c95-9cb4-4629e1e5509f",
   "metadata": {
    "jp-MarkdownHeadingCollapsed": true
   },
   "source": [
    "# 정렬 Day 1~"
   ]
  },
  {
   "cell_type": "markdown",
   "id": "b4aaa6e4-fb82-4272-a0c7-1bffa0f1abe3",
   "metadata": {
    "jp-MarkdownHeadingCollapsed": true
   },
   "source": [
    "## Day 3"
   ]
  },
  {
   "cell_type": "markdown",
   "id": "3fae72da-38eb-4a33-875f-ae194a4057a1",
   "metadata": {},
   "source": [
    "### 2470 두 용액"
   ]
  },
  {
   "cell_type": "code",
   "execution_count": null,
   "id": "8480dff1-af65-48f1-8488-56aca81fdade",
   "metadata": {},
   "outputs": [],
   "source": [
    "n = int('5')\n",
    "a = list(map(int, ('-2 4 -99 -1 98').split()))\n",
    "a.sort()\n",
    "a\n",
    "\n",
    "# 중간 지점에서 뒤로 넘어가 합산해서 수를 만든다\n",
    "# 수를 저장하고 다음 합한 수를 비교해 더 0과 가까운 수를 만든다\n",
    "# 0과 가까운 수는 수를 제곱한 후 작은 수를 정답에 저장한다\n",
    "\n",
    "mid = len(a) // 2\n",
    "left = 0\n",
    "right = len(a) - 1\n",
    "sum = a[left] + a[right]\n",
    "anLeft = a[left]\n",
    "anRight = a[right]\n",
    "\n",
    "while left < mid :    \n",
    "    if pow((a[left] + a[right]), 2) < pow(sum, 2) :\n",
    "        sum = a[left] + a[right]\n",
    "        anLeft = a[left]\n",
    "        anRight = a[right]\n",
    "        print('a1')\n",
    "    else :\n",
    "        right -= 1\n",
    "        print('a2')\n",
    "    if right == mid :\n",
    "        left += 1\n",
    "        right = len(a) - 1\n",
    "        print('a3')\n",
    "print(sum, anLeft, anRight)"
   ]
  },
  {
   "cell_type": "code",
   "execution_count": 25,
   "id": "56a623f5-396e-42c9-91b6-9002d84536f6",
   "metadata": {},
   "outputs": [
    {
     "data": {
      "text/plain": [
       "-1"
      ]
     },
     "execution_count": 25,
     "metadata": {},
     "output_type": "execute_result"
    }
   ],
   "source": [
    "sum"
   ]
  },
  {
   "cell_type": "code",
   "execution_count": 23,
   "id": "715f8146-89aa-487f-bb0e-ec80344f9717",
   "metadata": {},
   "outputs": [
    {
     "data": {
      "text/plain": [
       "19405"
      ]
     },
     "execution_count": 23,
     "metadata": {},
     "output_type": "execute_result"
    }
   ],
   "source": [
    "pow(a[left], 2) + pow(a[right], 2)"
   ]
  },
  {
   "cell_type": "code",
   "execution_count": 26,
   "id": "36836871-46d8-4b2f-b416-27584c896ba9",
   "metadata": {},
   "outputs": [
    {
     "data": {
      "text/plain": [
       "1"
      ]
     },
     "execution_count": 26,
     "metadata": {},
     "output_type": "execute_result"
    }
   ],
   "source": [
    "pow((a[left] + a[right]), 2)"
   ]
  },
  {
   "cell_type": "code",
   "execution_count": 24,
   "id": "d0e96ec8-43a8-4b4d-9342-171b48d99ee2",
   "metadata": {},
   "outputs": [
    {
     "data": {
      "text/plain": [
       "1"
      ]
     },
     "execution_count": 24,
     "metadata": {},
     "output_type": "execute_result"
    }
   ],
   "source": [
    "pow(sum, 2)"
   ]
  },
  {
   "cell_type": "code",
   "execution_count": null,
   "id": "63acf059-87d2-4988-b709-e095f99f53ce",
   "metadata": {},
   "outputs": [],
   "source": []
  },
  {
   "cell_type": "code",
   "execution_count": 37,
   "id": "e91918e9-381d-477b-a1d2-254ebc9f3bf2",
   "metadata": {},
   "outputs": [
    {
     "name": "stdout",
     "output_type": "stream",
     "text": [
      "1 2\n"
     ]
    }
   ],
   "source": [
    "import sys\n",
    "\n",
    "# n = int(sys.stdin.readline())\n",
    "# a = list(map(int, sys.stdin.readline().split()))\n",
    "n = int('5')\n",
    "a = list(map(int, ('1 2 3 4 5').split()))\n",
    "\n",
    "a.sort()\n",
    "\n",
    "left = 0\n",
    "right = len(a) - 1\n",
    "sum = a[left] + a[right]\n",
    "anLeft = a[left]\n",
    "anRight = a[right]\n",
    "\n",
    "while left < right :    \n",
    "    # if pow((a[left] + a[right]), 2) < pow(sum, 2) :\n",
    "    if abs(a[left] + a[right]) < abs(sum):\n",
    "        sum = a[left] + a[right]\n",
    "        anLeft = a[left]\n",
    "        anRight = a[right]\n",
    "    # 합산의 값이 0보다 작으면 왼쪽을 움직인다\n",
    "    \n",
    "    # if a[left] + a[right] <= 0:\n",
    "    # 이헤기 안되네 GPT는 sum을 적은것이 문제인 이유가 양수일 경우에 라는데\n",
    "    # 양수일 경우를 테스트를 해봐도 정상작동 하는데 백준도 오답이라 하니, 계산으로도 이해가 안된다.\n",
    "    if sum < 0 :\n",
    "        left += 1\n",
    "    else :\n",
    "        right -= 1\n",
    "print(anLeft, anRight)"
   ]
  },
  {
   "cell_type": "code",
   "execution_count": 36,
   "id": "ed10e261-113f-44f4-aeed-2bb63c8bd722",
   "metadata": {},
   "outputs": [
    {
     "data": {
      "text/plain": [
       "3"
      ]
     },
     "execution_count": 36,
     "metadata": {},
     "output_type": "execute_result"
    }
   ],
   "source": [
    "sum"
   ]
  },
  {
   "cell_type": "code",
   "execution_count": 34,
   "id": "88f17ad9-cc76-4d7b-a554-93c2c56559e9",
   "metadata": {},
   "outputs": [
    {
     "data": {
      "text/plain": [
       "3"
      ]
     },
     "execution_count": 34,
     "metadata": {},
     "output_type": "execute_result"
    }
   ],
   "source": [
    "abs(sum)"
   ]
  },
  {
   "cell_type": "markdown",
   "id": "d16dfd51-964c-425e-bda2-2423f475b97d",
   "metadata": {
    "jp-MarkdownHeadingCollapsed": true
   },
   "source": [
    "## Day 4"
   ]
  },
  {
   "cell_type": "markdown",
   "id": "17b19cb2-62d4-4c45-b589-3c1575357bac",
   "metadata": {},
   "source": [
    "### 11728 배열 합치기"
   ]
  },
  {
   "cell_type": "code",
   "execution_count": 8,
   "id": "c2f469be-0689-400a-9835-7f4b4f19cf08",
   "metadata": {},
   "outputs": [],
   "source": [
    "n, m = map(int, '2 2'.split())\n",
    "a = list(map(int, '3 5'.split()))\n",
    "b = list(map(int, '2 9'.split()))"
   ]
  },
  {
   "cell_type": "code",
   "execution_count": 17,
   "id": "2fb75c1a-a452-42ef-9eab-b1973c6233d7",
   "metadata": {},
   "outputs": [
    {
     "name": "stdout",
     "output_type": "stream",
     "text": [
      "2 3 5 9\n"
     ]
    }
   ],
   "source": [
    "n, m = map(int, input().split())\n",
    "a = list(map(int, input().split()))\n",
    "b = list(map(int, input().split()))\n",
    "\n",
    "c = a + b\n",
    "c.sort()\n",
    "print(*c)"
   ]
  },
  {
   "cell_type": "code",
   "execution_count": 17,
   "id": "686b774d-0f9f-4625-9030-4556aac3301d",
   "metadata": {},
   "outputs": [
    {
     "name": "stdout",
     "output_type": "stream",
     "text": [
      "2 3 5 9\n"
     ]
    }
   ],
   "source": [
    "import sys\n",
    "\n",
    "n, m = map(int, sys.stdin.readline().split())\n",
    "a = list(map(int, sys.stdin.readline().split()))\n",
    "b = list(map(int, sys.stdin.readline().split()))\n",
    "\n",
    "c = a + b\n",
    "c.sort()\n",
    "print(*c)"
   ]
  },
  {
   "cell_type": "markdown",
   "id": "5c0479da-32a0-41a6-861f-77cd4170e2f6",
   "metadata": {
    "jp-MarkdownHeadingCollapsed": true
   },
   "source": [
    "## Day 5"
   ]
  },
  {
   "cell_type": "markdown",
   "id": "223073c4-1e7d-4d03-b81e-263f25840cfa",
   "metadata": {},
   "source": [
    "### 1202 보석도둑"
   ]
  },
  {
   "cell_type": "code",
   "execution_count": 9,
   "id": "37dff2ad-20b9-48d4-9d66-027c94b12211",
   "metadata": {
    "collapsed": true,
    "jupyter": {
     "outputs_hidden": true
    },
    "scrolled": true
   },
   "outputs": [
    {
     "data": {
      "text/plain": [
       "164"
      ]
     },
     "execution_count": 9,
     "metadata": {},
     "output_type": "execute_result"
    }
   ],
   "source": [
    "n, k = map(int, '3 2'.split())\n",
    "nLi = [(1, 65), (5, 23), (2, 99)]\n",
    "kLi = [10, 2]\n",
    "\n",
    "nLi.sort(key= lambda x: (x[0], x[1]))\n",
    "kLi.sort()\n",
    "\n",
    "result, tmpTake = 0, 0\n",
    "for i in kLi :\n",
    "    for j in nLi :\n",
    "        if i > j[0] :\n",
    "            if tmpTake < j[1] :\n",
    "                tmpTake = j[1]\n",
    "                tmpDel = j\n",
    "        if i < j[0] :\n",
    "            break\n",
    "    nLi.remove(tmpDel)\n",
    "    result += tmpTake\n",
    "result"
   ]
  },
  {
   "cell_type": "code",
   "execution_count": 4,
   "id": "580266d6-2166-4c90-8429-82ae0ba87a64",
   "metadata": {
    "scrolled": true
   },
   "outputs": [
    {
     "name": "stdin",
     "output_type": "stream",
     "text": [
      " 3 2\n",
      " 1 65\n",
      " 5 23\n",
      " 2 99\n",
      " 10\n",
      " 2\n"
     ]
    },
    {
     "name": "stdout",
     "output_type": "stream",
     "text": [
      "164\n"
     ]
    }
   ],
   "source": [
    "n, k = map(int, input().split())\n",
    "nLi = []\n",
    "for i in range(n) :\n",
    "    x, y = map(int, input().split())\n",
    "    nLi.append((x, y))\n",
    "kLi = []\n",
    "for i in range(k) :\n",
    "    x = int(input())\n",
    "    kLi.append(x)\n",
    "\n",
    "nLi.sort(key= lambda x: (x[0], x[1]))\n",
    "kLi.sort()\n",
    "\n",
    "result, tmpTake = 0, 0\n",
    "for i in kLi :\n",
    "    tmpDel = None\n",
    "    for j in nLi :        \n",
    "        if i > j[0] :\n",
    "            if tmpTake < j[1] :\n",
    "                tmpTake = j[1]\n",
    "                tmpDel = j\n",
    "        if i < j[0] :\n",
    "            break\n",
    "    nLi.remove(tmpDel)\n",
    "    result += tmpTake\n",
    "print(result)"
   ]
  },
  {
   "cell_type": "code",
   "execution_count": null,
   "id": "f84114e0-351c-445c-8147-46092214b8e8",
   "metadata": {},
   "outputs": [],
   "source": [
    "import heapq\n",
    "import sys\n",
    "\n",
    "def solution():\n",
    "    n, k = map(int, sys.stdin.readline().split())\n",
    "    jewels = []\n",
    "\n",
    "    for _ in range(n):\n",
    "        m, v = map(int, sys.stdin.readline().split())\n",
    "        heapq.heappush(jewels, (m, v))\n",
    "\n",
    "    bags = [int(sys.stdin.readline()) for _ in range(k)]\n",
    "    bags.sort()\n",
    "\n",
    "    result = 0\n",
    "    candidate_jewels = []\n",
    "\n",
    "    for bag in bags:\n",
    "        while jewels and bag >= jewels[0][0]:\n",
    "            heapq.heappush(candidate_jewels, -heapq.heappop(jewels)[1])\n",
    "\n",
    "        if candidate_jewels:\n",
    "            result -= heapq.heappop(candidate_jewels)\n",
    "        elif not jewels:\n",
    "            break\n",
    "\n",
    "    sys.stdout.write(str(result))\n",
    "\n",
    "# 테스트\n",
    "solution()"
   ]
  },
  {
   "cell_type": "code",
   "execution_count": 14,
   "id": "ac2565f4-4f59-4675-9e51-ebc004157bf3",
   "metadata": {},
   "outputs": [
    {
     "name": "stdin",
     "output_type": "stream",
     "text": [
      " 3 2\n",
      " 1 65\n",
      " 5 23\n",
      " 2 99\n"
     ]
    }
   ],
   "source": [
    "import heapq\n",
    "\n",
    "n, k = map(int, input().split())  # 보석의 개수 n, 가방의 개수 k 입력\n",
    "jewels = []  # 보석 정보를 담을 리스트\n",
    "\n",
    "for _ in range(n):\n",
    "    m, v = map(int, input().split())  # 보석의 무게 m과 가치 v 입력\n",
    "    heapq.heappush(jewels, (m, v))  # 보석을 무게를 기준으로 최소 힙에 추가"
   ]
  },
  {
   "cell_type": "code",
   "execution_count": 15,
   "id": "6315c9ee-4944-4103-9752-b8304b1cab7f",
   "metadata": {},
   "outputs": [
    {
     "data": {
      "text/plain": [
       "[(1, 65), (5, 23), (2, 99)]"
      ]
     },
     "execution_count": 15,
     "metadata": {},
     "output_type": "execute_result"
    }
   ],
   "source": [
    "jewels"
   ]
  },
  {
   "cell_type": "code",
   "execution_count": 18,
   "id": "2fe3fd23-3bb3-4b6e-b522-9bdae84e4a72",
   "metadata": {},
   "outputs": [
    {
     "name": "stdin",
     "output_type": "stream",
     "text": [
      " \n"
     ]
    },
    {
     "ename": "ValueError",
     "evalue": "invalid literal for int() with base 10: ''",
     "output_type": "error",
     "traceback": [
      "\u001b[1;31m---------------------------------------------------------------------------\u001b[0m",
      "\u001b[1;31mValueError\u001b[0m                                Traceback (most recent call last)",
      "Cell \u001b[1;32mIn[18], line 1\u001b[0m\n\u001b[1;32m----> 1\u001b[0m bags \u001b[38;5;241m=\u001b[39m [\u001b[38;5;28;43mint\u001b[39;49m\u001b[43m(\u001b[49m\u001b[38;5;28;43minput\u001b[39;49m\u001b[43m(\u001b[49m\u001b[43m)\u001b[49m\u001b[43m)\u001b[49m \u001b[38;5;28;01mfor\u001b[39;00m _ \u001b[38;5;129;01min\u001b[39;00m \u001b[38;5;28mrange\u001b[39m(k)]  \u001b[38;5;66;03m# 가방의 무게를 담은 리스트 입력\u001b[39;00m\n\u001b[0;32m      2\u001b[0m bags\u001b[38;5;241m.\u001b[39msort()  \u001b[38;5;66;03m# 가방을 오름차순으로 정렬\u001b[39;00m\n\u001b[0;32m      4\u001b[0m result \u001b[38;5;241m=\u001b[39m \u001b[38;5;241m0\u001b[39m  \u001b[38;5;66;03m# 결과값 초기화\u001b[39;00m\n",
      "\u001b[1;31mValueError\u001b[0m: invalid literal for int() with base 10: ''"
     ]
    }
   ],
   "source": [
    "bags = [int(input()) for _ in range(k)]  # 가방의 무게를 담은 리스트 입력\n",
    "bags.sort()  # 가방을 오름차순으로 정렬\n",
    "\n",
    "result = 0  # 결과값 초기화\n",
    "candidate_jewels = []  # 현재 가방에 넣을 수 있는 보석 후보를 담을 리스트\n",
    "\n",
    "for bag in bags:\n",
    "    while jewels and bag >= jewels[0][0]:\n",
    "        # 현재 가방에 넣을 수 있는 모든 보석 후보를 우선순위 큐에 추가\n",
    "        heapq.heappush(candidate_jewels, -heapq.heappop(jewels)[1])\n",
    "        ## heapq은 루트위치 즉, 제일 첫번째 위치에 최소값을 저장하는 함수니까 문제는 넣을 수 있는 무게중 가장 큰 가치의 값을 골라야 하니까\n",
    "        ## 무게를 모두 비교하되, 보석의 무게보다 작거나 같은값만 을 가져와 보석의 최솟값의 가치를 음수로 넣음으로써 힙을 사용했을때 가장 큰 가치의 값을\n",
    "        ## 빼와서 결과에 반영할 수 있도록 하고, 그럼 나머지 보석들이 남고 다시 두번째 가방에 들어갈 수 있는게 있으면 while문을 돌려서 추가로 넣고.\n",
    "        ## 결과에 반영하는건 다시 최소값. 즉, 최대가치를 결과에 반영하다가\n",
    "        ## 가방이 남아도 보석이 없을 수 있으니 보석이 없을때는 브레이크로 반복을 끝내버림.\n",
    "\n",
    "        ## 그래서 결국 힙은 최소값을 구하는 함수이고 이로써 배열의 최솟값이나 최대값을 구할 수 있고, pop으로써 큐를 활용해 불필요한 데이터를 추가 검색하지\n",
    "        ## 않기까지 이 두가지를 함으로써 매번 최대가치의 정렬과 사용한 데이터 삭제를 구현할 수 있는 것.\n",
    "\n",
    "    if candidate_jewels:\n",
    "        # 가방에 넣을 수 있는 보석 중 가치가 가장 높은 것을 선택\n",
    "        result -= heapq.heappop(candidate_jewels)\n",
    "    elif not jewels:\n",
    "        # 보석이 모두 소진되면 종료\n",
    "        break\n",
    "\n",
    "print(result)"
   ]
  },
  {
   "cell_type": "markdown",
   "id": "d5619d08-4fd0-4dda-8d72-9560989c9465",
   "metadata": {
    "jp-MarkdownHeadingCollapsed": true
   },
   "source": [
    "### heapq.heappush(candidate_jewels, -heapq.heappop(jewels)[1])\n",
    "### 이 구문에 대해 데이터로 자세히 설명해줘"
   ]
  },
  {
   "cell_type": "markdown",
   "id": "c61d4a6b-221b-4973-a277-4b8e2eb5f314",
   "metadata": {},
   "source": [
    "\n",
    "heapq.heappush(candidate_jewels, -heapq.heappop(jewels)[1])은 최소 힙을 활용한 우선순위 큐에서 현재 가방에 넣을 수 있는 보석 후보를 찾아서 candidate_jewels 리스트에 추가하는 과정을 나타냅니다.\n",
    "\n",
    "먼저, heapq.heappop(jewels)은 jewels 리스트에서 최소값을 꺼내오는 동작입니다. jewels 리스트는 보석 정보를 담고 있고, 각 보석은 (무게, 가치)의 형태로 저장되어 있습니다. 최소 힙이므로 이때 꺼내지는 값은 가장 작은 무게를 가진 보석입니다.\n",
    "\n",
    "다음으로 [1]은 보석 정보 중 가치를 나타냅니다. [0]은 무게를 나타냅니다. -heapq.heappop(jewels)[1]에서 -를 붙여서 가치의 부호를 변경하고, 이를 통해 최대 힙의 효과를 얻습니다. 최소 힙은 가장 작은 값이 루트에 위치하지만, 최대 힙은 가장 큰 값이 루트에 위치해야 합니다.\n",
    "\n",
    "마지막으로 heapq.heappush(candidate_jewels, ...)은 candidate_jewels 리스트에 가치를 음수로 바꾼 값을 최대 힙의 형태로 추가합니다. 이렇게 함으로써 candidate_jewels 리스트는 현재 가방에 넣을 수 있는 보석들 중 가치가 가장 높은 것이 루트에 위치하게 됩니다.\n",
    "\n",
    "이 과정은 현재 가방에 넣을 수 있는 모든 보석 후보를 우선순위 큐에 추가하는 것이며, 나중에 이 중에서 가장 가치가 높은 것을 선택하여 결과에 더해지게 됩니다."
   ]
  },
  {
   "cell_type": "markdown",
   "id": "2d754412-7d9e-4671-ae18-d99905aa003f",
   "metadata": {
    "jp-MarkdownHeadingCollapsed": true
   },
   "source": [
    "##  Day 6"
   ]
  },
  {
   "cell_type": "markdown",
   "id": "227a3bc6-3dfd-42d8-8b38-e2bee4f2d2bb",
   "metadata": {},
   "source": [
    "### 1302 베스트셀러"
   ]
  },
  {
   "cell_type": "code",
   "execution_count": null,
   "id": "de61db43-8f36-47f2-84b6-4833d5ed7691",
   "metadata": {},
   "outputs": [],
   "source": [
    "# 해쉬를 이용한 집합과 맵은 딕셔너리와 같다\n",
    "# 중복을 허용하지 않는 집합과(hashset), 키와 밸류의 쌍으로 이루어져\n",
    "# 키로 밸류를 찾을 수 있는 자료구조이다."
   ]
  },
  {
   "cell_type": "code",
   "execution_count": 6,
   "id": "ff6c9304-bd34-40c0-832c-199e2603d18a",
   "metadata": {},
   "outputs": [
    {
     "data": {
      "text/plain": [
       "['icecream',\n",
       " 'peanuts',\n",
       " 'peanuts',\n",
       " 'chocolate',\n",
       " 'candy',\n",
       " 'chocolate',\n",
       " 'icecream',\n",
       " 'apple']"
      ]
     },
     "execution_count": 6,
     "metadata": {},
     "output_type": "execute_result"
    }
   ],
   "source": [
    "n = int('8')\n",
    "books = list('icecream peanuts peanuts chocolate candy chocolate icecream apple'.split())"
   ]
  },
  {
   "cell_type": "code",
   "execution_count": 7,
   "id": "33941469-0288-4582-b488-8fa8dd9f7c28",
   "metadata": {},
   "outputs": [],
   "source": [
    "bookCnt = {}\n",
    "for book in books :    \n",
    "    if book in bookCnt :\n",
    "        bookCnt[book] += 1\n",
    "    else :\n",
    "        bookCnt[book] = 1    "
   ]
  },
  {
   "cell_type": "code",
   "execution_count": 21,
   "id": "a66c0ff7-67eb-4e1b-864a-84f92f1475f4",
   "metadata": {},
   "outputs": [
    {
     "data": {
      "text/plain": [
       "{'apple': 1, 'candy': 1, 'chocolate': 2, 'icecream': 2, 'peanuts': 2}"
      ]
     },
     "execution_count": 21,
     "metadata": {},
     "output_type": "execute_result"
    }
   ],
   "source": [
    "dict(sorted(bookCnt.items(), key= lambda x: (x[0], x[1]), ))"
   ]
  },
  {
   "cell_type": "code",
   "execution_count": 22,
   "id": "8571ae3e-c95e-455c-8653-8284f54e9661",
   "metadata": {},
   "outputs": [
    {
     "data": {
      "text/plain": [
       "{'icecream': 2, 'peanuts': 2, 'chocolate': 2, 'candy': 1, 'apple': 1}"
      ]
     },
     "execution_count": 22,
     "metadata": {},
     "output_type": "execute_result"
    }
   ],
   "source": [
    "bookCnt"
   ]
  },
  {
   "cell_type": "code",
   "execution_count": 26,
   "id": "dc837351-6c8d-48c1-8fa5-17ef4ee5b20b",
   "metadata": {},
   "outputs": [
    {
     "data": {
      "text/plain": [
       "dict_items([('icecream', 2), ('peanuts', 2), ('chocolate', 2), ('candy', 1), ('apple', 1)])"
      ]
     },
     "execution_count": 26,
     "metadata": {},
     "output_type": "execute_result"
    }
   ],
   "source": [
    "bookCnt.items()"
   ]
  },
  {
   "cell_type": "code",
   "execution_count": 28,
   "id": "9e40434c-39e1-4e5c-8bf6-4b883c30cf4b",
   "metadata": {},
   "outputs": [
    {
     "name": "stdout",
     "output_type": "stream",
     "text": [
      "icecream 2\n",
      "peanuts 2\n",
      "chocolate 2\n",
      "candy 1\n",
      "apple 1\n"
     ]
    }
   ],
   "source": [
    "tmpCnt = 0\n",
    "bestseller = ''\n",
    "for book, cnt in bookCnt.items() :\n",
    "    if cnt > tmpCnt or (bestseller > book and tmpCnt == cnt) :\n",
    "        bestseller = book\n",
    "        tmpCnt = cnt\n",
    "print(bestseller)"
   ]
  },
  {
   "cell_type": "code",
   "execution_count": 29,
   "id": "6788b71c-9b4c-4a4a-9b9d-667eb2a5fa66",
   "metadata": {},
   "outputs": [
    {
     "name": "stdout",
     "output_type": "stream",
     "text": [
      "chocolate\n"
     ]
    }
   ],
   "source": [
    "n = int('8')\n",
    "books = list('icecream peanuts peanuts chocolate candy chocolate icecream apple'.split())\n",
    "\n",
    "bookCnt = {}\n",
    "for book in books :    \n",
    "    if book in bookCnt :\n",
    "        bookCnt[book] += 1\n",
    "    else :\n",
    "        bookCnt[book] = 1    \n",
    "\n",
    "tmpCnt = 0\n",
    "bestseller = ''\n",
    "for book, cnt in bookCnt.items() :\n",
    "    if cnt > tmpCnt or (bestseller > book and tmpCnt == cnt) :\n",
    "        bestseller = book\n",
    "        tmpCnt = cnt\n",
    "print(bestseller)"
   ]
  },
  {
   "cell_type": "code",
   "execution_count": null,
   "id": "23331435-6d86-48dc-989e-4ff8309b520f",
   "metadata": {},
   "outputs": [],
   "source": [
    "n = int(input())\n",
    "books = [input() for i in range(n)]\n",
    "\n",
    "bookCnt = {}\n",
    "for book in books :    \n",
    "    if book in bookCnt :\n",
    "        bookCnt[book] += 1\n",
    "    else :\n",
    "        bookCnt[book] = 1    \n",
    "\n",
    "tmpCnt = 0\n",
    "bestseller = ''\n",
    "for book, cnt in bookCnt.items() :\n",
    "    if cnt > tmpCnt or (bestseller > book and tmpCnt == cnt) :\n",
    "        bestseller = book\n",
    "        tmpCnt = cnt\n",
    "print(bestseller)"
   ]
  },
  {
   "cell_type": "code",
   "execution_count": null,
   "id": "96a03404-57e5-4837-8998-f3ebc6f0fb40",
   "metadata": {},
   "outputs": [],
   "source": [
    "from collections import Counter\n",
    "\n",
    "n = int('8')\n",
    "books = list('icecream peanuts peanuts chocolate candy chocolate icecream apple'.split())\n",
    "\n",
    "bookCnt = Counter(books)\n",
    "\n",
    "maxSales = max(bookCnt.values())\n",
    "bestSeller = min(book for book, sales in bookCnt.items() if sales == maxSales)\n",
    "print(bestseller)"
   ]
  },
  {
   "cell_type": "code",
   "execution_count": 58,
   "id": "953a0225-137d-4b2e-af74-a8c0d3f73195",
   "metadata": {},
   "outputs": [
    {
     "data": {
      "text/plain": [
       "'chocolate'"
      ]
     },
     "execution_count": 58,
     "metadata": {},
     "output_type": "execute_result"
    }
   ],
   "source": [
    "min(a)"
   ]
  },
  {
   "cell_type": "code",
   "execution_count": null,
   "id": "f4040178-e15b-4e08-9ee4-d66edb2a8ff9",
   "metadata": {},
   "outputs": [],
   "source": [
    "from collections import Counter\n",
    "\n",
    "n = int(input())\n",
    "books = [input() for i in range(n)]\n",
    "\n",
    "bookCnt = Counter(books)\n",
    "\n",
    "maxSales = max(bookCnt.values())\n",
    "bestSeller = min(book for book, sales in bookCnt.items() if sales == maxSales)\n",
    "print(bestSeller)"
   ]
  },
  {
   "cell_type": "markdown",
   "id": "b96f7605-e64d-4477-a62b-b68cb4406205",
   "metadata": {
    "jp-MarkdownHeadingCollapsed": true
   },
   "source": [
    "## Day 8"
   ]
  },
  {
   "cell_type": "markdown",
   "id": "3a1b32d1-df8a-4427-a6fa-8204ef692ca6",
   "metadata": {},
   "source": [
    "### 1744 수 묶기"
   ]
  },
  {
   "cell_type": "code",
   "execution_count": 1,
   "id": "2864f520-2df9-4bd9-9fea-b1e3877dbedc",
   "metadata": {},
   "outputs": [],
   "source": [
    "# 정렬해서 뒤에서 부터 묶고 x, y중 수가 0 이거나 음수면은 묶지 않는다"
   ]
  },
  {
   "cell_type": "code",
   "execution_count": 27,
   "id": "5621743d-963d-4439-a70b-e132f7daa71b",
   "metadata": {},
   "outputs": [
    {
     "data": {
      "text/plain": [
       "[3, 2, 1, -1]"
      ]
     },
     "execution_count": 27,
     "metadata": {},
     "output_type": "execute_result"
    }
   ],
   "source": [
    "n = int('4')\n",
    "li = [-1, 2, 1, 3]\n",
    "# li = ['-1', '2', '1', '3']\n",
    "\n",
    "li.sort(reverse=True)\n",
    "li"
   ]
  },
  {
   "cell_type": "code",
   "execution_count": 22,
   "id": "33635745-9040-4ae8-ab7d-622c6933b156",
   "metadata": {},
   "outputs": [
    {
     "data": {
      "text/plain": [
       "['3', '2', '1', '-1']"
      ]
     },
     "execution_count": 22,
     "metadata": {},
     "output_type": "execute_result"
    }
   ],
   "source": [
    "li"
   ]
  },
  {
   "cell_type": "code",
   "execution_count": 23,
   "id": "bf74c779-53d2-4184-91ca-07410316e0e5",
   "metadata": {},
   "outputs": [
    {
     "ename": "TypeError",
     "evalue": "'str' object cannot be interpreted as an integer",
     "output_type": "error",
     "traceback": [
      "\u001b[1;31m---------------------------------------------------------------------------\u001b[0m",
      "\u001b[1;31mTypeError\u001b[0m                                 Traceback (most recent call last)",
      "Cell \u001b[1;32mIn[23], line 1\u001b[0m\n\u001b[1;32m----> 1\u001b[0m \u001b[43mli\u001b[49m\u001b[38;5;241;43m.\u001b[39;49m\u001b[43mpop\u001b[49m\u001b[43m(\u001b[49m\u001b[43mli\u001b[49m\u001b[43m[\u001b[49m\u001b[38;5;241;43m1\u001b[39;49m\u001b[43m]\u001b[49m\u001b[43m)\u001b[49m\n",
      "\u001b[1;31mTypeError\u001b[0m: 'str' object cannot be interpreted as an integer"
     ]
    }
   ],
   "source": [
    "li.pop(li[1])"
   ]
  },
  {
   "cell_type": "code",
   "execution_count": 28,
   "id": "e41d2170-46e6-4c58-bf0c-274f627978f3",
   "metadata": {},
   "outputs": [],
   "source": [
    "li.remove(li[1])"
   ]
  },
  {
   "cell_type": "code",
   "execution_count": 29,
   "id": "32a491b7-b46f-4532-bd42-d8c0019d8ec8",
   "metadata": {},
   "outputs": [
    {
     "data": {
      "text/plain": [
       "[3, 1, -1]"
      ]
     },
     "execution_count": 29,
     "metadata": {},
     "output_type": "execute_result"
    }
   ],
   "source": [
    "li"
   ]
  },
  {
   "cell_type": "code",
   "execution_count": null,
   "id": "2ff36cc6-0ed0-4541-97ca-c815497966d1",
   "metadata": {},
   "outputs": [],
   "source": [
    "n = int('4')\n",
    "li = [-1, 2, 1, 3]"
   ]
  },
  {
   "cell_type": "code",
   "execution_count": 3,
   "id": "d06e70f1-090c-4309-8204-5fdf6d450a39",
   "metadata": {},
   "outputs": [
    {
     "name": "stdin",
     "output_type": "stream",
     "text": [
      " 3\n",
      " -1\n",
      " 0\n",
      " 1\n"
     ]
    },
    {
     "name": "stdout",
     "output_type": "stream",
     "text": [
      "a1\n",
      "a4\n",
      "a3\n",
      "1\n"
     ]
    }
   ],
   "source": [
    "n = int(input())\n",
    "li = [int(input()) for _ in range(n)]\n",
    "\n",
    "li.sort(reverse=True)\n",
    "\n",
    "x, y, result = 0, 0, 0\n",
    "while li != [] :\n",
    "    if li[0] <= 0 :\n",
    "        if li[0] == 0 and len(li) > 1 :\n",
    "            print('a3')\n",
    "            x = li[0]\n",
    "            y = li[-1]\n",
    "            li.remove(x)\n",
    "            li.remove(y)\n",
    "        else :\n",
    "            print('a2')\n",
    "            x = li[0]\n",
    "            result += x\n",
    "            li.remove(li[0])\n",
    "    else :\n",
    "        print('a1')\n",
    "        x = li[0]\n",
    "        y = li[1]\n",
    "        if x == 1 or y == 1 :\n",
    "            print('a4')\n",
    "            # if x == 0 :\n",
    "            #     li.remove(x)\n",
    "            if y == 0 :\n",
    "                result += x       \n",
    "                li.remove(x)\n",
    "            \n",
    "            else :\n",
    "                result += x\n",
    "                result += y            \n",
    "                li.remove(x)\n",
    "                li.remove(y)\n",
    "        else :\n",
    "            if y <= 0 :\n",
    "                print('a5')\n",
    "                result += x\n",
    "                li.remove(x)\n",
    "            else :\n",
    "                print('a6')\n",
    "                result += (x*y)\n",
    "                li.remove(x)\n",
    "                li.remove(y)\n",
    "print(result)"
   ]
  },
  {
   "cell_type": "code",
   "execution_count": 26,
   "id": "5b289bc4-d0aa-4a66-881a-894c34783b79",
   "metadata": {},
   "outputs": [
    {
     "ename": "TypeError",
     "evalue": "unsupported operand type(s) for +=: 'int' and 'tuple'",
     "output_type": "error",
     "traceback": [
      "\u001b[1;31m---------------------------------------------------------------------------\u001b[0m",
      "\u001b[1;31mTypeError\u001b[0m                                 Traceback (most recent call last)",
      "Cell \u001b[1;32mIn[26], line 3\u001b[0m\n\u001b[0;32m      1\u001b[0m a, b \u001b[38;5;241m=\u001b[39m \u001b[38;5;241m1\u001b[39m, \u001b[38;5;241m2\u001b[39m\n\u001b[0;32m      2\u001b[0m c \u001b[38;5;241m=\u001b[39m \u001b[38;5;241m0\u001b[39m\n\u001b[1;32m----> 3\u001b[0m \u001b[43mc\u001b[49m\u001b[43m \u001b[49m\u001b[38;5;241;43m+\u001b[39;49m\u001b[38;5;241;43m=\u001b[39;49m\u001b[43m \u001b[49m\u001b[43ma\u001b[49m\u001b[43m,\u001b[49m\u001b[43m \u001b[49m\u001b[43mb\u001b[49m\n\u001b[0;32m      4\u001b[0m c\n",
      "\u001b[1;31mTypeError\u001b[0m: unsupported operand type(s) for +=: 'int' and 'tuple'"
     ]
    }
   ],
   "source": [
    "a, b = 1, 2\n",
    "c = 0\n",
    "c += a, b\n",
    "c"
   ]
  },
  {
   "cell_type": "code",
   "execution_count": 11,
   "id": "9fd7d590-b9cf-4101-a98d-beb8b063addd",
   "metadata": {},
   "outputs": [
    {
     "name": "stdout",
     "output_type": "stream",
     "text": [
      "[5, 2, 3, 4]\n"
     ]
    },
    {
     "data": {
      "text/plain": [
       "12"
      ]
     },
     "execution_count": 11,
     "metadata": {},
     "output_type": "execute_result"
    }
   ],
   "source": [
    "print(li)\n",
    "\n",
    "result"
   ]
  },
  {
   "cell_type": "code",
   "execution_count": 10,
   "id": "2f2d654e-8c39-4315-b0ce-affc89f03754",
   "metadata": {},
   "outputs": [
    {
     "name": "stdin",
     "output_type": "stream",
     "text": [
      " 2\n",
      " 1\n",
      " 1\n"
     ]
    },
    {
     "name": "stdout",
     "output_type": "stream",
     "text": [
      "2\n"
     ]
    }
   ],
   "source": [
    "n = int(input())\n",
    "li = [int(input()) for _ in range(n)]\n",
    "\n",
    "li.sort(reverse=True)\n",
    "\n",
    "x, y, result = 0, 0, 0\n",
    "while li != [] :\n",
    "    if li[0] <= 0 :\n",
    "        if li[0] == 0 and len(li) > 1 :\n",
    "            x = li[0]\n",
    "            y = li[-1]\n",
    "            li.remove(x)\n",
    "            li.remove(y)\n",
    "        else :\n",
    "            x = li[0]\n",
    "            result += x\n",
    "            li.remove(li[0])\n",
    "    else :\n",
    "        x = li[0]\n",
    "        y = li[1]\n",
    "        if x == 1 or y == 1 :\n",
    "            if y == 0 :\n",
    "                result += x       \n",
    "                li.remove(x)\n",
    "            \n",
    "            else :\n",
    "                result += x\n",
    "                result += y            \n",
    "                li.remove(x)\n",
    "                li.remove(y)\n",
    "        else :\n",
    "            if y <= 0 :\n",
    "                result += x\n",
    "                li.remove(x)\n",
    "            else :\n",
    "                result += (x*y)\n",
    "                li.remove(x)\n",
    "                li.remove(y)\n",
    "print(result)"
   ]
  },
  {
   "cell_type": "code",
   "execution_count": 15,
   "id": "014d8922-ece3-4b3d-a676-819901dc78ed",
   "metadata": {},
   "outputs": [
    {
     "name": "stdin",
     "output_type": "stream",
     "text": [
      " 2\n",
      " 1\n",
      " 1\n"
     ]
    },
    {
     "name": "stdout",
     "output_type": "stream",
     "text": [
      "2\n"
     ]
    }
   ],
   "source": [
    "n = int(input())\n",
    "numbers = []\n",
    "\n",
    "for _ in range(n):\n",
    "    numbers.append(int(input()))\n",
    "\n",
    "positive_numbers = [num for num in numbers if num > 0]\n",
    "negative_numbers = [num for num in numbers if num < 0]\n",
    "zero_numbers = [num for num in numbers if num == 0]\n",
    "\n",
    "positive_numbers.sort(reverse=True)\n",
    "negative_numbers.sort()\n",
    "\n",
    "result = 0\n",
    "\n",
    "# 양수 묶기\n",
    "for i in range(0, len(positive_numbers)-1, 2):\n",
    "    result += max(positive_numbers[i] * positive_numbers[i+1], positive_numbers[i] + positive_numbers[i+1])\n",
    "\n",
    "# 남은 양수 더하기\n",
    "if len(positive_numbers) % 2 == 1:\n",
    "    result += positive_numbers[-1]\n",
    "\n",
    "# 음수 묶기\n",
    "for i in range(0, len(negative_numbers)-1, 2):\n",
    "    result += negative_numbers[i] * negative_numbers[i+1]\n",
    "\n",
    "# 남은 음수 더하기\n",
    "if len(negative_numbers) % 2 == 1 and 0 not in zero_numbers:\n",
    "    result += negative_numbers[-1]\n",
    "\n",
    "print(result)\n"
   ]
  },
  {
   "cell_type": "markdown",
   "id": "c4db3f17-c94b-4b07-9eb7-b5d533b9f9fb",
   "metadata": {
    "jp-MarkdownHeadingCollapsed": true
   },
   "source": [
    "## Day 9"
   ]
  },
  {
   "cell_type": "markdown",
   "id": "3468e73f-12ac-4bf9-b0a8-98c7725575fa",
   "metadata": {},
   "source": [
    "### 10867 중복 빼고 정렬하기"
   ]
  },
  {
   "cell_type": "code",
   "execution_count": null,
   "id": "a61a7325-79eb-4d8c-8b19-23ea6556d4a7",
   "metadata": {},
   "outputs": [],
   "source": [
    "n = int(input())\n",
    "li = list(map(int, input().split()))\n",
    "\n",
    "set = set()\n",
    "set.update(li)"
   ]
  },
  {
   "cell_type": "code",
   "execution_count": 26,
   "id": "24bc477e-946b-44e7-83c2-fbe46a276a61",
   "metadata": {},
   "outputs": [
    {
     "data": {
      "text/plain": [
       "[1, 2, 3, 4]"
      ]
     },
     "execution_count": 26,
     "metadata": {},
     "output_type": "execute_result"
    }
   ],
   "source": [
    "result = list(set)\n",
    "result"
   ]
  },
  {
   "cell_type": "code",
   "execution_count": 29,
   "id": "60454d89-c34d-49c9-b6e2-0ce1bcfc13bb",
   "metadata": {},
   "outputs": [
    {
     "data": {
      "text/plain": [
       "{1, 2, 3, 4}"
      ]
     },
     "execution_count": 29,
     "metadata": {},
     "output_type": "execute_result"
    }
   ],
   "source": [
    "set"
   ]
  },
  {
   "cell_type": "code",
   "execution_count": 25,
   "id": "f903b7a9-3eb9-4b22-b6f4-b446148d6374",
   "metadata": {},
   "outputs": [
    {
     "data": {
      "text/plain": [
       "list"
      ]
     },
     "execution_count": 25,
     "metadata": {},
     "output_type": "execute_result"
    }
   ],
   "source": [
    "type(result)"
   ]
  },
  {
   "cell_type": "code",
   "execution_count": 27,
   "id": "d875ce88-0df2-40e8-bfb1-b1ce3ad11218",
   "metadata": {},
   "outputs": [
    {
     "name": "stdout",
     "output_type": "stream",
     "text": [
      "1 2 3 4 "
     ]
    }
   ],
   "source": [
    "for i in result :\n",
    "    print(i, end=' ')"
   ]
  },
  {
   "cell_type": "code",
   "execution_count": null,
   "id": "7609332d-0803-44c3-82d7-6ed86bfe1805",
   "metadata": {},
   "outputs": [],
   "source": [
    "n = int(input())\n",
    "li = list(map(int, input().split()))\n",
    "\n",
    "set = set()\n",
    "set.update(li)\n",
    "result = list(set)\n",
    "result.sort()\n",
    "\n",
    "for i in result :\n",
    "    print(i, end=' ')"
   ]
  },
  {
   "cell_type": "markdown",
   "id": "c9f64d85-ac4d-4a98-af30-329d72c5198b",
   "metadata": {},
   "source": [
    "## Day 10"
   ]
  },
  {
   "cell_type": "markdown",
   "id": "26ba21ea-fdb8-4446-9d56-8540d8f02dd1",
   "metadata": {},
   "source": [
    "### 2693 N번째 큰 수"
   ]
  },
  {
   "cell_type": "code",
   "execution_count": 1,
   "id": "77048282-b633-42bd-936a-782b171d12f7",
   "metadata": {},
   "outputs": [
    {
     "name": "stdin",
     "output_type": "stream",
     "text": [
      " 4\n",
      " 1 2 3 4 5 6 7 8 9 1000\n"
     ]
    },
    {
     "name": "stdout",
     "output_type": "stream",
     "text": [
      "8\n"
     ]
    },
    {
     "name": "stdin",
     "output_type": "stream",
     "text": [
      " 338 304 619 95 343 496 489 116 98 127\n"
     ]
    },
    {
     "name": "stdout",
     "output_type": "stream",
     "text": [
      "489\n"
     ]
    },
    {
     "name": "stdin",
     "output_type": "stream",
     "text": [
      " 931 240 986 894 826 640 965 833 136 138\n"
     ]
    },
    {
     "name": "stdout",
     "output_type": "stream",
     "text": [
      "931\n"
     ]
    },
    {
     "name": "stdin",
     "output_type": "stream",
     "text": [
      " 940 955 364 188 133 254 501 122 768 408\n"
     ]
    },
    {
     "name": "stdout",
     "output_type": "stream",
     "text": [
      "768\n"
     ]
    }
   ],
   "source": [
    "n = int(input())\n",
    "for _ in range(n) :\n",
    "    tmp = list(map(int, input().split()))\n",
    "    tmp.sort()\n",
    "    print(tmp[-3])"
   ]
  },
  {
   "cell_type": "markdown",
   "id": "ff58024d-a08e-41af-99e0-529269ead765",
   "metadata": {
    "jp-MarkdownHeadingCollapsed": true
   },
   "source": [
    "# 정렬 Day 11~"
   ]
  },
  {
   "cell_type": "markdown",
   "id": "1edceb00-89d5-42b8-b497-d36e365ad4ba",
   "metadata": {
    "jp-MarkdownHeadingCollapsed": true
   },
   "source": [
    "## Day 11"
   ]
  },
  {
   "cell_type": "markdown",
   "id": "afdf0e99-3fb2-4dcc-b69c-06ca74ae8ba6",
   "metadata": {},
   "source": [
    "### 11000 강의실 배정"
   ]
  },
  {
   "cell_type": "code",
   "execution_count": 26,
   "id": "c3274ff3-677f-4381-be7a-00908db6f484",
   "metadata": {},
   "outputs": [
    {
     "name": "stdin",
     "output_type": "stream",
     "text": [
      " 3\n",
      " 1 3\n",
      " 2 4\n",
      " 3 5\n"
     ]
    },
    {
     "name": "stdout",
     "output_type": "stream",
     "text": [
      "2\n"
     ]
    }
   ],
   "source": [
    "import heapq\n",
    "import sys\n",
    "\n",
    "n = int(sys.stdin.readline())\n",
    "time = []\n",
    "for _ in range(n) :\n",
    "    x, y = map(int, sys.stdin.readline().split())    \n",
    "    heapq.heappush(time, (x,y))\n",
    "\n",
    "result = 0\n",
    "newLi = []\n",
    "while newLi != [] or time != [] :\n",
    "    tmpPop = (0, 0)\n",
    "    for _ in range(len(time)) :\n",
    "        if time[0][0] < tmpPop[1] :\n",
    "            newAdd = heapq.heappop(time)\n",
    "            newLi.append(newAdd)\n",
    "        else :\n",
    "            tmpPop = heapq.heappop(time)\n",
    "    result += 1\n",
    "    time = newLi\n",
    "    newLi = []\n",
    "    \n",
    "print(result)"
   ]
  },
  {
   "cell_type": "code",
   "execution_count": null,
   "id": "bbf80048-8e00-4ead-ac28-62786e983cca",
   "metadata": {},
   "outputs": [],
   "source": [
    "import heapq\n",
    "import sys\n",
    "\n",
    "def classroom_assignment(lectures):\n",
    "    # 시작 시간을 기준으로 오름차순 정렬\n",
    "    lectures.sort(key=lambda x: x[0])\n",
    "    \n",
    "    # 최소 힙(min heap)을 사용하여 종료 시간을 관리\n",
    "    end_times = [lectures[0][1]]\n",
    "    heapq.heapify(end_times)\n",
    "    \n",
    "    # 모든 강의를 확인하면서 강의실을 배정\n",
    "    for i in range(1, len(lectures)):\n",
    "        # 현재 수업의 시작 시간이 가장 일찍 끝나는 수업의 종료 시간보다 크거나 같으면\n",
    "        # 같은 강의실을 사용할 수 있음\n",
    "        if lectures[i][0] >= end_times[0]:\n",
    "            heapq.heappop(end_times)\n",
    "        \n",
    "        # 현재 수업의 종료 시간을 힙에 추가\n",
    "        heapq.heappush(end_times, lectures[i][1])\n",
    "    \n",
    "    # 필요한 최소 강의실의 개수는 힙의 크기\n",
    "    return len(end_times)\n",
    "\n",
    "# 입력 받기\n",
    "n = int(sys.stdin.readline())\n",
    "lectures = []\n",
    "for _ in range(n):\n",
    "    start, end = map(int, sys.stdin.readline().split())\n",
    "    lectures.append((start, end))\n",
    "\n",
    "# 결과 출력\n",
    "result = classroom_assignment(lectures)\n",
    "print(result)\n"
   ]
  },
  {
   "cell_type": "markdown",
   "id": "d29dbd5d-5e85-49ba-9df3-e2657e2f6f58",
   "metadata": {
    "jp-MarkdownHeadingCollapsed": true
   },
   "source": [
    "## Day 12"
   ]
  },
  {
   "cell_type": "markdown",
   "id": "0bcfff21-6fc6-4791-acfc-cdc2f698a354",
   "metadata": {},
   "source": [
    "### 11652 카드"
   ]
  },
  {
   "cell_type": "code",
   "execution_count": null,
   "id": "a4b92baf-dc9b-4937-b429-81218ed2b6c1",
   "metadata": {},
   "outputs": [],
   "source": [
    "# 리스트로 받고 이를 집합으로 묶어서 유니크값을 추출하고 이를 딕셔너리에 카운트해서 하나씩 추가한다\n",
    "# 그리고 솔팅하고 제일 많은 카운트의 키값을 출력"
   ]
  },
  {
   "cell_type": "code",
   "execution_count": 19,
   "id": "e5f61ba6-1c49-48e3-850b-3e27c18dd660",
   "metadata": {},
   "outputs": [],
   "source": [
    "a = {}\n",
    "a[3] = 5"
   ]
  },
  {
   "cell_type": "code",
   "execution_count": 20,
   "id": "8ce4602e-ef90-4c25-af11-d0ee8c1ea6d1",
   "metadata": {},
   "outputs": [
    {
     "data": {
      "text/plain": [
       "{3: 5, 4: 2}"
      ]
     },
     "execution_count": 20,
     "metadata": {},
     "output_type": "execute_result"
    }
   ],
   "source": [
    "a[4] = 2\n",
    "a"
   ]
  },
  {
   "cell_type": "code",
   "execution_count": 23,
   "id": "874a0dea-4d12-4aa1-b939-3dc13b750a6e",
   "metadata": {},
   "outputs": [
    {
     "data": {
      "text/plain": [
       "dict_items([(3, 5), (4, 2)])"
      ]
     },
     "execution_count": 23,
     "metadata": {},
     "output_type": "execute_result"
    }
   ],
   "source": [
    "a.items()"
   ]
  },
  {
   "cell_type": "code",
   "execution_count": 31,
   "id": "a9145b60-9a77-426e-9579-73db8435692d",
   "metadata": {},
   "outputs": [
    {
     "name": "stdin",
     "output_type": "stream",
     "text": [
      " 1\n",
      " 2\n",
      " 1\n"
     ]
    }
   ],
   "source": [
    "n = int(input())\n",
    "li = []\n",
    "set = set()\n",
    "for _ in range(n) :\n",
    "    tmp = input()\n",
    "    li.append(tmp)\n",
    "    set.add(tmp)\n"
   ]
  },
  {
   "cell_type": "code",
   "execution_count": 41,
   "id": "1e6dd9ff-0592-4082-85ed-bba67cf73d66",
   "metadata": {},
   "outputs": [
    {
     "data": {
      "text/plain": [
       "{'1', '2'}"
      ]
     },
     "execution_count": 41,
     "metadata": {},
     "output_type": "execute_result"
    }
   ],
   "source": [
    "set"
   ]
  },
  {
   "cell_type": "code",
   "execution_count": 38,
   "id": "f6b9bd6f-2149-4c99-a2e3-6a74e6d9ece1",
   "metadata": {},
   "outputs": [
    {
     "data": {
      "text/plain": [
       "set"
      ]
     },
     "execution_count": 38,
     "metadata": {},
     "output_type": "execute_result"
    }
   ],
   "source": [
    "type(set)"
   ]
  },
  {
   "cell_type": "code",
   "execution_count": null,
   "id": "f8ed71c1-e441-4a5b-9bc4-dac3d698e10b",
   "metadata": {},
   "outputs": [],
   "source": [
    "import sys\n",
    "\n",
    "n = int(sys.stdin.readline())\n",
    "li = []\n",
    "set = set()\n",
    "for _ in range(n) :\n",
    "    tmp = input()\n",
    "    li.append(tmp)\n",
    "    set.add(tmp)\n",
    "\n",
    "dic = {}\n",
    "for i in set :\n",
    "    dic[i] = 0\n",
    "\n",
    "for i in li :\n",
    "    dic[i] += 1\n",
    "\n",
    "sortDic = sorted(dic.items(), key=lambda x: x[1], reverse=True)\n",
    "print(sortDic[0][0])"
   ]
  },
  {
   "cell_type": "code",
   "execution_count": 4,
   "id": "4a8c74bd-00bb-438e-9020-a3aca00fa26c",
   "metadata": {},
   "outputs": [
    {
     "name": "stdin",
     "output_type": "stream",
     "text": [
      " 3\n",
      " 1\n",
      " 2\n",
      " 1\n"
     ]
    },
    {
     "name": "stdout",
     "output_type": "stream",
     "text": [
      "1\n"
     ]
    }
   ],
   "source": [
    "n = int(input())\n",
    "li = []\n",
    "set = set()\n",
    "for _ in range(n) :\n",
    "    tmp = input()\n",
    "    li.append(tmp)\n",
    "    set.add(tmp)\n",
    "\n",
    "dic = {}\n",
    "for i in set :\n",
    "    dic[i] = 0\n",
    "\n",
    "for i in li :\n",
    "    dic[i] += 1\n",
    "\n",
    "sortDic = sorted(dic.items(), key=lambda x: x[1], reverse=True)\n",
    "print(int(sortDic[0][0]))"
   ]
  },
  {
   "cell_type": "code",
   "execution_count": null,
   "id": "d7b282e4-983a-4347-a319-7cb8d09a0f0c",
   "metadata": {},
   "outputs": [],
   "source": [
    "from collections import Counter\n",
    "\n",
    "n = int(input())\n",
    "cards = [int(input()) for _ in range(n)]\n",
    "\n",
    "# Counter를 사용하여 숫자별 등장 횟수를 세기\n",
    "counter = Counter(cards)\n",
    "\n",
    "# 가장 많이 등장한 숫자를 찾기\n",
    "most_common_cards = [key for key, value in counter.items() if value == max(counter.values())]\n",
    "\n",
    "# 여러 개일 경우 가장 작은 숫자 출력\n",
    "result = min(most_common_cards)\n",
    "\n",
    "print(result)\n"
   ]
  },
  {
   "cell_type": "code",
   "execution_count": null,
   "id": "c5e35528-5211-4c86-be46-3737948113ba",
   "metadata": {},
   "outputs": [],
   "source": [
    "from collections import Counter\n",
    "import sys\n",
    "\n",
    "n = int(sys.stdin.readline())\n",
    "cards = [int(sys.stdin.readline()) for _ in range(n)]\n",
    "\n",
    "# Counter를 사용하여 숫자별 등장 횟수를 세기\n",
    "counter = Counter(cards)\n",
    "\n",
    "# 가장 많이 등장한 숫자를 찾기\n",
    "most_common_cards = [key for key, value in counter.items() if value == max(counter.values())]\n",
    "\n",
    "# 여러 개일 경우 가장 작은 숫자 출력\n",
    "result = min(most_common_cards)\n",
    "\n",
    "print(result)\n"
   ]
  },
  {
   "cell_type": "code",
   "execution_count": null,
   "id": "47524a19-ca3e-4942-ad29-1dfa1ce21b08",
   "metadata": {},
   "outputs": [],
   "source": [
    "n = int(input())\n",
    "cards = [int(input()) for _ in range(n)]\n",
    "\n",
    "# 입력받은 숫자들을 정렬\n",
    "cards.sort()\n",
    "\n",
    "current_card = cards[0]\n",
    "current_count = 1\n",
    "max_count = 1\n",
    "result = current_card\n",
    "\n",
    "# 정렬된 숫자들을 순회하며 가장 많이 등장한 숫자 찾기\n",
    "for i in range(1, n):\n",
    "    if cards[i] == current_card:\n",
    "        current_count += 1\n",
    "    else:\n",
    "        current_card = cards[i]\n",
    "        current_count = 1\n",
    "\n",
    "    if current_count > max_count:\n",
    "        max_count = current_count\n",
    "        result = current_card\n",
    "\n",
    "print(result)\n"
   ]
  },
  {
   "cell_type": "markdown",
   "id": "c9b38d5e-75a1-46fd-bcf0-6c695a296b35",
   "metadata": {
    "jp-MarkdownHeadingCollapsed": true
   },
   "source": [
    "## Day 13"
   ]
  },
  {
   "cell_type": "markdown",
   "id": "3d47cda5-3876-4ba1-a975-2fcdcb80d86a",
   "metadata": {},
   "source": [
    "### 2822 점수 계산"
   ]
  },
  {
   "cell_type": "code",
   "execution_count": 5,
   "id": "0710a95f-ed2a-43c3-bd0f-958c17a1516b",
   "metadata": {},
   "outputs": [],
   "source": [
    "dic = {}\n",
    "a = '20 30 50 48 33 66 0 64'.split()\n",
    "for i in range(8) :\n",
    "    dic[i+1] = int(a[i])"
   ]
  },
  {
   "cell_type": "code",
   "execution_count": 6,
   "id": "6c9f73b6-1514-4eba-b0e9-44936584e347",
   "metadata": {},
   "outputs": [
    {
     "data": {
      "text/plain": [
       "{1: 20, 2: 30, 3: 50, 4: 48, 5: 33, 6: 66, 7: 0, 8: 64}"
      ]
     },
     "execution_count": 6,
     "metadata": {},
     "output_type": "execute_result"
    }
   ],
   "source": [
    "dic"
   ]
  },
  {
   "cell_type": "code",
   "execution_count": 9,
   "id": "ff7a8211-b7af-46a3-bd68-18a7239dfe51",
   "metadata": {},
   "outputs": [],
   "source": [
    "dicSort = sorted(dic.items(), key=lambda x: x[1], reverse=True)"
   ]
  },
  {
   "cell_type": "code",
   "execution_count": 10,
   "id": "90df3f20-f895-40c9-890f-b7e966f641dd",
   "metadata": {},
   "outputs": [
    {
     "data": {
      "text/plain": [
       "[(6, 66), (8, 64), (3, 50), (4, 48), (5, 33), (2, 30), (1, 20), (7, 0)]"
      ]
     },
     "execution_count": 10,
     "metadata": {},
     "output_type": "execute_result"
    }
   ],
   "source": [
    "dicSort"
   ]
  },
  {
   "cell_type": "code",
   "execution_count": 27,
   "id": "5f3a94f1-9caf-4386-a5ea-c84f42562cc6",
   "metadata": {},
   "outputs": [
    {
     "name": "stdout",
     "output_type": "stream",
     "text": [
      "261\n",
      "3 4 5 6 8 "
     ]
    }
   ],
   "source": [
    "sumScore = 0\n",
    "sumNum = []\n",
    "for i in range(5) :\n",
    "    tmp = dicSort[i]\n",
    "    num, score = tmp[0], tmp[1]\n",
    "    sumScore += score\n",
    "    sumNum.append(num)\n",
    "print(sumScore)\n",
    "sumNum.sort()\n",
    "for i in sumNum :\n",
    "    print(i, end=' ')"
   ]
  },
  {
   "cell_type": "code",
   "execution_count": 17,
   "id": "ab74fbfa-d89c-47ca-970e-ad6f3c7907b9",
   "metadata": {},
   "outputs": [
    {
     "data": {
      "text/plain": [
       "[3, 4, 5, 6, 8]"
      ]
     },
     "execution_count": 17,
     "metadata": {},
     "output_type": "execute_result"
    }
   ],
   "source": [
    "sumNum.sort()\n",
    "sumNum"
   ]
  },
  {
   "cell_type": "code",
   "execution_count": 28,
   "id": "c00e43d7-1016-4ace-8e7e-d268c49796a6",
   "metadata": {},
   "outputs": [
    {
     "name": "stdin",
     "output_type": "stream",
     "text": [
      " 20\n",
      " 30\n",
      " 50\n",
      " 48\n",
      " 33\n",
      " 66\n",
      " 0\n",
      " 64\n"
     ]
    },
    {
     "name": "stdout",
     "output_type": "stream",
     "text": [
      "261\n",
      "3 4 5 6 8 "
     ]
    }
   ],
   "source": [
    "dic = {}\n",
    "for i in range(8) :\n",
    "    dic[i+1] = int(input())\n",
    "dicSort = sorted(dic.items(), key=lambda x: x[1], reverse=True)\n",
    "\n",
    "sumScore = 0\n",
    "sumNum = []\n",
    "for i in range(5) :\n",
    "    tmp = dicSort[i]\n",
    "    num, score = tmp[0], tmp[1]\n",
    "    sumScore += score\n",
    "    sumNum.append(num)\n",
    "print(sumScore)\n",
    "sumNum.sort()\n",
    "for i in sumNum :\n",
    "    print(i, end=' ')"
   ]
  },
  {
   "cell_type": "markdown",
   "id": "107115af-b33b-43cc-99a9-50cf08314d25",
   "metadata": {
    "jp-MarkdownHeadingCollapsed": true
   },
   "source": [
    "## Day 15"
   ]
  },
  {
   "cell_type": "markdown",
   "id": "fd47deeb-ca4e-488f-a5ba-3bdc6fbec9b8",
   "metadata": {},
   "source": [
    "### 1940 주몽"
   ]
  },
  {
   "cell_type": "code",
   "execution_count": 13,
   "id": "99ea376d-f489-454e-8bb0-85e8e00e345c",
   "metadata": {},
   "outputs": [
    {
     "data": {
      "text/plain": [
       "[1, 2, 3, 4, 5, 7]"
      ]
     },
     "execution_count": 13,
     "metadata": {},
     "output_type": "execute_result"
    }
   ],
   "source": [
    "li"
   ]
  },
  {
   "cell_type": "code",
   "execution_count": 16,
   "id": "0dc6439d-5200-487a-abd3-f6c6e8ce0a20",
   "metadata": {},
   "outputs": [
    {
     "name": "stdin",
     "output_type": "stream",
     "text": [
      " 6\n",
      " 9\n",
      " 2 7 4 1 5 3\n"
     ]
    },
    {
     "name": "stdout",
     "output_type": "stream",
     "text": [
      "2\n"
     ]
    }
   ],
   "source": [
    "n = int(input())\n",
    "m = int(input())\n",
    "li = list(map(int, input().split()))\n",
    "li.sort()\n",
    "\n",
    "left, right = 0, len(li)-1\n",
    "result = 0\n",
    "while left < right :    \n",
    "    if (li[left] + li[right]) >= m :\n",
    "        result += 1\n",
    "        left += 1\n",
    "        right -= 1\n",
    "    else :\n",
    "        left += 1\n",
    "print(result)"
   ]
  },
  {
   "cell_type": "code",
   "execution_count": null,
   "id": "eaaf0dc1-5f37-48d6-b1a0-6dacda443dee",
   "metadata": {},
   "outputs": [],
   "source": [
    "def find_armor_pairs(arr, target):\n",
    "    arr.sort()  # 배열을 정렬합니다.\n",
    "    count_pairs = 0\n",
    "    left, right = 0, len(arr) - 1\n",
    "\n",
    "    while left < right:\n",
    "        current_sum = arr[left] + arr[right]\n",
    "\n",
    "        if current_sum == target:\n",
    "            count_pairs += 1\n",
    "            left += 1\n",
    "            right -= 1\n",
    "        elif current_sum < target:\n",
    "            left += 1\n",
    "        else:\n",
    "            right -= 1\n",
    "\n",
    "    return count_pairs\n",
    "\n",
    "if __name__ == \"__main__\":\n",
    "    N = int(input())  # 배열의 크기\n",
    "    M = int(input())  # 목표 합\n",
    "\n",
    "    armor_list = list(map(int, input().split()))\n",
    "\n",
    "    result = find_armor_pairs(armor_list, M)\n",
    "    print(result)\n"
   ]
  },
  {
   "cell_type": "markdown",
   "id": "3d551b7c-54e8-4a2f-bd5c-2a5cb6220a2e",
   "metadata": {
    "jp-MarkdownHeadingCollapsed": true
   },
   "source": [
    "## Day 16"
   ]
  },
  {
   "cell_type": "markdown",
   "id": "f4253359-c8ba-41eb-97d7-3ca6dcfcece0",
   "metadata": {},
   "source": [
    "### 5052 전화번호 목록"
   ]
  },
  {
   "cell_type": "code",
   "execution_count": null,
   "id": "efa05dd1-7edb-414a-b8d0-1c1d010e05ec",
   "metadata": {},
   "outputs": [],
   "source": [
    "def is_consistent(numbers):\n",
    "    numbers.sort()  # 전화번호를 사전순으로 정렬\n",
    "\n",
    "    for i in range(len(numbers) - 1):\n",
    "        if numbers[i] == numbers[i + 1][:len(numbers[i])]:\n",
    "            return \"NO\"\n",
    "\n",
    "    return \"YES\"\n",
    "\n",
    "# 입력 받기\n",
    "t = int(input())  # 테스트 케이스의 수\n",
    "\n",
    "for _ in range(t):\n",
    "    n = int(input())  # 전화번호의 수\n",
    "    phone_numbers = [input() for _ in range(n)]  # 전화번호들의 리스트\n",
    "    result = is_consistent(phone_numbers)\n",
    "    print(result)\n"
   ]
  },
  {
   "cell_type": "markdown",
   "id": "c4606e48-198a-4ba3-b684-0dcbc6bdb8ec",
   "metadata": {
    "jp-MarkdownHeadingCollapsed": true
   },
   "source": [
    "## Day 17"
   ]
  },
  {
   "cell_type": "markdown",
   "id": "4c1e2d9c-827e-4e18-a04a-8d4262a603ea",
   "metadata": {},
   "source": [
    "### 1449 수리공 항승"
   ]
  },
  {
   "cell_type": "code",
   "execution_count": null,
   "id": "9b6ca250-0276-400f-9ebc-54cfe89445b1",
   "metadata": {},
   "outputs": [],
   "source": [
    "n, l = map(int, input().split())\n",
    "point = list(map(int, input().split()))\n",
    "\n",
    "point.sort()\n",
    "pointCur = point[0]\n",
    "currentTape = pointCur +l -1\n",
    "tapeCnt = 1\n",
    "for i in range(1, n) :   \n",
    "    if point[i] <= currentTape :\n",
    "        pass\n",
    "    else :        \n",
    "        pointCur = point[i]\n",
    "        currentTape = pointCur +l -1\n",
    "        tapeCnt += 1\n",
    "print(tapeCnt)"
   ]
  },
  {
   "cell_type": "code",
   "execution_count": 12,
   "id": "9a8095d4-c964-45f2-bc8d-5b94cb64ca8c",
   "metadata": {},
   "outputs": [
    {
     "name": "stdout",
     "output_type": "stream",
     "text": [
      "a 1\n",
      "1 2 1\n",
      "a 2\n",
      "1 2 1\n",
      "b 100 101 2\n",
      "a 3\n",
      "100 101 2\n",
      "2\n"
     ]
    }
   ],
   "source": [
    "point.sort()\n",
    "pointCur = point[0]\n",
    "currentTape = pointCur +l -1\n",
    "tapeCnt = 1\n",
    "for i in range(1, n) :\n",
    "    print('a', i)\n",
    "    print(pointCur, currentTape, tapeCnt)\n",
    "    if point[i] <= currentTape :\n",
    "        pass\n",
    "    else :        \n",
    "        pointCur = point[i]\n",
    "        currentTape = pointCur +l -1\n",
    "        tapeCnt += 1\n",
    "        print('b', pointCur, currentTape, tapeCnt)\n",
    "print(tapeCnt)        "
   ]
  },
  {
   "cell_type": "code",
   "execution_count": null,
   "id": "c5ccd726-8253-419d-8233-e28918935200",
   "metadata": {},
   "outputs": [],
   "source": []
  },
  {
   "cell_type": "code",
   "execution_count": null,
   "id": "b0aeeef2-4153-4bcd-baeb-3cfcb2b8fc9b",
   "metadata": {},
   "outputs": [],
   "source": []
  },
  {
   "cell_type": "markdown",
   "id": "a96cfcf5-4d67-4f65-a16a-2f949344e095",
   "metadata": {
    "jp-MarkdownHeadingCollapsed": true
   },
   "source": [
    "## Day 18"
   ]
  },
  {
   "cell_type": "markdown",
   "id": "81bca9d4-eb33-4a1c-92f9-02edad4e5eda",
   "metadata": {},
   "source": [
    "### 2075 N번째 큰 수"
   ]
  },
  {
   "cell_type": "code",
   "execution_count": null,
   "id": "901b556b-56ae-45ca-894c-e15079725554",
   "metadata": {},
   "outputs": [],
   "source": [
    "n = int(input())\n",
    "li = []\n",
    "for _ in range(n) :\n",
    "    tmpLi = list(map(int, input().split()))\n",
    "    li= li+ tmpLi\n",
    "\n",
    "resultLi = sorted(li)\n",
    "print(resultLi[-5])"
   ]
  },
  {
   "cell_type": "code",
   "execution_count": null,
   "id": "385a6f25-caee-4443-b6cc-2605eaadd307",
   "metadata": {},
   "outputs": [],
   "source": [
    "import sys\n",
    "sys.stdin.readline()"
   ]
  },
  {
   "cell_type": "code",
   "execution_count": null,
   "id": "0634ef56-bc60-4602-95d9-7d8f5d6bbf07",
   "metadata": {},
   "outputs": [],
   "source": [
    "import heapq\n",
    "\n",
    "def find_nth_largest(matrix, n):\n",
    "    heap = []\n",
    "    for row in matrix:\n",
    "        for num in row:\n",
    "            heapq.heappush(heap, num)\n",
    "            if len(heap) > n:\n",
    "                heapq.heappop(heap)\n",
    "    \n",
    "    return heapq.heappop(heap)\n",
    "\n",
    "if __name__ == \"__main__\":\n",
    "    N = int(input())\n",
    "    matrix = [list(map(int, input().split())) for _ in range(N)]\n",
    "\n",
    "    result = find_nth_largest(matrix, N)\n",
    "    print(result)\n"
   ]
  },
  {
   "cell_type": "markdown",
   "id": "0b397066-0248-4807-9d2a-9293789232cd",
   "metadata": {},
   "source": [
    "# 스택 Day 19~"
   ]
  },
  {
   "cell_type": "markdown",
   "id": "b27e0909-a4ec-48f0-bec1-7b60e6ea8818",
   "metadata": {
    "jp-MarkdownHeadingCollapsed": true
   },
   "source": [
    "## Day 19"
   ]
  },
  {
   "cell_type": "markdown",
   "id": "080e9084-859f-40db-8d3a-15eb4b6bc7d2",
   "metadata": {},
   "source": [
    "### 9012 괄호"
   ]
  },
  {
   "cell_type": "code",
   "execution_count": null,
   "id": "09e646f3-308a-4624-8588-b9ea7f6ec314",
   "metadata": {},
   "outputs": [],
   "source": [
    "# 여는괄호만 스택에 따로 담은다음 닫는괄호가 나왔을때는 쌍이 이루어 지므로 스택에서\n",
    "# pop한다 그래서 결국 스택이 비어있으면 모두가 쌍이 맞는것이므로 yes고 남아있으면\n",
    "# no. 그러나 닫는괄호가 먼저나올 경우엔 이루어질 쌍이 없으니 no로 return 한다."
   ]
  },
  {
   "cell_type": "code",
   "execution_count": null,
   "id": "595008a9-33f2-423b-a08d-1e3c7b54bd65",
   "metadata": {},
   "outputs": [],
   "source": [
    "def is_valid_parenthesis(s):\n",
    "    stack = []\n",
    "\n",
    "    for char in s:\n",
    "        if char == '(':\n",
    "            stack.append('(')\n",
    "        else:\n",
    "            if not stack:\n",
    "                return \"NO\"  # 닫는 괄호가 먼저 나온 경우\n",
    "            stack.pop()\n",
    "\n",
    "    if not stack:\n",
    "        return \"YES\"  # 스택이 비어있으면 올바른 괄호 문자열\n",
    "    else:\n",
    "        return \"NO\"   # 스택에 남아있으면 올바르지 않은 괄호 문자열\n",
    "\n",
    "# 입력 받기\n",
    "n = int(input())\n",
    "for _ in range(n):\n",
    "    parentheses = input()\n",
    "    result = is_valid_parenthesis(parentheses)\n",
    "    print(result)\n"
   ]
  },
  {
   "cell_type": "markdown",
   "id": "9b52aa33-3aef-4f59-9440-fe90318162b8",
   "metadata": {
    "jp-MarkdownHeadingCollapsed": true
   },
   "source": [
    "## Day 20"
   ]
  },
  {
   "cell_type": "markdown",
   "id": "39c37114-6720-41f8-bf80-ccd6e032e606",
   "metadata": {},
   "source": [
    "### 10828 스택"
   ]
  },
  {
   "cell_type": "code",
   "execution_count": null,
   "id": "204e76e4-6f96-4cca-9865-7206466a71bc",
   "metadata": {},
   "outputs": [],
   "source": [
    "n = int(input())\n",
    "\n",
    "stack = []\n",
    "for _ in range(n) :\n",
    "    command = input()\n",
    "    if 'push' in command :\n",
    "        x, num= command.split()\n",
    "        stack.append(int(num))\n",
    "    if command == 'top' :\n",
    "        if stack == [] :\n",
    "            print(-1)\n",
    "        else :\n",
    "            print(stack[-1])\n",
    "    if command == 'pop' :\n",
    "        if stack == [] :\n",
    "            print(-1)\n",
    "        else :\n",
    "            tmp= stack.pop(-1)\n",
    "            print(tmp)\n",
    "    if command == 'size' :\n",
    "        print(len(stack))\n",
    "    if command == 'empty' :\n",
    "        if stack == [] :\n",
    "            print(1)\n",
    "        else :            \n",
    "            print(0)        "
   ]
  },
  {
   "cell_type": "code",
   "execution_count": null,
   "id": "ba95f267-73bc-4e62-a102-675f954308c1",
   "metadata": {},
   "outputs": [],
   "source": [
    "import sys\n",
    "\n",
    "n = int(sys.stdin.readline())\n",
    "\n",
    "stack = []\n",
    "for _ in range(n) :\n",
    "    command = sys.stdin.readline().strip()\n",
    "    if 'push' in command :\n",
    "        x, num= command.split()\n",
    "        stack.append(int(num))\n",
    "    if command == 'top' :\n",
    "        if stack == [] :\n",
    "            print(-1)\n",
    "        else :\n",
    "            print(stack[-1])\n",
    "    if command == 'pop' :\n",
    "        if stack == [] :\n",
    "            print(-1)\n",
    "        else :\n",
    "            tmp= stack.pop(-1)\n",
    "            print(tmp)\n",
    "    if command == 'size' :\n",
    "        print(len(stack))\n",
    "    if command == 'empty' :\n",
    "        if stack == [] :\n",
    "            print(1)\n",
    "        else :            \n",
    "            print(0)        "
   ]
  },
  {
   "cell_type": "code",
   "execution_count": null,
   "id": "b538b38c-5f35-45e6-9703-f0bdac0ed8da",
   "metadata": {},
   "outputs": [],
   "source": [
    "# 결론 : sys는 개행문자를 포함하기에 strip()을 추가해야됨\n",
    "# 또한 if 나 elif이나 시간의 차이가 없음."
   ]
  },
  {
   "cell_type": "code",
   "execution_count": 6,
   "id": "de8e6b97-ac3f-400c-93e1-c567c3972ffe",
   "metadata": {},
   "outputs": [
    {
     "name": "stdout",
     "output_type": "stream",
     "text": [
      "cherry\n"
     ]
    },
    {
     "data": {
      "text/plain": [
       "2"
      ]
     },
     "execution_count": 6,
     "metadata": {},
     "output_type": "execute_result"
    }
   ],
   "source": [
    "fruits = ['apple', 'banana', 'cherry']\n",
    "\n",
    "tmp= fruits.pop(-1)\n",
    "print(tmp)\n",
    "len(fruits)"
   ]
  },
  {
   "cell_type": "code",
   "execution_count": 9,
   "id": "7656e2de-d216-4a05-979e-8e0d05ae714e",
   "metadata": {},
   "outputs": [
    {
     "data": {
      "text/plain": [
       "True"
      ]
     },
     "execution_count": 9,
     "metadata": {},
     "output_type": "execute_result"
    }
   ],
   "source": [
    "command = 'push 123'\n",
    "if 'push' in command :\n",
    "    x, num= command.split()\n",
    "    stack.append(int(num))\n",
    "    "
   ]
  },
  {
   "cell_type": "code",
   "execution_count": null,
   "id": "4a2d2dee-011a-4b04-aaf8-33db7a6bd273",
   "metadata": {},
   "outputs": [],
   "source": [
    "import sys\n",
    "\n",
    "class Stack:\n",
    "    def __init__(self):\n",
    "        self.items = []\n",
    "\n",
    "    def push(self, item):\n",
    "        self.items.append(item)\n",
    "\n",
    "    def pop(self):\n",
    "        if not self.is_empty():\n",
    "            return self.items.pop()\n",
    "        else:\n",
    "            return -1  # 스택이 비어있을 경우 -1 반환\n",
    "\n",
    "    def size(self):\n",
    "        return len(self.items)\n",
    "\n",
    "    def is_empty(self):\n",
    "        return len(self.items) == 0\n",
    "\n",
    "    def top(self):\n",
    "        if not self.is_empty():\n",
    "            return self.items[-1]\n",
    "        else:\n",
    "            return -1  # 스택이 비어있을 경우 -1 반환\n",
    "\n",
    "# 입력 받기\n",
    "n = int(sys.stdin.readline().rstrip())\n",
    "stack = Stack()\n",
    "\n",
    "# 명령어 처리\n",
    "for _ in range(n):\n",
    "    command = sys.stdin.readline().split()\n",
    "\n",
    "    if command[0] == 'push':\n",
    "        stack.push(int(command[1]))\n",
    "    elif command[0] == 'pop':\n",
    "        print(stack.pop())\n",
    "    elif command[0] == 'size':\n",
    "        print(stack.size())\n",
    "    elif command[0] == 'empty':\n",
    "        print(1 if stack.is_empty() else 0)\n",
    "    elif command[0] == 'top':\n",
    "        print(stack.top())\n"
   ]
  },
  {
   "cell_type": "markdown",
   "id": "b7029434-9b86-4bb1-be5c-36c59e330840",
   "metadata": {
    "jp-MarkdownHeadingCollapsed": true
   },
   "source": [
    "## Day 22"
   ]
  },
  {
   "cell_type": "markdown",
   "id": "eb30d3a2-dc1b-4fb0-94f2-257b2fc34548",
   "metadata": {},
   "source": [
    "### 10773 제로"
   ]
  },
  {
   "cell_type": "code",
   "execution_count": null,
   "id": "d7a3d639-e9b8-4928-b46b-a844dbdddd94",
   "metadata": {},
   "outputs": [],
   "source": [
    "import sys\n",
    "\n",
    "def zero_problem(k, numbers):\n",
    "    stack = []\n",
    "\n",
    "    for num in numbers:\n",
    "        if num == 0:\n",
    "            stack.pop()\n",
    "        else:\n",
    "            stack.append(num)\n",
    "\n",
    "    result = sum(stack)\n",
    "    return result\n",
    "\n",
    "# 입력 받기\n",
    "k = int(sys.stdin.readline())\n",
    "numbers = [int(sys.stdin.readline()) for _ in range(k)]\n",
    "\n",
    "# 문제 풀이 및 결과 출력\n",
    "answer = zero_problem(k, numbers)\n",
    "print(answer)\n"
   ]
  },
  {
   "cell_type": "markdown",
   "id": "0e614a15-d596-4203-ba99-b68e50da203a",
   "metadata": {
    "jp-MarkdownHeadingCollapsed": true
   },
   "source": [
    "## Day 24"
   ]
  },
  {
   "cell_type": "markdown",
   "id": "f7de11d2-4ea7-4319-bde8-9bf0e55fb11f",
   "metadata": {},
   "source": [
    "### 1874 스택수열"
   ]
  },
  {
   "cell_type": "code",
   "execution_count": null,
   "id": "63452168-4ead-4ece-acb6-21aec98a54b8",
   "metadata": {},
   "outputs": [],
   "source": [
    "n = int(input())\n",
    "sequence = [int(input()) for _ in range(n)]\n",
    "\n",
    "stack = []\n",
    "result = []\n",
    "current = 1\n",
    "\n",
    "for num in sequence:\n",
    "    while not stack or stack[-1] != num:\n",
    "        if current > n + 1:  # 현재 수열의 값이 N보다 크면 만들 수 없음\n",
    "            print(\"NO\")\n",
    "            exit()\n",
    "        stack.append(current)\n",
    "        result.append('+')\n",
    "        current += 1\n",
    "\n",
    "    # 스택에 다 넣고 무조건 한번 팝하네?\n",
    "    if stack[-1] == num:\n",
    "        stack.pop()\n",
    "        result.append('-')\n",
    "\n",
    "for op in result:\n",
    "    print(op)\n",
    "# 이해는 했음 즉, 스택에 수열을 1부터 순서대로 넣을때 pop으로 빼낸 값을 가지고\n",
    "# 원하는 수열을 만들 수 있는가에 대한 문제군."
   ]
  },
  {
   "cell_type": "code",
   "execution_count": 7,
   "id": "c37440b5-a722-4bd1-aa43-04a0e47e351c",
   "metadata": {},
   "outputs": [
    {
     "data": {
      "text/plain": [
       "True"
      ]
     },
     "execution_count": 7,
     "metadata": {},
     "output_type": "execute_result"
    }
   ],
   "source": [
    "a = []\n",
    "not a"
   ]
  },
  {
   "cell_type": "markdown",
   "id": "03985ff8-fa7a-475d-a8d6-ef8d85f6dede",
   "metadata": {
    "jp-MarkdownHeadingCollapsed": true
   },
   "source": [
    "## Day 25"
   ]
  },
  {
   "cell_type": "markdown",
   "id": "aacdc85d-8cd9-4640-9b2d-8897986b0866",
   "metadata": {},
   "source": [
    "### 4949 균형잡힌 세상"
   ]
  },
  {
   "cell_type": "code",
   "execution_count": null,
   "id": "6fdfe708-6c0d-4e19-8468-7f771137e36f",
   "metadata": {},
   "outputs": [],
   "source": [
    "while True:\n",
    "    string = input()\n",
    "    if string == '.':\n",
    "        break\n",
    "\n",
    "    stack = []\n",
    "    is_balanced = True\n",
    "\n",
    "    for char in string:\n",
    "        if char in '([':\n",
    "            stack.append(char)\n",
    "        elif char in ')]':\n",
    "            if not stack or (char == ')' and stack[-1] != '(') or (char == ']' and stack[-1] != '['):\n",
    "                is_balanced = False\n",
    "                break\n",
    "            stack.pop()\n",
    "\n",
    "    if is_balanced and not stack:\n",
    "        print('yes')\n",
    "    else:\n",
    "        print('no')\n"
   ]
  },
  {
   "cell_type": "markdown",
   "id": "486429a6-1b15-472b-9819-bafcd2f6d896",
   "metadata": {
    "jp-MarkdownHeadingCollapsed": true
   },
   "source": [
    "## Day 26"
   ]
  },
  {
   "cell_type": "markdown",
   "id": "116340f8-0b72-461c-ad05-1420cb492377",
   "metadata": {},
   "source": [
    "### 10799 쇠막대기"
   ]
  },
  {
   "cell_type": "code",
   "execution_count": null,
   "id": "05993665-5abe-42ef-818a-5bdcc66c45fe",
   "metadata": {},
   "outputs": [],
   "source": [
    "def count_pieces(s):\n",
    "    stack = []\n",
    "    result = 0\n",
    "\n",
    "    for i in range(len(s)):\n",
    "        if s[i] == '(':\n",
    "            stack.append(i)\n",
    "        else:  # s[i] == ')'\n",
    "            if stack[-1] == i - 1:  # 레이저인 경우\n",
    "                stack.pop()\n",
    "                result += len(stack)\n",
    "            else:  # 막대의 끝인 경우\n",
    "                stack.pop()\n",
    "                result += 1\n",
    "\n",
    "    return result\n",
    "\n",
    "if __name__ == \"__main__\":\n",
    "    parentheses = input()\n",
    "    print(count_pieces(parentheses))\n"
   ]
  },
  {
   "cell_type": "markdown",
   "id": "d635c76a-c322-4450-ae61-c923698778d7",
   "metadata": {
    "jp-MarkdownHeadingCollapsed": true
   },
   "source": [
    "## Day 27"
   ]
  },
  {
   "cell_type": "markdown",
   "id": "40ddd7f4-0df8-46bf-b6df-4f34dde4ca0b",
   "metadata": {},
   "source": [
    "### 1406 에디터"
   ]
  },
  {
   "cell_type": "code",
   "execution_count": null,
   "id": "3b668445-04d0-4def-b3bf-a14cc5dbafa9",
   "metadata": {},
   "outputs": [],
   "source": [
    "import sys\n",
    "\n",
    "left_stack = list(sys.stdin.readline().strip())\n",
    "right_stack = []\n",
    "\n",
    "n = int(sys.stdin.readline().strip())\n",
    "\n",
    "for _ in range(n):\n",
    "    command = sys.stdin.readline().split()\n",
    "\n",
    "    if command[0] == 'L':\n",
    "        if left_stack:\n",
    "            right_stack.append(left_stack.pop())\n",
    "    elif command[0] == 'D':\n",
    "        if right_stack:\n",
    "            left_stack.append(right_stack.pop())\n",
    "    elif command[0] == 'B':\n",
    "        if left_stack:\n",
    "            left_stack.pop()\n",
    "    elif command[0] == 'P':\n",
    "        left_stack.append(command[1])\n",
    "\n",
    "# left_stack과 right_stack을 합쳐서 결과 출력\n",
    "result = ''.join(left_stack + list(reversed(right_stack)))\n",
    "print(result)\n"
   ]
  },
  {
   "cell_type": "markdown",
   "id": "6cb11c97-2d03-4190-97aa-5edbcb2873b9",
   "metadata": {
    "jp-MarkdownHeadingCollapsed": true
   },
   "source": [
    "## Day 30"
   ]
  },
  {
   "cell_type": "markdown",
   "id": "1b7e033d-3b7b-429d-a400-8f42eead78de",
   "metadata": {},
   "source": [
    "### 17298 오큰수"
   ]
  },
  {
   "cell_type": "code",
   "execution_count": null,
   "id": "cb5cb6cb-b8f8-47c6-b407-8f670ba5df54",
   "metadata": {},
   "outputs": [],
   "source": [
    "n = int(input())\n",
    "A = list(map(int, input().split()))\n",
    "\n",
    "index = 0\n",
    "for i in A :\n",
    "    cnt = 0\n",
    "    index += 1    \n",
    "    for j in A[index:] :\n",
    "        if i < j :\n",
    "            print(j)\n",
    "            cnt += 1\n",
    "            break\n",
    "    if cnt == 0 :\n",
    "        print(-1)        "
   ]
  },
  {
   "cell_type": "code",
   "execution_count": null,
   "id": "ad84bba0-fb77-41bf-8b65-d7323ad28081",
   "metadata": {},
   "outputs": [],
   "source": [
    "import sys\n",
    "\n",
    "n = int(sys.stdin.readline())\n",
    "A = list(map(int, sys.stdin.readline().split()))\n",
    "\n",
    "index = 0\n",
    "for i in A :\n",
    "    cnt = 0\n",
    "    index += 1    \n",
    "    for j in A[index:] :\n",
    "        if i < j :\n",
    "            print(j)\n",
    "            cnt += 1\n",
    "            break\n",
    "    if cnt == 0 :\n",
    "        print(-1)        "
   ]
  },
  {
   "cell_type": "code",
   "execution_count": null,
   "id": "d2120b10-13f6-4cd4-adcc-e01388100d6e",
   "metadata": {},
   "outputs": [],
   "source": [
    "def find_next_greater(nums):\n",
    "    stack = []  # 오큰수를 찾기 위한 스택\n",
    "    result = [-1] * len(nums)  # 결과 배열을 -1로 초기화\n",
    "\n",
    "    for i in range(len(nums)):\n",
    "        while stack and nums[stack[-1]] < nums[i]:\n",
    "            result[stack.pop()] = nums[i]\n",
    "\n",
    "        stack.append(i)\n",
    "\n",
    "    return result\n",
    "\n",
    "def main():\n",
    "    # 입력 받기\n",
    "    n = int(input())\n",
    "    nums = list(map(int, input().split()))\n",
    "\n",
    "    # 오큰수 찾기\n",
    "    result = find_next_greater(nums)\n",
    "\n",
    "    # 결과 출력\n",
    "    print(\" \".join(map(str, result)))\n",
    "\n",
    "if __name__ == \"__main__\":\n",
    "    main()\n"
   ]
  },
  {
   "cell_type": "markdown",
   "id": "d4c1880b-ee64-4419-9a76-ea1b4a664bfe",
   "metadata": {},
   "source": [
    "## Day 31"
   ]
  },
  {
   "cell_type": "markdown",
   "id": "a43a98f1-98ea-4db9-9ae5-25c4058f05d5",
   "metadata": {},
   "source": [
    "### 2493 탑"
   ]
  },
  {
   "cell_type": "code",
   "execution_count": null,
   "id": "8b226293-0e36-400f-930a-415e480b017e",
   "metadata": {},
   "outputs": [],
   "source": [
    "def find_tower_signals(heights):\n",
    "    n = len(heights)\n",
    "    stack = []  # 스택으로 활용할 리스트\n",
    "    signals = [0] * n  # 결과를 저장할 리스트\n",
    "\n",
    "    for i in range(n):\n",
    "        # 현재 탑의 높이가 스택의 탑보다 높다면 스택에서 빼내고 신호를 저장\n",
    "        while stack and heights[stack[-1]] < heights[i]:\n",
    "            top_index = stack.pop()\n",
    "            signals[top_index] = i + 1\n",
    "\n",
    "        # 현재 탑을 스택에 추가\n",
    "        stack.append(i)\n",
    "\n",
    "    return signals\n",
    "\n",
    "# 입력 받기\n",
    "n = int(input())\n",
    "heights = list(map(int, input().split()))\n",
    "\n",
    "# 각 탑에 대한 수신 신호 계산\n",
    "result = find_tower_signals(heights)\n",
    "\n",
    "# 결과 출력\n",
    "print(\" \".join(map(str, result)))\n"
   ]
  },
  {
   "cell_type": "markdown",
   "id": "7cd3607c-8382-4a96-9bb5-9e38cbb3095b",
   "metadata": {},
   "source": [
    "### 9935 문자열 폭발"
   ]
  },
  {
   "cell_type": "code",
   "execution_count": null,
   "id": "db93b056-3f33-4951-992e-483b13ccd164",
   "metadata": {},
   "outputs": [],
   "source": [
    "def explode_string(s, bomb):\n",
    "    stack = []\n",
    "\n",
    "    for char in s:\n",
    "        stack.append(char)\n",
    "\n",
    "        # 현재 스택의 끝 부분이 폭발 문자열과 일치하는지 확인\n",
    "        if len(stack) >= len(bomb) and ''.join(stack[-len(bomb):]) == bomb:\n",
    "            # 일치하면 폭발 문자열을 스택에서 제거\n",
    "            for _ in range(len(bomb)):\n",
    "                stack.pop()\n",
    "\n",
    "    result = ''.join(stack)\n",
    "    return result if result else \"FRULA\"\n",
    "\n",
    "# 입력 받기\n",
    "input_str = input().strip()\n",
    "bomb_str = input().strip()\n",
    "\n",
    "# 문자열 폭발 함수 호출\n",
    "result = explode_string(input_str, bomb_str)\n",
    "\n",
    "# 결과 출력\n",
    "print(result)\n"
   ]
  }
 ],
 "metadata": {
  "kernelspec": {
   "display_name": "Python 3 (ipykernel)",
   "language": "python",
   "name": "python3"
  },
  "language_info": {
   "codemirror_mode": {
    "name": "ipython",
    "version": 3
   },
   "file_extension": ".py",
   "mimetype": "text/x-python",
   "name": "python",
   "nbconvert_exporter": "python",
   "pygments_lexer": "ipython3",
   "version": "3.11.7"
  }
 },
 "nbformat": 4,
 "nbformat_minor": 5
}
