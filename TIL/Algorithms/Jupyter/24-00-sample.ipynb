{
 "cells": [
  {
   "cell_type": "markdown",
   "id": "fc981a2b-b3e9-4319-a037-df64825e6558",
   "metadata": {},
   "source": [
    "# 스택 Day 1~"
   ]
  },
  {
   "cell_type": "markdown",
   "id": "88c4cd90-f71f-42a0-97b3-4ba398c32774",
   "metadata": {},
   "source": [
    "## Day 1"
   ]
  },
  {
   "cell_type": "markdown",
   "id": "e1dc10d8-9822-47f3-8687-524ac73decf3",
   "metadata": {},
   "source": [
    "### "
   ]
  },
  {
   "cell_type": "code",
   "execution_count": null,
   "id": "efa9a5cd-0f62-4e48-b28d-84f9e378d92b",
   "metadata": {},
   "outputs": [],
   "source": []
  },
  {
   "cell_type": "markdown",
   "id": "1bc55436-a4c1-402b-b42f-2cdbd16ef922",
   "metadata": {},
   "source": [
    "## Day 2"
   ]
  },
  {
   "cell_type": "markdown",
   "id": "85d7aeb0-61c8-4eb8-9623-86b02d546d85",
   "metadata": {},
   "source": [
    "### "
   ]
  },
  {
   "cell_type": "code",
   "execution_count": null,
   "id": "80ae3078-139d-4c98-a223-413368f56fb3",
   "metadata": {},
   "outputs": [],
   "source": []
  },
  {
   "cell_type": "markdown",
   "id": "4d0d1b7f-e156-4774-b294-38d6a32bfbf7",
   "metadata": {},
   "source": [
    "## Day 3"
   ]
  },
  {
   "cell_type": "markdown",
   "id": "e986c509-ba9c-42cf-aae3-99152baffe48",
   "metadata": {},
   "source": [
    "### "
   ]
  },
  {
   "cell_type": "code",
   "execution_count": null,
   "id": "80f270bd-b4ef-43c2-ba6d-f5e9a540b3ef",
   "metadata": {},
   "outputs": [],
   "source": []
  },
  {
   "cell_type": "markdown",
   "id": "dd4c9363-7753-43f2-b2f4-cc172b817bc2",
   "metadata": {},
   "source": [
    "## Day 4"
   ]
  },
  {
   "cell_type": "markdown",
   "id": "05488212-6957-43e4-a061-b6a2c177d14e",
   "metadata": {},
   "source": [
    "### "
   ]
  },
  {
   "cell_type": "code",
   "execution_count": null,
   "id": "b4f0d1b8-0c1a-4d35-ac0f-2bd8a84b0360",
   "metadata": {},
   "outputs": [],
   "source": []
  },
  {
   "cell_type": "markdown",
   "id": "37721158-0bcf-4480-8e7b-cd510b1690b0",
   "metadata": {},
   "source": [
    "## Day 5"
   ]
  },
  {
   "cell_type": "markdown",
   "id": "2d372a7d-495d-40d4-a42a-80a4311cc489",
   "metadata": {},
   "source": [
    "### "
   ]
  },
  {
   "cell_type": "code",
   "execution_count": null,
   "id": "f64002f7-c259-40c0-add7-3a0c9601ccb3",
   "metadata": {},
   "outputs": [],
   "source": []
  },
  {
   "cell_type": "markdown",
   "id": "cdde76fc-0c41-4324-8fce-22849957043a",
   "metadata": {},
   "source": [
    "## Day 6"
   ]
  },
  {
   "cell_type": "markdown",
   "id": "6f892980-1d77-45d5-9d80-e823eabee584",
   "metadata": {},
   "source": [
    "### "
   ]
  },
  {
   "cell_type": "code",
   "execution_count": null,
   "id": "b69f348c-e744-42b8-8b41-c849ef466f12",
   "metadata": {},
   "outputs": [],
   "source": []
  },
  {
   "cell_type": "markdown",
   "id": "5bdcc387-638e-4c7b-8d97-ab28022363dc",
   "metadata": {},
   "source": [
    "## Day 7"
   ]
  },
  {
   "cell_type": "markdown",
   "id": "374abcb4-e6aa-4299-8a59-f4fa68adb78b",
   "metadata": {},
   "source": [
    "### "
   ]
  },
  {
   "cell_type": "code",
   "execution_count": null,
   "id": "e439cb20-8ec3-4f2e-b3f1-f4924931d6e3",
   "metadata": {},
   "outputs": [],
   "source": []
  },
  {
   "cell_type": "markdown",
   "id": "1d4e540c-a780-48db-bf24-10afcde58aac",
   "metadata": {},
   "source": [
    "## Day 8"
   ]
  },
  {
   "cell_type": "markdown",
   "id": "eb383eb7-2098-4878-aaa2-956ed8683cc8",
   "metadata": {},
   "source": [
    "### "
   ]
  },
  {
   "cell_type": "code",
   "execution_count": null,
   "id": "bcea09eb-d22a-4ec5-a1db-98a8a359698b",
   "metadata": {},
   "outputs": [],
   "source": []
  },
  {
   "cell_type": "markdown",
   "id": "9aba9d4d-810c-44cf-b970-eb8adf91ab47",
   "metadata": {},
   "source": [
    "## Day 9"
   ]
  },
  {
   "cell_type": "markdown",
   "id": "fa61df64-1a99-44a5-b915-c2479cf4d17e",
   "metadata": {},
   "source": [
    "### "
   ]
  },
  {
   "cell_type": "code",
   "execution_count": null,
   "id": "7a007608-f57f-4d69-9f6c-0098bc756147",
   "metadata": {},
   "outputs": [],
   "source": []
  },
  {
   "cell_type": "markdown",
   "id": "9ada1ea5-6a40-498d-b39e-2d64d2b08377",
   "metadata": {},
   "source": [
    "## Day 10"
   ]
  },
  {
   "cell_type": "markdown",
   "id": "bd330209-3fb2-40ae-9591-fb80a3193ce6",
   "metadata": {},
   "source": [
    "### "
   ]
  },
  {
   "cell_type": "code",
   "execution_count": null,
   "id": "bc408413-ebcc-4631-a146-ac05b51f20c2",
   "metadata": {},
   "outputs": [],
   "source": []
  },
  {
   "cell_type": "markdown",
   "id": "6ed8c4a3-9298-428f-b454-64112f548d0c",
   "metadata": {},
   "source": [
    "## Day 11"
   ]
  },
  {
   "cell_type": "markdown",
   "id": "aba0e2bc-22cb-400c-89ba-683d67821ccb",
   "metadata": {},
   "source": [
    "### "
   ]
  },
  {
   "cell_type": "code",
   "execution_count": null,
   "id": "99116ee3-972d-4966-8c69-1d170c756a01",
   "metadata": {},
   "outputs": [],
   "source": []
  },
  {
   "cell_type": "markdown",
   "id": "6f6b378e-4943-4e02-8fa6-fc6d7dda6cee",
   "metadata": {},
   "source": [
    "## Day 12"
   ]
  },
  {
   "cell_type": "markdown",
   "id": "2d3c4b13-8860-484b-b1f4-a99e0caef47c",
   "metadata": {},
   "source": [
    "### "
   ]
  },
  {
   "cell_type": "code",
   "execution_count": null,
   "id": "4b1c9c86-cf5e-4f18-9cb8-ffc3698d971e",
   "metadata": {},
   "outputs": [],
   "source": []
  },
  {
   "cell_type": "markdown",
   "id": "782afe51-598c-4a72-8bbf-879c0e36ff5c",
   "metadata": {},
   "source": [
    "## Day 13"
   ]
  },
  {
   "cell_type": "markdown",
   "id": "bbe1b1b5-882f-4d0a-b884-7e6bd925fb7b",
   "metadata": {},
   "source": [
    "### "
   ]
  },
  {
   "cell_type": "code",
   "execution_count": null,
   "id": "4dbac860-0646-4abd-8cf6-9e41328147cc",
   "metadata": {},
   "outputs": [],
   "source": []
  },
  {
   "cell_type": "markdown",
   "id": "23091383-de46-421d-bdb6-e3ef9ff92c02",
   "metadata": {},
   "source": [
    "## Day 14"
   ]
  },
  {
   "cell_type": "markdown",
   "id": "1fb9599f-2db9-46b9-b9de-5b6be36d6e7c",
   "metadata": {},
   "source": [
    "### "
   ]
  },
  {
   "cell_type": "code",
   "execution_count": null,
   "id": "9f0360e3-51f4-43c2-a2ea-f8e5815d02a5",
   "metadata": {},
   "outputs": [],
   "source": []
  },
  {
   "cell_type": "markdown",
   "id": "49a7ea4a-c4bb-4e28-9ddb-bc5c4c5e40da",
   "metadata": {},
   "source": [
    "## Day 15"
   ]
  },
  {
   "cell_type": "markdown",
   "id": "9ed00277-a847-46fd-aa46-59ec1e5e73a6",
   "metadata": {},
   "source": [
    "### "
   ]
  },
  {
   "cell_type": "code",
   "execution_count": null,
   "id": "a83436ff-194b-4b37-bc7a-41087a538042",
   "metadata": {},
   "outputs": [],
   "source": []
  },
  {
   "cell_type": "markdown",
   "id": "c5ff8ffd-1806-4613-9d31-aa11182cb0fe",
   "metadata": {},
   "source": [
    "## Day 16"
   ]
  },
  {
   "cell_type": "markdown",
   "id": "ee4b6371-1b44-4c79-a435-95fb31f473bf",
   "metadata": {},
   "source": [
    "### "
   ]
  },
  {
   "cell_type": "code",
   "execution_count": null,
   "id": "a55a7fa5-563a-4786-b80e-f5c9cb45985d",
   "metadata": {},
   "outputs": [],
   "source": []
  },
  {
   "cell_type": "markdown",
   "id": "7ea04a5b-74c6-439a-9b94-da4ac7f2d709",
   "metadata": {},
   "source": [
    "## Day 17"
   ]
  },
  {
   "cell_type": "markdown",
   "id": "544f6728-1e20-43ac-a9ca-b0c67c373bb6",
   "metadata": {},
   "source": [
    "### "
   ]
  },
  {
   "cell_type": "code",
   "execution_count": null,
   "id": "963621ce-7f05-4c1b-9e44-36b611ac817e",
   "metadata": {},
   "outputs": [],
   "source": []
  },
  {
   "cell_type": "markdown",
   "id": "e90656ca-1386-4640-bc64-c1f54f397d3d",
   "metadata": {},
   "source": [
    "## Day 18"
   ]
  },
  {
   "cell_type": "markdown",
   "id": "a3ba6875-15e5-4ee2-ae4a-780262ab32f3",
   "metadata": {},
   "source": [
    "### "
   ]
  },
  {
   "cell_type": "code",
   "execution_count": null,
   "id": "48c25672-7ceb-4003-8ff3-4ae3aaa20386",
   "metadata": {},
   "outputs": [],
   "source": []
  },
  {
   "cell_type": "markdown",
   "id": "199dbf35-353d-4586-aa1e-bb8abf49db70",
   "metadata": {},
   "source": [
    "## Day 19"
   ]
  },
  {
   "cell_type": "markdown",
   "id": "03ed3d76-587f-4067-a408-fbb4880dd021",
   "metadata": {},
   "source": [
    "### "
   ]
  },
  {
   "cell_type": "code",
   "execution_count": null,
   "id": "159f2cdd-13ee-434f-abc6-ceb2502d5ea8",
   "metadata": {},
   "outputs": [],
   "source": []
  },
  {
   "cell_type": "markdown",
   "id": "3518b0d5-91e6-42fe-a673-52eaabff938a",
   "metadata": {},
   "source": [
    "## Day 20"
   ]
  },
  {
   "cell_type": "markdown",
   "id": "e3cdfb8d-c8bd-4656-b58e-c458c64915d5",
   "metadata": {},
   "source": [
    "### "
   ]
  },
  {
   "cell_type": "code",
   "execution_count": null,
   "id": "3e93fdf8-2288-45cf-bc78-f789bd765108",
   "metadata": {},
   "outputs": [],
   "source": []
  },
  {
   "cell_type": "markdown",
   "id": "9bed3bd1-da53-4e2c-8bb2-85591c72b232",
   "metadata": {},
   "source": [
    "## Day 21"
   ]
  },
  {
   "cell_type": "markdown",
   "id": "0d8ea072-d5db-4a42-8f08-7171a82f67ed",
   "metadata": {},
   "source": [
    "### "
   ]
  },
  {
   "cell_type": "code",
   "execution_count": null,
   "id": "574d2897-38ff-45e3-b836-0c7e84e4eab8",
   "metadata": {},
   "outputs": [],
   "source": []
  },
  {
   "cell_type": "markdown",
   "id": "364bb4b7-37f1-488a-9372-19946ba88b3f",
   "metadata": {},
   "source": [
    "## Day 22"
   ]
  },
  {
   "cell_type": "markdown",
   "id": "c21c4772-b65b-4fdc-9b5e-6370d3aaa567",
   "metadata": {},
   "source": [
    "### "
   ]
  },
  {
   "cell_type": "code",
   "execution_count": null,
   "id": "5f2536fc-4d42-483e-8fb4-e0d9e0401137",
   "metadata": {},
   "outputs": [],
   "source": []
  },
  {
   "cell_type": "markdown",
   "id": "318620d6-c039-415a-9eae-d3570f044d2e",
   "metadata": {},
   "source": [
    "## Day 23"
   ]
  },
  {
   "cell_type": "markdown",
   "id": "5341319a-a905-4be7-b8d8-956964b02081",
   "metadata": {},
   "source": [
    "### "
   ]
  },
  {
   "cell_type": "code",
   "execution_count": null,
   "id": "3e10ab0a-6445-4bc1-9176-8e90a5ba78da",
   "metadata": {},
   "outputs": [],
   "source": []
  },
  {
   "cell_type": "markdown",
   "id": "e4025ba8-db6c-4307-bb3a-3538f55f8dbc",
   "metadata": {},
   "source": [
    "## Day 24"
   ]
  },
  {
   "cell_type": "markdown",
   "id": "bb8c2389-1bcc-485d-ab8d-06748ce596d6",
   "metadata": {},
   "source": [
    "### "
   ]
  },
  {
   "cell_type": "code",
   "execution_count": null,
   "id": "9a07788b-f887-4d0c-9d86-808c6931be0f",
   "metadata": {},
   "outputs": [],
   "source": []
  },
  {
   "cell_type": "markdown",
   "id": "1d28fa3b-f99e-48c1-b36a-b6041056829d",
   "metadata": {},
   "source": [
    "## Day 25"
   ]
  },
  {
   "cell_type": "markdown",
   "id": "338067d6-968c-420d-bdee-e128a75a8cdf",
   "metadata": {},
   "source": [
    "### "
   ]
  },
  {
   "cell_type": "code",
   "execution_count": null,
   "id": "26f24d43-6c6e-4f32-9eb7-f4bc4c891b4b",
   "metadata": {},
   "outputs": [],
   "source": []
  },
  {
   "cell_type": "markdown",
   "id": "0075de27-9580-43c6-89e4-2e9be958dc68",
   "metadata": {},
   "source": [
    "## Day 26"
   ]
  },
  {
   "cell_type": "markdown",
   "id": "7271c5d5-3250-43b7-ab32-f727451647be",
   "metadata": {},
   "source": [
    "### "
   ]
  },
  {
   "cell_type": "code",
   "execution_count": null,
   "id": "a2ee1eea-abfe-428b-805c-05acf26f16ce",
   "metadata": {},
   "outputs": [],
   "source": []
  },
  {
   "cell_type": "markdown",
   "id": "229d5788-5817-49d7-b8fd-c4a5f205810a",
   "metadata": {},
   "source": [
    "## Day 27"
   ]
  },
  {
   "cell_type": "markdown",
   "id": "b069d9de-68b4-41d8-aa88-397872436df6",
   "metadata": {},
   "source": [
    "### "
   ]
  },
  {
   "cell_type": "code",
   "execution_count": null,
   "id": "fa44aa60-f7bb-4de6-a9e6-050e45c4a3ae",
   "metadata": {},
   "outputs": [],
   "source": []
  },
  {
   "cell_type": "markdown",
   "id": "e5ff7c6a-782b-4763-a688-7941579ec41c",
   "metadata": {},
   "source": [
    "## Day 28"
   ]
  },
  {
   "cell_type": "markdown",
   "id": "66cda1e8-5fc2-4091-8d74-9a33684dafd3",
   "metadata": {},
   "source": [
    "### "
   ]
  },
  {
   "cell_type": "code",
   "execution_count": null,
   "id": "f1805bc7-784d-4428-970b-2e80a4270fbe",
   "metadata": {},
   "outputs": [],
   "source": []
  },
  {
   "cell_type": "markdown",
   "id": "37e9e30e-90bf-438f-94f7-a8d16a4826bb",
   "metadata": {},
   "source": [
    "## Day 29"
   ]
  },
  {
   "cell_type": "markdown",
   "id": "c5db97fe-5151-4f93-8663-a2d6b106194d",
   "metadata": {},
   "source": [
    "### "
   ]
  },
  {
   "cell_type": "code",
   "execution_count": null,
   "id": "85c5576c-b04e-4d23-b5f3-267f2bea6fe1",
   "metadata": {},
   "outputs": [],
   "source": []
  },
  {
   "cell_type": "markdown",
   "id": "9ac96977-b21c-4618-b87d-950e59079761",
   "metadata": {},
   "source": [
    "## Day 30"
   ]
  },
  {
   "cell_type": "markdown",
   "id": "a151654c-863d-4ff4-8e76-72213403489d",
   "metadata": {},
   "source": [
    "### "
   ]
  },
  {
   "cell_type": "code",
   "execution_count": null,
   "id": "3c65d0ee-c8b4-48ec-8d65-4b303bd1caf2",
   "metadata": {},
   "outputs": [],
   "source": []
  },
  {
   "cell_type": "markdown",
   "id": "9359f21e-2d40-40b8-b0f1-2720536c7e22",
   "metadata": {},
   "source": [
    "## Day 31"
   ]
  },
  {
   "cell_type": "code",
   "execution_count": null,
   "id": "208c1259-4540-46ba-858a-5f9e13fb9309",
   "metadata": {},
   "outputs": [],
   "source": []
  },
  {
   "cell_type": "markdown",
   "id": "64937cda-9c8d-4c05-b24f-661249299703",
   "metadata": {},
   "source": [
    "### "
   ]
  }
 ],
 "metadata": {
  "kernelspec": {
   "display_name": "Python 3 (ipykernel)",
   "language": "python",
   "name": "python3"
  },
  "language_info": {
   "codemirror_mode": {
    "name": "ipython",
    "version": 3
   },
   "file_extension": ".py",
   "mimetype": "text/x-python",
   "name": "python",
   "nbconvert_exporter": "python",
   "pygments_lexer": "ipython3",
   "version": "3.11.7"
  }
 },
 "nbformat": 4,
 "nbformat_minor": 5
}
