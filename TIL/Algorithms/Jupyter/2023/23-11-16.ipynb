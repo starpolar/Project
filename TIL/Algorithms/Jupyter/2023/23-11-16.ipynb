{
 "cells": [
  {
   "cell_type": "markdown",
   "id": "c6e1aff2-e34d-40fd-9bd7-ddd98e478479",
   "metadata": {},
   "source": [
    "# 정렬"
   ]
  },
  {
   "cell_type": "markdown",
   "id": "62e7026e-e20c-4eba-a266-b8f45a64c672",
   "metadata": {},
   "source": [
    "## 1427 소트인사이드"
   ]
  },
  {
   "cell_type": "code",
   "execution_count": 28,
   "id": "cbac5c14-f495-49f9-8f5c-7fd485f1a2f8",
   "metadata": {},
   "outputs": [
    {
     "name": "stdin",
     "output_type": "stream",
     "text": [
      " 2143\n"
     ]
    },
    {
     "name": "stdout",
     "output_type": "stream",
     "text": [
      "4\n",
      "3\n",
      "2\n",
      "1\n",
      "4321\n"
     ]
    }
   ],
   "source": [
    "# 이건틀리고\n",
    "\n",
    "n = input()\n",
    "\n",
    "li = []\n",
    "[li.append(n[i]) for i in range(len(n))]\n",
    "li2 = list(map(int, li))\n",
    "li2.sort(reverse=True)\n",
    "\n",
    "result = ''\n",
    "for i in li2 :\n",
    "    print(i)\n",
    "    result = result + str(i)\n",
    "\n",
    "print(int(result))"
   ]
  },
  {
   "cell_type": "code",
   "execution_count": null,
   "id": "ffb008a7-8cf3-4f67-b1ac-4b7f86151a9a",
   "metadata": {},
   "outputs": [],
   "source": [
    "# 이건 맞고\n",
    "\n",
    "n = input()\n",
    "li = []\n",
    "[li.append(n[i]) for i in range(len(n))]\n",
    "li.sort(reverse=True)\n",
    "\n",
    "result = ''\n",
    "for i in li:\n",
    "    result = result + i\n",
    "\n",
    "# 결과를 정수로 변환하여 출력합니다.\n",
    "print(int(result))\n"
   ]
  },
  {
   "cell_type": "code",
   "execution_count": 36,
   "id": "98e711d3-5479-42d3-a343-3c45ce9d03ed",
   "metadata": {},
   "outputs": [
    {
     "data": {
      "text/plain": [
       "'4321'"
      ]
     },
     "execution_count": 36,
     "metadata": {},
     "output_type": "execute_result"
    }
   ],
   "source": [
    "# GPT 해설\n",
    "\n",
    "n = '2143'\n",
    "li = sorted(n, reverse=True)\n",
    "result = ''.join(li)\n",
    "result"
   ]
  },
  {
   "cell_type": "markdown",
   "id": "92c9d2e4-f69b-4840-8047-85a5e35e299d",
   "metadata": {},
   "source": [
    "-----"
   ]
  },
  {
   "cell_type": "markdown",
   "id": "d0e4b74e-4fc6-41a4-8dc4-3175f364ccda",
   "metadata": {},
   "source": [
    "## 10814 나이순 정렬"
   ]
  },
  {
   "cell_type": "code",
   "execution_count": 71,
   "id": "2547135d-2e40-4cd0-9624-0094aaebeded",
   "metadata": {},
   "outputs": [
    {
     "data": {
      "text/plain": [
       "'21 Junkyu'"
      ]
     },
     "execution_count": 71,
     "metadata": {},
     "output_type": "execute_result"
    }
   ],
   "source": [
    "n = 3\n",
    "inp = '21 Junkyu'\n",
    "inp"
   ]
  },
  {
   "cell_type": "code",
   "execution_count": 68,
   "id": "e4ffcba2-94f8-4635-99d3-fe2b7ea7e82f",
   "metadata": {},
   "outputs": [
    {
     "data": {
      "text/plain": [
       "['21', 'Junkyu']"
      ]
     },
     "execution_count": 68,
     "metadata": {},
     "output_type": "execute_result"
    }
   ],
   "source": [
    "list(map(str, inp.split()))"
   ]
  },
  {
   "cell_type": "code",
   "execution_count": 79,
   "id": "a91a0b4c-f778-407a-9f03-6350806a01c5",
   "metadata": {},
   "outputs": [
    {
     "data": {
      "text/plain": [
       "[(21, 'Junkyu')]"
      ]
     },
     "execution_count": 79,
     "metadata": {},
     "output_type": "execute_result"
    }
   ],
   "source": [
    "li = []\n",
    "for _ in range(1) :\n",
    "    x, y = map(str, inp.split())\n",
    "    li.append((int(x), y))\n",
    "li"
   ]
  },
  {
   "cell_type": "code",
   "execution_count": 82,
   "id": "ba87a1df-91cf-4de8-92de-49cd2f44cc5c",
   "metadata": {},
   "outputs": [],
   "source": [
    "li.append((21, 'Dohyun'))\n",
    "li.append((20, 'Sunyoung'))"
   ]
  },
  {
   "cell_type": "code",
   "execution_count": 83,
   "id": "4ec93933-144a-4c2c-8459-f89a76a012be",
   "metadata": {},
   "outputs": [
    {
     "data": {
      "text/plain": [
       "[(21, 'Junkyu'), (21, 'Dohyun'), (20, 'Sunyoung')]"
      ]
     },
     "execution_count": 83,
     "metadata": {},
     "output_type": "execute_result"
    }
   ],
   "source": [
    "li"
   ]
  },
  {
   "cell_type": "code",
   "execution_count": 88,
   "id": "bff949c0-68f3-4149-b5d7-9035545e5247",
   "metadata": {},
   "outputs": [
    {
     "data": {
      "text/plain": [
       "[(20, 'Sunyoung'), (21, 'Junkyu'), (21, 'Dohyun')]"
      ]
     },
     "execution_count": 88,
     "metadata": {},
     "output_type": "execute_result"
    }
   ],
   "source": [
    "li.sort(key=lambda x : x[0])\n",
    "li"
   ]
  },
  {
   "cell_type": "code",
   "execution_count": null,
   "id": "f3ad5b96-0334-45a5-af61-40ea4139c61d",
   "metadata": {},
   "outputs": [],
   "source": []
  },
  {
   "cell_type": "code",
   "execution_count": 93,
   "id": "5efa2de2-0749-43e4-8038-52fd7218de40",
   "metadata": {},
   "outputs": [
    {
     "name": "stdin",
     "output_type": "stream",
     "text": [
      " 3\n",
      " 21 Junkyu\n",
      " 21 Dohyun\n",
      " 20 Sunyoung\n"
     ]
    },
    {
     "name": "stdout",
     "output_type": "stream",
     "text": [
      "20 Sunyoung\n",
      "21 Junkyu\n",
      "21 Dohyun\n"
     ]
    }
   ],
   "source": [
    "n = int(input())\n",
    "li = []\n",
    "for _ in range(n) :\n",
    "    x, y = map(str, input().split())\n",
    "    li.append((int(x), y))\n",
    "    \n",
    "li.sort(key=lambda x : x[0])\n",
    "\n",
    "for i in li :\n",
    "    print(i[0], i[1])"
   ]
  },
  {
   "cell_type": "markdown",
   "id": "e7b3bb50-be87-449b-9479-a763dd1387b2",
   "metadata": {},
   "source": [
    "### 깔끔한 코드"
   ]
  },
  {
   "cell_type": "code",
   "execution_count": null,
   "id": "e6e56ecc-9272-424b-9eb4-bc111a0a6829",
   "metadata": {},
   "outputs": [],
   "source": [
    "# 회원 정보를 저장할 리스트를 생성합니다.\n",
    "members = []\n",
    "\n",
    "# 회원 수를 입력 받습니다.\n",
    "n = int(input())\n",
    "\n",
    "# 회원 정보를 입력 받아 리스트에 저장합니다.\n",
    "for i in range(n):\n",
    "    age, name = input().split()\n",
    "    members.append((int(age), name, i))  # 나이, 이름, 가입 순서를 튜플로 저장\n",
    "\n",
    "# 나이를 기준으로 정렬하고, 나이가 같다면 가입 순서를 기준으로 정렬합니다.\n",
    "members.sort(key=lambda x: (x[0], x[2]))\n",
    "\n",
    "# 정렬된 회원 정보를 출력합니다.\n",
    "for member in members:\n",
    "    print(member[0], member[1])\n"
   ]
  },
  {
   "cell_type": "markdown",
   "id": "848f65e7-7845-4b17-a39d-3eb45f06e6b3",
   "metadata": {
    "jp-MarkdownHeadingCollapsed": true
   },
   "source": [
    "### sys.stdin.readline() 을 썼을때 빠른이유는?"
   ]
  },
  {
   "cell_type": "markdown",
   "id": "8316c413-5692-484d-a9b6-9b6988eb62e6",
   "metadata": {},
   "source": [
    "\n",
    "sys.stdin.readline()을 사용하는 이유는 일반적으로 입력 처리 속도를 높이기 위한 것입니다. 파이썬의 input() 함수는 보다 느린 입력 방식을 사용하며, 대량의 입력 데이터를 처리할 때 속도가 느릴 수 있습니다.\n",
    "\n",
    "sys.stdin.readline()은 파이썬의 input() 함수보다 훨씬 빠르게 입력을 처리할 수 있습니다. 이는 다음과 같은 이유로 설명됩니다:\n",
    "\n",
    "버퍼링: sys.stdin.readline()은 입력을 한 번에 읽는 대신 작은 블록 단위로 읽어오기 때문에 입출력 작업이 더 효율적으로 이루어집니다. 이로 인해 입력 속도가 빨라집니다.\n",
    "\n",
    "개행 문자 처리: input() 함수는 개행 문자('\\n')를 처리하기 위해 더 많은 작업을 수행해야 합니다. sys.stdin.readline()을 사용하면 개행 문자를 처리하는 과정이 더 최적화되어 있습니다.\n",
    "\n",
    "입력 버퍼 관리: sys.stdin.readline()은 내부적으로 입력 버퍼를 더 효율적으로 관리하므로, 대량의 입력 데이터를 처리할 때 메모리 사용량이 줄어들고 빠른 처리가 가능합니다.\n",
    "\n",
    "대부분의 경우에는 sys.stdin.readline()을 사용하여 입력을 처리하면 입력 속도가 빨라집니다. 그러나 이는 파이썬의 일부 특정 상황에서 해당하며, 대부분의 일반적인 문제에서는 input() 함수를 사용해도 충분합니다. 따라서 입력 처리 속도가 중요한 경우에만 sys.stdin.readline()을 고려하면 됩니다."
   ]
  },
  {
   "cell_type": "markdown",
   "id": "ca82257b-0298-493b-8281-f382a11adbee",
   "metadata": {},
   "source": [
    "### "
   ]
  }
 ],
 "metadata": {
  "kernelspec": {
   "display_name": "Python 3 (ipykernel)",
   "language": "python",
   "name": "python3"
  },
  "language_info": {
   "codemirror_mode": {
    "name": "ipython",
    "version": 3
   },
   "file_extension": ".py",
   "mimetype": "text/x-python",
   "name": "python",
   "nbconvert_exporter": "python",
   "pygments_lexer": "ipython3",
   "version": "3.12.0"
  }
 },
 "nbformat": 4,
 "nbformat_minor": 5
}
