{
 "cells": [
  {
   "cell_type": "markdown",
   "id": "e1906726-9aaf-4f54-884a-09dfa2a54189",
   "metadata": {},
   "source": [
    "# 정렬"
   ]
  },
  {
   "cell_type": "markdown",
   "id": "d6fc70ed-c057-403a-956f-9462e5370022",
   "metadata": {},
   "source": [
    "## 10989 수 정렬하기 3"
   ]
  },
  {
   "cell_type": "code",
   "execution_count": 5,
   "id": "f33f1801-c4f8-4f2f-baea-57d1d78e4a65",
   "metadata": {},
   "outputs": [
    {
     "name": "stdin",
     "output_type": "stream",
     "text": [
      " 3\n",
      " 654\n",
      " 34\n",
      " 12341\n"
     ]
    },
    {
     "name": "stdout",
     "output_type": "stream",
     "text": [
      "34\n",
      "654\n",
      "12341\n"
     ]
    }
   ],
   "source": [
    "n = int(input())\n",
    "li = []\n",
    "for _ in range(n) :\n",
    "    li.append(int(input()))\n",
    "li.sort()\n",
    "for i in li :\n",
    "    print(i)"
   ]
  },
  {
   "cell_type": "code",
   "execution_count": null,
   "id": "8776cc0f-c5e2-45d7-ad62-a0c4d4d077df",
   "metadata": {},
   "outputs": [],
   "source": [
    "import sys\n",
    "\n",
    "# 입력받을 숫자의 개수\n",
    "n = int(sys.stdin.readline())\n",
    "\n",
    "# 모든 가능한 숫자를 포함하는 리스트를 0으로 초기화\n",
    "count = [0] * 10001\n",
    "\n",
    "# 입력받은 숫자의 등장 횟수를 센다\n",
    "for _ in range(n):\n",
    "    count[int(sys.stdin.readline())] += 1\n",
    "\n",
    "# 정렬된 결과를 출력\n",
    "for i in range(10001):\n",
    "    if count[i] != 0:\n",
    "        for _ in range(count[i]):\n",
    "            print(i)\n"
   ]
  },
  {
   "cell_type": "markdown",
   "id": "084d3aab-ff1c-498a-bf0b-522031dc4b6c",
   "metadata": {},
   "source": [
    "### = 계수정렬"
   ]
  },
  {
   "cell_type": "markdown",
   "id": "de39d6c7-2b08-478a-b2a7-de2243158e62",
   "metadata": {},
   "source": [
    "문제 이해와 메모리 제한 고려:\n",
    "\n",
    "문제는 수많은 정수를 입력받아 오름차순으로 정렬하는 것입니다.\n",
    "중요한 점은 메모리 제한이 있기 때문에, 표준적인 정렬 알고리즘(예: 퀵소트, 병합 정렬)을 사용하면 메모리 초과가 발생할 수 있습니다.\n",
    "계수 정렬(Counting Sort) 선택의 이유:\n",
    "\n",
    "계수 정렬은 정수의 범위가 제한적일 때 매우 효율적인 정렬 방법입니다.\n",
    "이 알고리즘은 각 숫자의 출현 횟수를 계산하여 정렬을 수행합니다. 따라서, 추가적인 공간을 적게 사용하며, 동일한 값을 가진 데이터가 많을 때 유용합니다.\n",
    "계수 정렬 구현:\n",
    "\n",
    "먼저, 입력될 수 있는 가장 큰 숫자에 맞춰서 출현 횟수를 저장할 배열을 생성합니다. 이 문제에서는 10,000 이 최대값이므로, 10001 크기의 배열을 생성합니다.\n",
    "입력받은 모든 숫자에 대해 해당 숫자의 인덱스에 위치한 배열의 값을 1 증가시킵니다. 이는 그 숫자의 출현 횟수를 나타냅니다.\n",
    "결과 출력:\n",
    "\n",
    "배열을 처음부터 끝까지 순회합니다.\n",
    "배열의 각 인덱스는 실제 숫자를 나타내고, 해당 인덱스의 값은 그 숫자의 출현 횟수입니다.\n",
    "출현 횟수만큼 각 숫자를 출력합니다. 이는 오름차순으로 숫자들이 정렬되어 출력되는 것을 의미합니다.\n",
    "시간 복잡도 고려:\n",
    "\n",
    "계수 정렬의 시간 복잡도는 O(n + k)입니다, 여기서 n은 리스트의 길이, k는 정수의 범위입니다.\n",
    "이 경우, n과 k 모두 최대 10,000이므로, 이 알고리즘은 주어진 문제에 대해 효율적입니다.\n",
    "이와 같은 논리적 흐름을 따라 문제를 해결하면, 주어진 메모리 제한 내에서 수많은 숫자를 효과적으로 정렬할 수 있습니다."
   ]
  },
  {
   "cell_type": "code",
   "execution_count": null,
   "id": "59261c8e-89f4-41db-9126-9e3c564a942e",
   "metadata": {},
   "outputs": [],
   "source": []
  },
  {
   "cell_type": "markdown",
   "id": "0948d77d-5445-428a-8fb7-1f720008e461",
   "metadata": {},
   "source": [
    "-----"
   ]
  },
  {
   "cell_type": "code",
   "execution_count": null,
   "id": "ab7de7a0-d702-4a9e-a0d7-1124990a69d5",
   "metadata": {},
   "outputs": [],
   "source": []
  }
 ],
 "metadata": {
  "kernelspec": {
   "display_name": "Python 3 (ipykernel)",
   "language": "python",
   "name": "python3"
  },
  "language_info": {
   "codemirror_mode": {
    "name": "ipython",
    "version": 3
   },
   "file_extension": ".py",
   "mimetype": "text/x-python",
   "name": "python",
   "nbconvert_exporter": "python",
   "pygments_lexer": "ipython3",
   "version": "3.12.0"
  }
 },
 "nbformat": 4,
 "nbformat_minor": 5
}
