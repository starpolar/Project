{
 "cells": [
  {
   "cell_type": "markdown",
   "id": "dd2f1271-1514-4665-b7f5-3e42ed365b02",
   "metadata": {},
   "source": [
    "# 정렬"
   ]
  },
  {
   "cell_type": "markdown",
   "id": "30ad6aaa-9abc-452c-b2ef-bb455f244d46",
   "metadata": {
    "jp-MarkdownHeadingCollapsed": true
   },
   "source": [
    "## day 06 / 18870 좌표 압축"
   ]
  },
  {
   "cell_type": "code",
   "execution_count": null,
   "id": "09ea814e-c173-46f8-a1a1-af951ed842e4",
   "metadata": {},
   "outputs": [],
   "source": [
    "n = int(input())\n",
    "arr = list(map(int, input().split()))\n",
    "\n",
    "# 중복 제거한 후 정렬\n",
    "sorted_arr = sorted(set(arr))\n",
    "\n",
    "# 각 숫자의 압축된 좌표를 저장하는 딕셔너리 생성\n",
    "coord_dict = {value: index for index, value in enumerate(sorted_arr)}\n",
    "\n",
    "# 각 숫자에 대해 압축된 좌표 출력\n",
    "result = [coord_dict[value] for value in arr]\n",
    "print(*result)\n"
   ]
  },
  {
   "cell_type": "markdown",
   "id": "8e61f8c6-07af-4805-9f4d-485339cc5a27",
   "metadata": {
    "jp-MarkdownHeadingCollapsed": true
   },
   "source": [
    "### enumerate"
   ]
  },
  {
   "cell_type": "markdown",
   "id": "67117d50-827d-4b41-a3d9-0b07f786d14c",
   "metadata": {},
   "source": [
    "\n",
    "enumerate는 파이썬에서 제공하는 내장 함수 중 하나로, 순서가 있는(iterable) 자료형(리스트, 튜플, 문자열 등)을 입력으로 받아 인덱스와 해당 요소를 포함하는 enumerate 객체를 반환합니다."
   ]
  },
  {
   "cell_type": "markdown",
   "id": "c8bf2c61-96a8-453f-8493-29bbc799cda9",
   "metadata": {},
   "source": [
    "### "
   ]
  },
  {
   "cell_type": "markdown",
   "id": "c4ebb526-164f-4457-9c89-ebeffa535ea8",
   "metadata": {},
   "source": [
    "### print(*result) 의 * 은 무슨뜻?"
   ]
  },
  {
   "cell_type": "markdown",
   "id": "c6194846-0781-43ee-aba7-ed3a390f11bd",
   "metadata": {},
   "source": [
    "*은 파이썬에서 언패킹(Unpacking) 연산자로 사용됩니다. print(*result)에서 *result는 result 리스트(또는 다른 iterable)의 각 요소를 개별적으로 분리하여 print 함수에 전달하는 역할을 합니다.\r\n",
    "\r\n",
    "예를 들어, result가 [1, 2, 3]이라면, print(*result)는 사실상 print(1, 2, 3)과 동일합니다. 이렇게 사용되면 리스트나 튜플 등의 iterable의 각 요소가 개별적인 인자로 전달됩니다.\r\n",
    "\r\n",
    "이를 \"언패킹\"이라고 부르는 이유는, 리스트나 튜플 등의 iterable을 풀어서(해체하여) 개별적인 값으로 만들어 주기 때문입니다. 이러한 언패킹은 함수 호출이나 다른 상황에서 여러 값들을 분리하여 사용할 때 유용합니다."
   ]
  },
  {
   "cell_type": "markdown",
   "id": "db38e2e6-5fb1-402c-9d0e-efbcc8973864",
   "metadata": {},
   "source": [
    "### "
   ]
  },
  {
   "cell_type": "markdown",
   "id": "7a924c78-d0f5-425a-92e8-f40e6f262103",
   "metadata": {},
   "source": [
    "-----"
   ]
  },
  {
   "cell_type": "markdown",
   "id": "965fa879-143e-4df8-97a7-f1ad58a4c22f",
   "metadata": {
    "jp-MarkdownHeadingCollapsed": true
   },
   "source": [
    "## 07 day"
   ]
  },
  {
   "cell_type": "markdown",
   "id": "a9510288-f17b-4a5f-9a87-e246bd52b078",
   "metadata": {},
   "source": [
    "### 2587 대표값2"
   ]
  },
  {
   "cell_type": "code",
   "execution_count": null,
   "id": "a06dc573-667f-4ffb-ae1e-9fdc51a6f788",
   "metadata": {},
   "outputs": [],
   "source": [
    "# 5개의 정수를 입력받음\n",
    "numbers = [int(input()) for _ in range(5)]\n",
    "\n",
    "# 입력받은 정수를 정렬\n",
    "numbers.sort()\n",
    "\n",
    "# 중간값을 출력\n",
    "print(sum(numbers) // 5)  # 평균값 출력\n",
    "print(numbers[2])         # 중간값 출력\n"
   ]
  },
  {
   "cell_type": "markdown",
   "id": "3e286a15-eb5d-4c57-a214-1142c724f19b",
   "metadata": {},
   "source": [
    "### 2108 로프"
   ]
  },
  {
   "cell_type": "code",
   "execution_count": null,
   "id": "e6d57b13-cdf9-41cf-ae10-7e930af739f5",
   "metadata": {},
   "outputs": [],
   "source": [
    "# 로프의 개수\n",
    "n = int(input())\n",
    "\n",
    "# 각 로프의 최대 중량을 입력받아 리스트에 저장\n",
    "ropes = [int(input()) for _ in range(n)]\n",
    "\n",
    "# 로프를 정렬하여 오름차순으로 나열\n",
    "ropes.sort()\n",
    "\n",
    "# 각 로프를 사용할 때 들 수 있는 중량을 계산하여 최댓값을 찾음\n",
    "max_weight = 0\n",
    "for i in range(n):\n",
    "    weight = ropes[i] * (n - i)\n",
    "    max_weight = max(max_weight, weight)\n",
    "\n",
    "print(max_weight)\n"
   ]
  },
  {
   "cell_type": "markdown",
   "id": "4096bbef-07e5-4d4e-8d49-a4bfe6cb2dda",
   "metadata": {
    "jp-MarkdownHeadingCollapsed": true
   },
   "source": [
    "## 08 day"
   ]
  },
  {
   "cell_type": "markdown",
   "id": "7e430e75-f339-4247-9ca1-1aaca158739f",
   "metadata": {},
   "source": [
    "### 2752 세수정렬"
   ]
  },
  {
   "cell_type": "code",
   "execution_count": null,
   "id": "f3df5ffe-10f2-4d91-af77-e1c432b28c32",
   "metadata": {},
   "outputs": [],
   "source": [
    "# 세 수를 입력받습니다.\n",
    "numbers = list(map(int, input().split()))\n",
    "\n",
    "# 세 수를 오름차순으로 정렬합니다.\n",
    "numbers.sort()\n",
    "\n",
    "# 정렬된 세 수를 출력합니다.\n",
    "print(numbers[0], numbers[1], numbers[2])\n"
   ]
  },
  {
   "cell_type": "markdown",
   "id": "3b4d9caf-e79a-4aa9-ae7c-b241373bddc1",
   "metadata": {
    "jp-MarkdownHeadingCollapsed": true
   },
   "source": [
    "## 10 day"
   ]
  },
  {
   "cell_type": "markdown",
   "id": "cae0ffc4-d664-407c-93ea-e423a46c3bc4",
   "metadata": {},
   "source": [
    "### 25305 커트라인"
   ]
  },
  {
   "cell_type": "code",
   "execution_count": 14,
   "id": "e8a4ae21-9316-4999-af21-bdc4228a9a04",
   "metadata": {},
   "outputs": [
    {
     "name": "stdin",
     "output_type": "stream",
     "text": [
      " 5 2\n",
      " 100 76 85 93 98\n"
     ]
    },
    {
     "name": "stdout",
     "output_type": "stream",
     "text": [
      "98\n"
     ]
    }
   ],
   "source": [
    "n, k = map(int, input().split())\n",
    "x = list(map(int, input().split()))\n",
    "\n",
    "x.sort(reverse=True)\n",
    "print(x[k-1])"
   ]
  },
  {
   "cell_type": "code",
   "execution_count": 13,
   "id": "dce9a5fa-ca59-4591-a370-286791748593",
   "metadata": {},
   "outputs": [
    {
     "data": {
      "text/plain": [
       "[100, 98, 93, 85, 76]"
      ]
     },
     "execution_count": 13,
     "metadata": {},
     "output_type": "execute_result"
    }
   ],
   "source": [
    "x"
   ]
  },
  {
   "cell_type": "markdown",
   "id": "35083023-f462-4d96-8918-9eb92f0786e9",
   "metadata": {
    "jp-MarkdownHeadingCollapsed": true
   },
   "source": [
    "## 12 day"
   ]
  },
  {
   "cell_type": "markdown",
   "id": "c5ad126c-4da5-4819-89ab-8cb99943729f",
   "metadata": {},
   "source": [
    "### 10610 30"
   ]
  },
  {
   "cell_type": "code",
   "execution_count": null,
   "id": "403c1ea8-06d4-45dd-9639-05ec15405926",
   "metadata": {},
   "outputs": [],
   "source": [
    "def solve(n):\n",
    "    # 입력받은 숫자를 문자열로 변환하여 각 자리수를 리스트로 저장\n",
    "    digits = list(str(n))\n",
    "    \n",
    "    # 자리수의 합이 3의 배수이고 0이 하나 이상 포함되어 있는지 확인\n",
    "    if sum(map(int, digits)) % 3 != 0 or '0' not in digits:\n",
    "        print(-1)\n",
    "        return\n",
    "    \n",
    "    # 자리수를 내림차순으로 정렬\n",
    "    digits.sort(reverse=True)\n",
    "    \n",
    "    # 정렬된 자리수를 이어붙여서 숫자 생성\n",
    "    result = int(''.join(digits))\n",
    "    \n",
    "    print(result)\n",
    "\n",
    "# 입력 받기\n",
    "n = int(input())\n",
    "\n",
    "# 문제 해결 함수 호출\n",
    "solve(n)\n"
   ]
  },
  {
   "cell_type": "markdown",
   "id": "13425bcd-fbf9-4a2b-9d2c-2be32fd74625",
   "metadata": {
    "jp-MarkdownHeadingCollapsed": true
   },
   "source": [
    "## 13 day"
   ]
  },
  {
   "cell_type": "markdown",
   "id": "605d7d32-85cc-476f-b410-35fd6f68a2f0",
   "metadata": {},
   "source": [
    "### 1946 신입 사원"
   ]
  },
  {
   "cell_type": "code",
   "execution_count": 8,
   "id": "56f06c1e-e3ab-4a98-b7aa-cfccec6e5007",
   "metadata": {
    "scrolled": true
   },
   "outputs": [
    {
     "data": {
      "text/plain": [
       "['2',\n",
       " '5',\n",
       " '3 2',\n",
       " '1 4',\n",
       " '4 1',\n",
       " '2 3',\n",
       " '5 5',\n",
       " '7',\n",
       " '3 6',\n",
       " '7 3',\n",
       " '4 2',\n",
       " '1 4',\n",
       " '5 7',\n",
       " '2 5',\n",
       " '6 1']"
      ]
     },
     "execution_count": 8,
     "metadata": {},
     "output_type": "execute_result"
    }
   ],
   "source": [
    "a = '''2\n",
    "5\n",
    "3 2\n",
    "1 4\n",
    "4 1\n",
    "2 3\n",
    "5 5\n",
    "7\n",
    "3 6\n",
    "7 3\n",
    "4 2\n",
    "1 4\n",
    "5 7\n",
    "2 5\n",
    "6 1'''\n",
    "\n",
    "n = a.split('\\n')\n",
    "n"
   ]
  },
  {
   "cell_type": "code",
   "execution_count": null,
   "id": "c4d6f6b1-3dde-4138-b949-8464b220ac16",
   "metadata": {},
   "outputs": [],
   "source": [
    "import sys\n",
    "\n",
    "t = int(sys.stdin.readline().rstrip())  # 테스트 케이스의 수\n",
    "\n",
    "for _ in range(t):\n",
    "    n = int(sys.stdin.readline().rstrip())  # 지원자의 수\n",
    "    applicants = []  # 지원자 정보를 담을 리스트\n",
    "\n",
    "    for _ in range(n):\n",
    "        document, interview = map(int, sys.stdin.readline().split())\n",
    "        applicants.append((document, interview))\n",
    "\n",
    "    applicants.sort()  # 서류 심사 성적을 기준으로 오름차순 정렬\n",
    "\n",
    "    # 면접 성적을 비교하며 선발된 지원자의 수 계산\n",
    "    count = 1\n",
    "    min_interview = applicants[0][1]\n",
    "    for i in range(1, n):\n",
    "        if applicants[i][1] < min_interview:\n",
    "            count += 1\n",
    "            min_interview = applicants[i][1]\n",
    "\n",
    "    print(count)\n"
   ]
  },
  {
   "cell_type": "markdown",
   "id": "2de4d3aa-dfa9-4e87-a068-d5fc96cb3cc9",
   "metadata": {
    "jp-MarkdownHeadingCollapsed": true
   },
   "source": [
    "## 14 day"
   ]
  },
  {
   "cell_type": "markdown",
   "id": "86d5dee5-fa95-4554-b387-01aeaf70f629",
   "metadata": {},
   "source": [
    "### 10825 국영수"
   ]
  },
  {
   "cell_type": "code",
   "execution_count": null,
   "id": "09dfdf8f-e645-410e-aff9-e8f212ab5380",
   "metadata": {},
   "outputs": [],
   "source": [
    "# 입력 받기\n",
    "n = int(input())\n",
    "students = []\n",
    "\n",
    "for _ in range(n):\n",
    "    name, kor, eng, math = input().split()\n",
    "    students.append((name, int(kor), int(eng), int(math)))\n",
    "\n",
    "# 정렬 조건에 따라 정렬하기\n",
    "students.sort(key=lambda x: (-x[1], x[2], -x[3], x[0]))\n",
    "\n",
    "# 정렬된 결과 출력\n",
    "for student in students:\n",
    "    print(student[0])\n"
   ]
  },
  {
   "cell_type": "markdown",
   "id": "cbf1d742-d383-41f6-83a4-6cca514eba2b",
   "metadata": {
    "jp-MarkdownHeadingCollapsed": true
   },
   "source": [
    "## 20 day"
   ]
  },
  {
   "cell_type": "markdown",
   "id": "37816252-ca59-48a2-9643-635e2780e474",
   "metadata": {},
   "source": [
    "### 11656 접미사 배열"
   ]
  },
  {
   "cell_type": "code",
   "execution_count": 12,
   "id": "42c297d9-356d-43f2-a6e0-5e71cf9eed83",
   "metadata": {},
   "outputs": [
    {
     "name": "stdout",
     "output_type": "stream",
     "text": [
      "aekjoon\n",
      "baekjoon\n",
      "ekjoon\n",
      "joon\n",
      "kjoon\n",
      "n\n",
      "on\n",
      "oon\n"
     ]
    }
   ],
   "source": [
    "s = 'baekjoon'\n",
    "li = []\n",
    "for i in range(len(s)) :\n",
    "    li.append(s[i:])\n",
    "li.sort()\n",
    "for i in li :\n",
    "    print(i)"
   ]
  },
  {
   "cell_type": "code",
   "execution_count": 9,
   "id": "e309d99b-52c8-41be-841c-7aed6ffd8ae3",
   "metadata": {},
   "outputs": [
    {
     "data": {
      "text/plain": [
       "range(0, 8)"
      ]
     },
     "execution_count": 9,
     "metadata": {},
     "output_type": "execute_result"
    }
   ],
   "source": [
    "range(len(s))"
   ]
  },
  {
   "cell_type": "code",
   "execution_count": 12,
   "id": "647e3921-21d5-4da6-bb66-5938c188b035",
   "metadata": {},
   "outputs": [
    {
     "name": "stdout",
     "output_type": "stream",
     "text": [
      "aekjoon\n",
      "baekjoon\n",
      "ekjoon\n",
      "joon\n",
      "kjoon\n",
      "n\n",
      "on\n",
      "oon\n"
     ]
    }
   ],
   "source": [
    "s = input()\n",
    "li = []\n",
    "for i in range(len(s)) :\n",
    "    li.append(s[i:])\n",
    "li.sort()\n",
    "for i in li :\n",
    "    print(i)"
   ]
  },
  {
   "cell_type": "code",
   "execution_count": null,
   "id": "2ae4b0ac-7fee-4038-8012-8c7495e13299",
   "metadata": {},
   "outputs": [],
   "source": []
  },
  {
   "cell_type": "markdown",
   "id": "b497744a-5ace-4a69-be9e-60cf8fd00b2f",
   "metadata": {
    "jp-MarkdownHeadingCollapsed": true
   },
   "source": [
    "## 26 day"
   ]
  },
  {
   "cell_type": "markdown",
   "id": "7a47cad1-e75e-4805-97fb-999d95e3ffdb",
   "metadata": {},
   "source": [
    "### 11004 K번째 수"
   ]
  },
  {
   "cell_type": "code",
   "execution_count": 5,
   "id": "43da3635-c985-4b27-b09a-2abf90337ebe",
   "metadata": {},
   "outputs": [
    {
     "name": "stdin",
     "output_type": "stream",
     "text": [
      " 5 2\n",
      " 4 1 2 3 5\n"
     ]
    },
    {
     "name": "stdout",
     "output_type": "stream",
     "text": [
      "2\n"
     ]
    }
   ],
   "source": [
    "n, k = map(int, input().split())\n",
    "A = list(map(int, input().split()))\n",
    "A.sort()\n",
    "print(A[k-1])"
   ]
  },
  {
   "cell_type": "code",
   "execution_count": 6,
   "id": "df5d4d6c-694f-4ae9-a56b-1eebd20ff629",
   "metadata": {},
   "outputs": [
    {
     "data": {
      "text/plain": [
       "[1, 2, 3, 4, 5]"
      ]
     },
     "execution_count": 6,
     "metadata": {},
     "output_type": "execute_result"
    }
   ],
   "source": [
    "A"
   ]
  },
  {
   "cell_type": "markdown",
   "id": "2365164f-a468-498c-8912-a5e0be6f543d",
   "metadata": {},
   "source": [
    "## 27 day"
   ]
  },
  {
   "cell_type": "markdown",
   "id": "9a98c315-029f-4872-9f36-b9d6bc0a5cee",
   "metadata": {},
   "source": [
    "### 3273 두 수의 합"
   ]
  },
  {
   "cell_type": "code",
   "execution_count": 4,
   "id": "4b4c2521-f1b1-4a84-b140-acb397a597d3",
   "metadata": {},
   "outputs": [
    {
     "data": {
      "text/plain": [
       "[1, 2, 3, 5, 7, 9, 10, 11, 12]"
      ]
     },
     "execution_count": 4,
     "metadata": {},
     "output_type": "execute_result"
    }
   ],
   "source": [
    "n = int('9')\n",
    "a = list(map(int, '5 12 7 10 9 1 2 3 11'.split()))\n",
    "x = int('13')\n",
    "\n",
    "a.sort()\n",
    "\n",
    "count = 0\n",
    "right = 0\n",
    "while right == 0 :\n",
    "    left = (len(a)-right) // 2\n",
    "    if (a[right]+ a[left]) == x :\n",
    "        count += 1\n",
    "        right -= 1\n",
    "    elif (a[right]+ a[left]) < x :\n",
    "        left += 1\n",
    "    elif (a[right]+ a[left]) > x :\n",
    "        left -= 1"
   ]
  },
  {
   "cell_type": "code",
   "execution_count": 5,
   "id": "49cdcca0-f097-457f-a4d8-696e8d0d4121",
   "metadata": {},
   "outputs": [],
   "source": [
    "# 한 쌍이 이루어지면 더이상 그 값은 쓸대가 없구나."
   ]
  },
  {
   "cell_type": "code",
   "execution_count": null,
   "id": "4a6421ca-6321-4e71-8f93-f319f047a2f4",
   "metadata": {},
   "outputs": [],
   "source": [
    "def find_pair_with_sum(arr, target_sum):\n",
    "    # 입력 배열을 정렬합니다.\n",
    "    arr.sort()\n",
    "    \n",
    "    # 시작과 끝 인덱스를 초기화합니다.\n",
    "    start, end = 0, len(arr) - 1\n",
    "    \n",
    "    # 합을 찾을 때까지 반복합니다.\n",
    "    count = 0\n",
    "    while start < end:\n",
    "        current_sum = arr[start] + arr[end]\n",
    "        \n",
    "        # 합이 목표 합보다 작으면 시작 인덱스를 증가시킵니다.\n",
    "        if current_sum < target_sum:\n",
    "            start += 1\n",
    "        # 합이 목표 합보다 크면 끝 인덱스를 감소시킵니다.\n",
    "        elif current_sum > target_sum:\n",
    "            end -= 1\n",
    "        # 합이 목표 합과 같으면 쌍을 찾았으므로 카운트를 증가시키고 인덱스를 이동합니다.\n",
    "        else:\n",
    "            count += 1\n",
    "            start += 1\n",
    "            end -= 1\n",
    "    \n",
    "    return count\n",
    "\n",
    "# 입력 받기\n",
    "n = int(input())\n",
    "arr = list(map(int, input().split()))\n",
    "target_sum = int(input())\n",
    "\n",
    "# 함수 호출하여 결과 출력\n",
    "result = find_pair_with_sum(arr, target_sum)\n",
    "print(result)\n"
   ]
  }
 ],
 "metadata": {
  "kernelspec": {
   "display_name": "Python 3 (ipykernel)",
   "language": "python",
   "name": "python3"
  },
  "language_info": {
   "codemirror_mode": {
    "name": "ipython",
    "version": 3
   },
   "file_extension": ".py",
   "mimetype": "text/x-python",
   "name": "python",
   "nbconvert_exporter": "python",
   "pygments_lexer": "ipython3",
   "version": "3.12.0"
  }
 },
 "nbformat": 4,
 "nbformat_minor": 5
}
