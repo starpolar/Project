{
 "cells": [
  {
   "cell_type": "markdown",
   "id": "31da9c63-da5e-4fd7-8f01-92ad550342de",
   "metadata": {},
   "source": [
    "# 정렬"
   ]
  },
  {
   "cell_type": "markdown",
   "id": "bf962e56-f0fc-4f55-8996-3dff79130740",
   "metadata": {},
   "source": [
    "## 10817/세 수"
   ]
  },
  {
   "cell_type": "code",
   "execution_count": 9,
   "id": "80a21821-d8bb-49c7-b07a-502bc0d4c1f6",
   "metadata": {},
   "outputs": [],
   "source": [
    "# n = input()\n",
    "n = '20 30 10'"
   ]
  },
  {
   "cell_type": "code",
   "execution_count": 10,
   "id": "99fbf97a-ce70-44b9-adcf-5c56ea9277e5",
   "metadata": {},
   "outputs": [],
   "source": [
    "n = list(map(int, n.split()))"
   ]
  },
  {
   "cell_type": "code",
   "execution_count": 12,
   "id": "b0359ebe-95cf-4f61-9e1a-8d0706f407d2",
   "metadata": {},
   "outputs": [
    {
     "data": {
      "text/plain": [
       "[20, 30, 10]"
      ]
     },
     "execution_count": 12,
     "metadata": {},
     "output_type": "execute_result"
    }
   ],
   "source": [
    "n"
   ]
  },
  {
   "cell_type": "code",
   "execution_count": 13,
   "id": "f88fd306-35ed-4f90-b2d0-4723e5068a66",
   "metadata": {},
   "outputs": [],
   "source": [
    "n.sort()"
   ]
  },
  {
   "cell_type": "code",
   "execution_count": null,
   "id": "b4234336-e545-411e-8220-d5c83d57934a",
   "metadata": {},
   "outputs": [],
   "source": [
    "n"
   ]
  },
  {
   "cell_type": "code",
   "execution_count": 20,
   "id": "0c866147-9dfa-4f0b-b409-cb54c5f8694c",
   "metadata": {},
   "outputs": [
    {
     "name": "stdout",
     "output_type": "stream",
     "text": [
      "<class 'int'>\n",
      "20\n"
     ]
    }
   ],
   "source": [
    "print(type(n[1]))\n",
    "print(n[1])"
   ]
  },
  {
   "cell_type": "code",
   "execution_count": null,
   "id": "3bfbb796-4ee2-43ab-b414-6f3d5a9469fa",
   "metadata": {},
   "outputs": [],
   "source": []
  },
  {
   "cell_type": "code",
   "execution_count": 29,
   "id": "01d5bb98-2896-4692-81dd-834e70236365",
   "metadata": {},
   "outputs": [
    {
     "name": "stdin",
     "output_type": "stream",
     "text": [
      " 20 10 10\n"
     ]
    },
    {
     "name": "stdout",
     "output_type": "stream",
     "text": [
      "10\n"
     ]
    }
   ],
   "source": [
    "n = sorted(list(map(int, input().split())))\n",
    "print(n[1])"
   ]
  },
  {
   "cell_type": "markdown",
   "id": "a6fd06a2-486d-4d06-8f94-f21d7f8fd88c",
   "metadata": {},
   "source": [
    "-----"
   ]
  },
  {
   "cell_type": "markdown",
   "id": "40bc9131-b4a9-4d15-9cf8-667fb1582c07",
   "metadata": {},
   "source": [
    "## next"
   ]
  },
  {
   "cell_type": "code",
   "execution_count": null,
   "id": "8ba6bd50-0721-4f78-9c00-ce6c822617cf",
   "metadata": {},
   "outputs": [],
   "source": []
  }
 ],
 "metadata": {
  "kernelspec": {
   "display_name": "Python 3 (ipykernel)",
   "language": "python",
   "name": "python3"
  },
  "language_info": {
   "codemirror_mode": {
    "name": "ipython",
    "version": 3
   },
   "file_extension": ".py",
   "mimetype": "text/x-python",
   "name": "python",
   "nbconvert_exporter": "python",
   "pygments_lexer": "ipython3",
   "version": "3.12.0"
  }
 },
 "nbformat": 4,
 "nbformat_minor": 5
}
