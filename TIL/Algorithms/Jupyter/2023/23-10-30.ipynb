{
 "cells": [
  {
   "cell_type": "markdown",
   "id": "0b38db22-7c9f-40fa-8e0f-d36d63413920",
   "metadata": {},
   "source": [
    "## 2751 / 수 정렬하기 2"
   ]
  },
  {
   "cell_type": "code",
   "execution_count": 17,
   "id": "68306908-fdd6-4b65-bc9c-c6e015f15a0f",
   "metadata": {},
   "outputs": [
    {
     "data": {
      "text/plain": [
       "[0, 1, 2, 3, 4]"
      ]
     },
     "execution_count": 17,
     "metadata": {},
     "output_type": "execute_result"
    }
   ],
   "source": [
    "N = 5\n",
    "list = []\n",
    "for i in range(N) :\n",
    "    list.append(i)\n",
    "list.sort()\n",
    "list"
   ]
  },
  {
   "cell_type": "code",
   "execution_count": 18,
   "id": "76a2acdd-9f34-4575-8e2d-6e70d8c5c106",
   "metadata": {},
   "outputs": [],
   "source": [
    "Num = N\n",
    "list = []\n",
    "for i in range(Num) :\n",
    "    list.append(Num)\n",
    "list.sort()"
   ]
  },
  {
   "cell_type": "code",
   "execution_count": 22,
   "id": "7cd8515a-a9ae-43b6-9c83-c2827a533e5e",
   "metadata": {
    "scrolled": true
   },
   "outputs": [
    {
     "name": "stdin",
     "output_type": "stream",
     "text": [
      " 5\n",
      " 13\n",
      " 6543\n",
      " 123\n",
      " 543\n",
      " 45\n"
     ]
    },
    {
     "name": "stdout",
     "output_type": "stream",
     "text": [
      "13\n",
      "45\n",
      "123\n",
      "543\n",
      "6543\n"
     ]
    }
   ],
   "source": [
    "n = input()\n",
    "ls = []\n",
    "for _ in range(int(n)) :\n",
    "    ls.append(int(input()))\n",
    "ls.sort()\n",
    "for i in ls :\n",
    "    print(i)"
   ]
  },
  {
   "cell_type": "markdown",
   "id": "44c20c4c-08ee-48cc-be19-410b203c59f2",
   "metadata": {},
   "source": [
    " "
   ]
  },
  {
   "cell_type": "markdown",
   "id": "d54dad6a-4523-4c6b-b329-054522e5ca8b",
   "metadata": {},
   "source": [
    "-----"
   ]
  },
  {
   "cell_type": "code",
   "execution_count": null,
   "id": "fdb05a00-1087-49f7-b215-2c766f5963fc",
   "metadata": {},
   "outputs": [],
   "source": []
  }
 ],
 "metadata": {
  "kernelspec": {
   "display_name": "Python 3 (ipykernel)",
   "language": "python",
   "name": "python3"
  },
  "language_info": {
   "codemirror_mode": {
    "name": "ipython",
    "version": 3
   },
   "file_extension": ".py",
   "mimetype": "text/x-python",
   "name": "python",
   "nbconvert_exporter": "python",
   "pygments_lexer": "ipython3",
   "version": "3.12.0"
  }
 },
 "nbformat": 4,
 "nbformat_minor": 5
}
