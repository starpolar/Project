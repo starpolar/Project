{
 "cells": [
  {
   "cell_type": "markdown",
   "id": "7fc2eb4a-4d58-493f-8b92-fc4fa65e7054",
   "metadata": {},
   "source": [
    "# 정렬"
   ]
  },
  {
   "cell_type": "markdown",
   "id": "48921d3f-cf03-4553-9847-8fa1657c28ed",
   "metadata": {},
   "source": [
    "## 11650 좌표 정렬하기"
   ]
  },
  {
   "cell_type": "code",
   "execution_count": 8,
   "id": "ed8ccde8-9a76-4b73-87a7-0ebda119d270",
   "metadata": {},
   "outputs": [],
   "source": [
    "a = set()"
   ]
  },
  {
   "cell_type": "code",
   "execution_count": 11,
   "id": "b5f57dfe-6b34-4228-9e45-39409393933f",
   "metadata": {},
   "outputs": [],
   "source": [
    "b = (1,2)"
   ]
  },
  {
   "cell_type": "code",
   "execution_count": 12,
   "id": "9bfb5c12-692a-4cec-8707-a8b1487d1dee",
   "metadata": {},
   "outputs": [],
   "source": [
    "a.add(b)"
   ]
  },
  {
   "cell_type": "code",
   "execution_count": 19,
   "id": "1d9e9ddb-b807-4bde-86cb-85a4eb5f407e",
   "metadata": {},
   "outputs": [
    {
     "data": {
      "text/plain": [
       "{(1, 2)}"
      ]
     },
     "execution_count": 19,
     "metadata": {},
     "output_type": "execute_result"
    }
   ],
   "source": [
    "a"
   ]
  },
  {
   "cell_type": "code",
   "execution_count": 14,
   "id": "9e7db505-50aa-43f6-8183-fcc736c2727d",
   "metadata": {},
   "outputs": [
    {
     "data": {
      "text/plain": [
       "set"
      ]
     },
     "execution_count": 14,
     "metadata": {},
     "output_type": "execute_result"
    }
   ],
   "source": [
    "type(a)"
   ]
  },
  {
   "cell_type": "code",
   "execution_count": 30,
   "id": "ca8f5b6b-9d2a-47a6-ad99-1ea3fedbd70b",
   "metadata": {},
   "outputs": [
    {
     "data": {
      "text/plain": [
       "[(1, 2)]"
      ]
     },
     "execution_count": 30,
     "metadata": {},
     "output_type": "execute_result"
    }
   ],
   "source": [
    "list(a)"
   ]
  },
  {
   "cell_type": "code",
   "execution_count": 15,
   "id": "d93d4c1d-605c-4c1e-bbe8-6e8952dc6299",
   "metadata": {},
   "outputs": [
    {
     "data": {
      "text/plain": [
       "tuple"
      ]
     },
     "execution_count": 15,
     "metadata": {},
     "output_type": "execute_result"
    }
   ],
   "source": [
    "type(b\n",
    "    )"
   ]
  },
  {
   "cell_type": "code",
   "execution_count": 33,
   "id": "f2ca067a-953d-4a84-b62f-33a0a07a2952",
   "metadata": {},
   "outputs": [],
   "source": [
    "c =[ [1, 2], [1, 2]]"
   ]
  },
  {
   "cell_type": "code",
   "execution_count": 35,
   "id": "80a2a787-0f9c-436f-94dc-78fdf8f56888",
   "metadata": {},
   "outputs": [
    {
     "data": {
      "text/plain": [
       "{1: 2}"
      ]
     },
     "execution_count": 35,
     "metadata": {},
     "output_type": "execute_result"
    }
   ],
   "source": [
    "dict(c)"
   ]
  },
  {
   "cell_type": "code",
   "execution_count": 36,
   "id": "21fb8a1c-8c9e-49fb-a87b-0557f5653bc9",
   "metadata": {},
   "outputs": [
    {
     "name": "stdout",
     "output_type": "stream",
     "text": [
      "[('a', 4), ('b', 3), ('c', 2), ('d', 1, 7), ('e', 5)]\n",
      "[('d', 1, 7), ('c', 2), ('b', 3), ('a', 4), ('e', 5)]\n"
     ]
    }
   ],
   "source": [
    "def sort_key(x):\n",
    "    return x[0]\n",
    "\n",
    "def sort_value(x):\n",
    "    return x[1]\n",
    "\n",
    "\n",
    "items = [('e', 5), ('a', 4), ('b', 3), ('c', 2), ('d', 1, 7)]\n",
    "\n",
    "items.sort(key=sort_key)\n",
    "print(items)\n",
    "\n",
    "items.sort(key=sort_value)\n",
    "print(items)"
   ]
  },
  {
   "cell_type": "code",
   "execution_count": 37,
   "id": "e0f579fa-a026-42b3-8d48-ff7713f80405",
   "metadata": {},
   "outputs": [
    {
     "name": "stdout",
     "output_type": "stream",
     "text": [
      "[('a', 4), ('b', 3), ('c', 2), ('d', 1, 7), ('e', 5)]\n",
      "[('d', 1, 7), ('c', 2), ('b', 3), ('a', 4), ('e', 5)]\n"
     ]
    },
    {
     "ename": "IndexError",
     "evalue": "tuple index out of range",
     "output_type": "error",
     "traceback": [
      "\u001b[1;31m---------------------------------------------------------------------------\u001b[0m",
      "\u001b[1;31mIndexError\u001b[0m                                Traceback (most recent call last)",
      "Cell \u001b[1;32mIn[37], line 9\u001b[0m\n\u001b[0;32m      6\u001b[0m tuples\u001b[38;5;241m.\u001b[39msort(key\u001b[38;5;241m=\u001b[39m\u001b[38;5;28;01mlambda\u001b[39;00m x: x[\u001b[38;5;241m1\u001b[39m])\n\u001b[0;32m      7\u001b[0m \u001b[38;5;28mprint\u001b[39m(tuples)\n\u001b[1;32m----> 9\u001b[0m \u001b[43mtuples\u001b[49m\u001b[38;5;241;43m.\u001b[39;49m\u001b[43msort\u001b[49m\u001b[43m(\u001b[49m\u001b[43mkey\u001b[49m\u001b[38;5;241;43m=\u001b[39;49m\u001b[38;5;28;43;01mlambda\u001b[39;49;00m\u001b[43m \u001b[49m\u001b[43mx\u001b[49m\u001b[43m:\u001b[49m\u001b[43m \u001b[49m\u001b[43mx\u001b[49m\u001b[43m[\u001b[49m\u001b[38;5;241;43m2\u001b[39;49m\u001b[43m]\u001b[49m\u001b[43m)\u001b[49m\n\u001b[0;32m     10\u001b[0m \u001b[38;5;28mprint\u001b[39m(tuples)\n",
      "Cell \u001b[1;32mIn[37], line 9\u001b[0m, in \u001b[0;36m<lambda>\u001b[1;34m(x)\u001b[0m\n\u001b[0;32m      6\u001b[0m tuples\u001b[38;5;241m.\u001b[39msort(key\u001b[38;5;241m=\u001b[39m\u001b[38;5;28;01mlambda\u001b[39;00m x: x[\u001b[38;5;241m1\u001b[39m])\n\u001b[0;32m      7\u001b[0m \u001b[38;5;28mprint\u001b[39m(tuples)\n\u001b[1;32m----> 9\u001b[0m tuples\u001b[38;5;241m.\u001b[39msort(key\u001b[38;5;241m=\u001b[39m\u001b[38;5;28;01mlambda\u001b[39;00m x: \u001b[43mx\u001b[49m\u001b[43m[\u001b[49m\u001b[38;5;241;43m2\u001b[39;49m\u001b[43m]\u001b[49m)\n\u001b[0;32m     10\u001b[0m \u001b[38;5;28mprint\u001b[39m(tuples)\n",
      "\u001b[1;31mIndexError\u001b[0m: tuple index out of range"
     ]
    }
   ],
   "source": [
    "tuples = [('e', 5), ('a',ㅠ 4), ('b', 3), ('c', 2), ('d', 1, 7)]\n",
    "\n",
    "tuples.sort(key=lambda x: x[0])\n",
    "print(tuples)\n",
    "\n",
    "tuples.sort(key=lambda x: x[1])\n",
    "print(tuples)\n",
    "\n",
    "tuples.sort(key=lambda x: x[2])\n",
    "print(tuples)"
   ]
  },
  {
   "cell_type": "code",
   "execution_count": null,
   "id": "9f4a950f-7826-42a3-b1d9-bae993da38ec",
   "metadata": {},
   "outputs": [],
   "source": []
  },
  {
   "cell_type": "markdown",
   "id": "36ee9d96-feb4-4925-ac35-81ae23c4ed03",
   "metadata": {
    "jp-MarkdownHeadingCollapsed": true
   },
   "source": [
    "### sys.stdin.readline() 의 output"
   ]
  },
  {
   "cell_type": "markdown",
   "id": "bdd12b4b-f07c-4a49-9709-53b92f3b4779",
   "metadata": {},
   "source": [
    "sys.stdin.readline()은 한줄 단위로 입력받기 때문에, 개행문자가 같이 입력 받아집니다.\n",
    "만약 3을 입력했다면, 3\\n 이 저장되기 때문에, 개행문자를 제거해야 합니다.\n",
    "또한, 변수 타입이 문자열 형태(str)로 저장되기 때문에, 정수로 사용하기 위해서 형변환을 거쳐야 합니다."
   ]
  },
  {
   "cell_type": "markdown",
   "id": "8f01ace1-ad35-4444-abe8-9f36ffdd4969",
   "metadata": {
    "jp-MarkdownHeadingCollapsed": true
   },
   "source": [
    "### tuple 정렬"
   ]
  },
  {
   "cell_type": "markdown",
   "id": "8b018d0d-f881-4713-8c11-26051fe9d55d",
   "metadata": {},
   "source": [
    "Output:\n",
    "\n",
    "[('a', 4), ('b', 3), ('c', 2), ('d', 1), ('e', 5)]\n",
    "[('d', 1), ('c', 2), ('b', 3), ('a', 4), ('e', 5)]\n",
    "위의 예제를 Lambda로 구현하면 다음과 같습니다.\n",
    "\n",
    "tuples = [('e', 5), ('a', 4), ('b', 3), ('c', 2), ('d', 1)]\n",
    "\n",
    "tuples.sort(key=lambda x: x[0])\n",
    "print(tuples)\n",
    "\n",
    "tuples.sort(key=lambda x: x[1])\n",
    "print(tuples)"
   ]
  },
  {
   "cell_type": "markdown",
   "id": "d2d3cfd0-0eca-45e2-82cf-1e0dc6ad1ec4",
   "metadata": {},
   "source": [
    "### "
   ]
  },
  {
   "cell_type": "code",
   "execution_count": 4,
   "id": "0fd79075-04e0-439b-a8a5-d1ed10b9c4dd",
   "metadata": {},
   "outputs": [
    {
     "name": "stdin",
     "output_type": "stream",
     "text": [
      " 3\n",
      " 1 1\n",
      " 1 -1\n",
      " 3 4\n"
     ]
    },
    {
     "name": "stdout",
     "output_type": "stream",
     "text": [
      "1 -1\n",
      "1 1\n",
      "3 4\n"
     ]
    },
    {
     "data": {
      "text/plain": [
       "[None, None, None]"
      ]
     },
     "execution_count": 4,
     "metadata": {},
     "output_type": "execute_result"
    }
   ],
   "source": [
    "n = int(input())\n",
    "li = []\n",
    "[li.append(tuple(input().split())) for _ in range(n)]\n",
    "li.sort()\n",
    "\n",
    "[print(i[0], i[1]) for i in li]"
   ]
  },
  {
   "cell_type": "code",
   "execution_count": 18,
   "id": "347451df-bd12-4bd6-9bfe-657d1ac105da",
   "metadata": {},
   "outputs": [
    {
     "name": "stdin",
     "output_type": "stream",
     "text": [
      " 3\n",
      " 3 4\n",
      " 1 1\n",
      " 1 -1\n"
     ]
    },
    {
     "name": "stdout",
     "output_type": "stream",
     "text": [
      "1 -1\n",
      "1 1\n",
      "3 4\n"
     ]
    }
   ],
   "source": [
    "n = int(input())\n",
    "li = []\n",
    "for _ in range(n) :\n",
    "    x, y = map(int, input().split())\n",
    "    li.append((x, y))\n",
    "li.sort(key=lambda x: (x[0], x[1]))\n",
    "\n",
    "for i in li :\n",
    "    print(i[0], i[1])"
   ]
  },
  {
   "cell_type": "markdown",
   "id": "7e306d26-2a25-4d59-a4c9-6b05c86afeac",
   "metadata": {
    "jp-MarkdownHeadingCollapsed": true
   },
   "source": [
    "### sort(key=lambda x: (x[0], x[1])) 에 람다함수를 넣는 이유는?"
   ]
  },
  {
   "cell_type": "markdown",
   "id": "bb1c4714-5cc2-43ac-b9c8-d12a9cf3e5e5",
   "metadata": {},
   "source": [
    "정렬 기준을 설정하기 위해: sort 함수는 리스트의 요소를 정렬할 때 특정 기준을 필요로 합니다. 이 때 람다 함수를 사용하면 각 요소에 대한 정렬 기준을 유연하게 정의할 수 있습니다. 람다 함수를 통해 (x[0], x[1]) 형태로 정렬 키를 설정하면 x좌표를 우선으로 정렬하고, x좌표가 같을 경우 y좌표를 기준으로 정렬합니다.\n",
    "\n",
    "별도의 함수 정의 없이 간편하게 사용하기 위해: 람다 함수를 사용하면 함수 이름을 정의하지 않고도 간단한 정렬 기준을 한 줄로 표현할 수 있습니다. 따라서 좌표를 정렬하는 작업을 더 간편하게 수행할 수 있습니다."
   ]
  },
  {
   "cell_type": "markdown",
   "id": "532ea42e-853d-48fd-88d6-8e33b5b97e5e",
   "metadata": {},
   "source": [
    "### "
   ]
  },
  {
   "cell_type": "code",
   "execution_count": 11,
   "id": "8d960b8a-0dfa-4c5a-a9e5-eb6478d78f78",
   "metadata": {},
   "outputs": [
    {
     "name": "stdin",
     "output_type": "stream",
     "text": [
      " 3 4\n"
     ]
    }
   ],
   "source": [
    "a = map(int, input().split())"
   ]
  },
  {
   "cell_type": "code",
   "execution_count": 14,
   "id": "2024f1d9-21e1-4bd4-b70e-7f6c4fd62271",
   "metadata": {},
   "outputs": [],
   "source": [
    "x, y = a"
   ]
  },
  {
   "cell_type": "code",
   "execution_count": 15,
   "id": "1ef45ead-68fb-448c-a57b-34cb5e9fbf2e",
   "metadata": {},
   "outputs": [
    {
     "data": {
      "text/plain": [
       "3"
      ]
     },
     "execution_count": 15,
     "metadata": {},
     "output_type": "execute_result"
    }
   ],
   "source": [
    "x"
   ]
  },
  {
   "cell_type": "code",
   "execution_count": 17,
   "id": "73808fb4-040e-4710-b9e5-c1d1bb07758b",
   "metadata": {},
   "outputs": [
    {
     "data": {
      "text/plain": [
       "int"
      ]
     },
     "execution_count": 17,
     "metadata": {},
     "output_type": "execute_result"
    }
   ],
   "source": [
    "type(y)"
   ]
  },
  {
   "cell_type": "code",
   "execution_count": 42,
   "id": "f08d9ac8-b5ba-421e-9806-2e34867bd973",
   "metadata": {},
   "outputs": [],
   "source": [
    "a = 'a b'\n"
   ]
  },
  {
   "cell_type": "code",
   "execution_count": 44,
   "id": "ba02f4af-c642-4fb6-b6c0-b855416363ee",
   "metadata": {},
   "outputs": [
    {
     "data": {
      "text/plain": [
       "('a', 'b')"
      ]
     },
     "execution_count": 44,
     "metadata": {},
     "output_type": "execute_result"
    }
   ],
   "source": [
    "tuple(a.split())"
   ]
  },
  {
   "cell_type": "markdown",
   "id": "20a1cb6e-1e21-4ce9-827d-b2f9733bb08a",
   "metadata": {},
   "source": [
    "-----"
   ]
  },
  {
   "cell_type": "code",
   "execution_count": null,
   "id": "29752c2f-4e08-4fbf-a03c-2a4c48127c64",
   "metadata": {},
   "outputs": [],
   "source": []
  }
 ],
 "metadata": {
  "kernelspec": {
   "display_name": "Python 3 (ipykernel)",
   "language": "python",
   "name": "python3"
  },
  "language_info": {
   "codemirror_mode": {
    "name": "ipython",
    "version": 3
   },
   "file_extension": ".py",
   "mimetype": "text/x-python",
   "name": "python",
   "nbconvert_exporter": "python",
   "pygments_lexer": "ipython3",
   "version": "3.12.0"
  }
 },
 "nbformat": 4,
 "nbformat_minor": 5
}
