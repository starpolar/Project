{
 "cells": [
  {
   "cell_type": "markdown",
   "id": "97fa5374-8f54-49b6-9e2b-6978631b68e1",
   "metadata": {},
   "source": [
    "# 정렬"
   ]
  },
  {
   "cell_type": "markdown",
   "id": "d86d71c6-9649-405b-8d38-c42d09e0415a",
   "metadata": {},
   "source": [
    "## 1181 단어 정렬"
   ]
  },
  {
   "cell_type": "code",
   "execution_count": 10,
   "id": "5e32bb29-28a7-4923-8212-b6d0c14faa91",
   "metadata": {},
   "outputs": [
    {
     "name": "stdin",
     "output_type": "stream",
     "text": [
      " 13\n",
      " but\n",
      " i\n",
      " wont\n",
      " gesitate\n",
      " no\n",
      " more\n",
      " no\n",
      " more\n",
      " it\n",
      " cannot\n",
      " wait\n",
      " im\n",
      " yours\n"
     ]
    },
    {
     "name": "stdout",
     "output_type": "stream",
     "text": [
      "no\n",
      "i\n",
      "wait\n",
      "gesitate\n",
      "yours\n",
      "it\n",
      "wont\n",
      "im\n",
      "cannot\n",
      "but\n",
      "more\n"
     ]
    }
   ],
   "source": [
    "n = int(input())\n",
    "li = []\n",
    "for _ in range(n) :\n",
    "    a = input()\n",
    "    li.append(a)\n",
    "result = set(sorted(li))\n",
    "for i in result :\n",
    "    print(i)\n"
   ]
  },
  {
   "cell_type": "code",
   "execution_count": 2,
   "id": "86887047-95d9-4d4c-8405-58950b5cdae2",
   "metadata": {},
   "outputs": [],
   "source": [
    "li = ['but',\n",
    "'i',\n",
    "'wont',\n",
    "'hesitate',\n",
    "'no',\n",
    "'more',\n",
    "'no',\n",
    "'more',\n",
    "'it',\n",
    "'cannot',\n",
    "'wait',\n",
    "'im',\n",
    "'yours']"
   ]
  },
  {
   "cell_type": "code",
   "execution_count": 5,
   "id": "5d1f3512-a0b5-411a-a644-429fd0d66e23",
   "metadata": {},
   "outputs": [
    {
     "data": {
      "text/plain": [
       "['but',\n",
       " 'i',\n",
       " 'wont',\n",
       " 'hesitate',\n",
       " 'no',\n",
       " 'more',\n",
       " 'no',\n",
       " 'more',\n",
       " 'it',\n",
       " 'cannot',\n",
       " 'wait',\n",
       " 'im',\n",
       " 'yours']"
      ]
     },
     "execution_count": 5,
     "metadata": {},
     "output_type": "execute_result"
    }
   ],
   "source": [
    "li"
   ]
  },
  {
   "cell_type": "code",
   "execution_count": 6,
   "id": "22f33158-cece-4d59-baa4-0cc8284e82fe",
   "metadata": {
    "scrolled": true
   },
   "outputs": [
    {
     "data": {
      "text/plain": [
       "{'but',\n",
       " 'cannot',\n",
       " 'hesitate',\n",
       " 'i',\n",
       " 'im',\n",
       " 'it',\n",
       " 'more',\n",
       " 'no',\n",
       " 'wait',\n",
       " 'wont',\n",
       " 'yours'}"
      ]
     },
     "execution_count": 6,
     "metadata": {},
     "output_type": "execute_result"
    }
   ],
   "source": [
    "set(sorted(li))"
   ]
  },
  {
   "cell_type": "code",
   "execution_count": 51,
   "id": "7ac55b66-fcab-4039-b7d9-11276b9ec203",
   "metadata": {},
   "outputs": [],
   "source": [
    "li = ['but',\n",
    "'i',\n",
    "'wont',\n",
    "'hesitate',\n",
    "'no',\n",
    "'more',\n",
    "'no',\n",
    "'more',\n",
    "'it',\n",
    "'cannot',\n",
    "'wait',\n",
    "'im',\n",
    "'yours']"
   ]
  },
  {
   "cell_type": "code",
   "execution_count": 55,
   "id": "df112aa8-546c-4555-8989-d530a6513d09",
   "metadata": {},
   "outputs": [
    {
     "data": {
      "text/plain": [
       "['but',\n",
       " 'cannot',\n",
       " 'hesitate',\n",
       " 'i',\n",
       " 'im',\n",
       " 'it',\n",
       " 'more',\n",
       " 'no',\n",
       " 'wait',\n",
       " 'wont',\n",
       " 'yours']"
      ]
     },
     "execution_count": 55,
     "metadata": {},
     "output_type": "execute_result"
    }
   ],
   "source": [
    "sorted(list(set(li)))"
   ]
  },
  {
   "cell_type": "code",
   "execution_count": null,
   "id": "2b1da0cc-94cb-4207-b2fb-5777458d971a",
   "metadata": {},
   "outputs": [],
   "source": [
    "n = 13\n",
    "# li = []\n",
    "# for _ in range(n) :\n",
    "#     a = input()\n",
    "#     li.append(a)\n",
    "li2 = sorted(list(set(li)))\n",
    "li2\n",
    "\n",
    "li2Len = []\n",
    "for i in li2 :\n",
    "    li2Len.append(len(i))\n",
    "print(li2Len)\n",
    "li2Len.sort()\n",
    "print(li2Len)\n",
    "li2Len[-1]\n",
    "\n",
    "result = []\n",
    "# \n",
    "# for j in range(len(li2)) :\n",
    "#     k = 0\n",
    "#     for i in li2Len :        \n",
    "#         if i == j :\n",
    "#             result.append(li2[k])\n",
    "#             break\n",
    "#         k += 1\n",
    "\n",
    "for i in range(1, li2Len[-1]+1) :\n",
    "    for j in li2 :\n",
    "        if len(j) == i :\n",
    "            result.append(j)\n",
    "\n",
    "result"
   ]
  },
  {
   "cell_type": "code",
   "execution_count": null,
   "id": "478c01e9-93a5-4648-83fb-295c1e8cf6b6",
   "metadata": {},
   "outputs": [],
   "source": []
  },
  {
   "cell_type": "code",
   "execution_count": 60,
   "id": "1ac222ab-0b24-4701-9156-f1e2b5d342bc",
   "metadata": {},
   "outputs": [
    {
     "name": "stdin",
     "output_type": "stream",
     "text": [
      " 13\n",
      " qwe\n",
      " yrtew\n",
      " dfgsd\n",
      " asdfasdf\n",
      " awerwer234234\n",
      " y345ytsrdgdsfg\n",
      " ewrawerasdr\n",
      " rasdf\n",
      " sadf\n",
      " sdaf\n",
      " asd\n",
      " f\n",
      " f\n"
     ]
    },
    {
     "name": "stdout",
     "output_type": "stream",
     "text": [
      "f\n",
      "asd\n",
      "qwe\n",
      "sadf\n",
      "sdaf\n",
      "dfgsd\n",
      "rasdf\n",
      "yrtew\n",
      "asdfasdf\n",
      "ewrawerasdr\n",
      "awerwer234234\n",
      "y345ytsrdgdsfg\n"
     ]
    }
   ],
   "source": [
    "n = int(input())\n",
    "li = []\n",
    "for _ in range(n) :\n",
    "    a = input()\n",
    "    li.append(a)\n",
    "li2 = sorted(list(set(li)))\n",
    "li2\n",
    "\n",
    "li2Len = []\n",
    "for i in li2 :\n",
    "    li2Len.append(len(i))\n",
    "li2Len.sort()\n",
    "\n",
    "result = []\n",
    "for i in range(1, li2Len[-1]+1) :\n",
    "    for j in li2 :\n",
    "        if len(j) == i :\n",
    "            result.append(j)\n",
    "            \n",
    "\n",
    "for i in result :\n",
    "    print(i)"
   ]
  },
  {
   "cell_type": "code",
   "execution_count": null,
   "id": "f993476b-38b3-4243-8313-2807a1ce4803",
   "metadata": {},
   "outputs": [],
   "source": []
  },
  {
   "cell_type": "code",
   "execution_count": null,
   "id": "68aa7b20-91fa-4a52-9374-527a80ad0223",
   "metadata": {},
   "outputs": [],
   "source": [
    "# 백준에서 시간 빨라지는 야매\n",
    "import sys\n",
    "\n",
    "input = sys.stdin.readline"
   ]
  },
  {
   "cell_type": "code",
   "execution_count": 2,
   "id": "3341014a-94d1-4922-93eb-86beff5b05c5",
   "metadata": {},
   "outputs": [
    {
     "name": "stdin",
     "output_type": "stream",
     "text": [
      " 3\n",
      " qeqw\n",
      " rew\n",
      " e\n"
     ]
    },
    {
     "name": "stdout",
     "output_type": "stream",
     "text": [
      "<class 'tuple'>\n",
      "e\n",
      "rew\n",
      "qeqw\n"
     ]
    }
   ],
   "source": [
    "# 하지만 튜플 사용한것은 좋음\n",
    "# x = 5\n",
    "x = int(input())\n",
    "a = set()\n",
    "\n",
    "\n",
    "for i in range(x) :\n",
    "    y = input().rstrip() #rstrip 또 왜썼는지 모름\n",
    "    a.add((len(y),y))\n",
    "\n",
    "a = list(a)\n",
    "a\n",
    "\n",
    "a.sort()\n",
    "a\n",
    "print(type(a[0]))\n",
    "for j,i in a :\n",
    "    print(i)\n",
    "    "
   ]
  },
  {
   "cell_type": "code",
   "execution_count": null,
   "id": "239d90fe-db24-47c2-99e6-19d0e850bc87",
   "metadata": {},
   "outputs": [],
   "source": []
  },
  {
   "cell_type": "code",
   "execution_count": 67,
   "id": "04c5b9a1-3ae3-46d7-8b0b-96f28258060d",
   "metadata": {},
   "outputs": [
    {
     "name": "stdin",
     "output_type": "stream",
     "text": [
      " qwe\n",
      " qwe\n",
      " twerrqwe\n",
      " ewqq\n"
     ]
    },
    {
     "name": "stdout",
     "output_type": "stream",
     "text": [
      "qwe\n",
      "ewqq\n",
      "twerrqwe\n"
     ]
    }
   ],
   "source": [
    "# case_num = int(input())\n",
    "case_num = 4\n",
    "\n",
    "num = 0\n",
    "wlist = []\n",
    "while num < case_num:\n",
    "    wlist.append(input())\n",
    "    num += 1\n",
    "\n",
    "wlist = list(set(wlist))\n",
    "# wlist.sort()\n",
    "wlist.sort(key = len)\n",
    "\n",
    "for word in wlist:\n",
    "    print(word)"
   ]
  },
  {
   "cell_type": "code",
   "execution_count": null,
   "id": "c2e7c619-4f6e-408c-b407-cb73b2ab1950",
   "metadata": {},
   "outputs": [],
   "source": []
  }
 ],
 "metadata": {
  "kernelspec": {
   "display_name": "Python 3 (ipykernel)",
   "language": "python",
   "name": "python3"
  },
  "language_info": {
   "codemirror_mode": {
    "name": "ipython",
    "version": 3
   },
   "file_extension": ".py",
   "mimetype": "text/x-python",
   "name": "python",
   "nbconvert_exporter": "python",
   "pygments_lexer": "ipython3",
   "version": "3.12.0"
  }
 },
 "nbformat": 4,
 "nbformat_minor": 5
}
