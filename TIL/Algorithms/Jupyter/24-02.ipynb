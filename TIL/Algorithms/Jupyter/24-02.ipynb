{
 "cells": [
  {
   "cell_type": "markdown",
   "id": "4bea3ec8-ca77-4141-87de-98685de66c27",
   "metadata": {},
   "source": [
    "# 스택 Day 1~"
   ]
  },
  {
   "cell_type": "markdown",
   "id": "88c4cd90-f71f-42a0-97b3-4ba398c32774",
   "metadata": {
    "jp-MarkdownHeadingCollapsed": true
   },
   "source": [
    "## Day 1"
   ]
  },
  {
   "cell_type": "markdown",
   "id": "7e82083b-3ded-45d9-997c-6dc42b651625",
   "metadata": {},
   "source": [
    "### 1918 후위 표기식"
   ]
  },
  {
   "cell_type": "code",
   "execution_count": null,
   "id": "9b32440a-e2a9-47ee-aeb2-20b4fcf821c0",
   "metadata": {},
   "outputs": [],
   "source": [
    "def precedence(operator):\n",
    "    if operator == '+' or operator == '-':\n",
    "        return 1\n",
    "    elif operator == '*' or operator == '/':\n",
    "        return 2\n",
    "    else:\n",
    "        return 0\n",
    "\n",
    "def infix_to_postfix(expression):\n",
    "    stack = []\n",
    "    result = []\n",
    "\n",
    "    for char in expression:\n",
    "        if char.isalpha():\n",
    "            # 피연산자는 결과에 추가\n",
    "            result.append(char)\n",
    "        elif char == '(':\n",
    "            # 여는 괄호는 스택에 push\n",
    "            stack.append(char)\n",
    "        elif char == ')':\n",
    "            # 닫는 괄호를 만날 때까지 스택에서 pop하여 결과에 추가\n",
    "            while stack and stack[-1] != '(':\n",
    "                result.append(stack.pop())\n",
    "            stack.pop()  # 여는 괄호를 스택에서 제거\n",
    "        else:\n",
    "            # 연산자일 경우, 스택에 있는 연산자 중 우선순위가 높거나 같은 것을 모두 pop하여 결과에 추가\n",
    "            while stack and precedence(stack[-1]) >= precedence(char):\n",
    "                result.append(stack.pop())\n",
    "            stack.append(char)  # 현재 연산자를 스택에 push\n",
    "\n",
    "    # 스택에 남아 있는 모든 연산자를 결과에 추가\n",
    "    while stack:\n",
    "        result.append(stack.pop())\n",
    "\n",
    "    return ''.join(result)\n",
    "\n",
    "if __name__ == \"__main__\":\n",
    "    infix_expression = input()\n",
    "    postfix_expression = infix_to_postfix(infix_expression)\n",
    "    print(postfix_expression)\n"
   ]
  },
  {
   "cell_type": "markdown",
   "id": "4d0d1b7f-e156-4774-b294-38d6a32bfbf7",
   "metadata": {
    "jp-MarkdownHeadingCollapsed": true
   },
   "source": [
    "## Day 3"
   ]
  },
  {
   "cell_type": "markdown",
   "id": "fa4cb42c-726a-4986-91a5-42fe34493e91",
   "metadata": {},
   "source": [
    "### 17413 단어 뒤집기 2"
   ]
  },
  {
   "cell_type": "code",
   "execution_count": null,
   "id": "c71b5891-868f-4f6a-84c1-168b171984ca",
   "metadata": {},
   "outputs": [],
   "source": [
    "def reverse_string(s):\n",
    "    return s[::-1]\n",
    "\n",
    "def solution():\n",
    "    string = input().strip()\n",
    "    result = ''\n",
    "    tag_open = False\n",
    "    word = ''\n",
    "\n",
    "    for char in string:\n",
    "        if char == '<':\n",
    "            # 태그가 시작됨\n",
    "            result += reverse_string(word)\n",
    "            word = '<'\n",
    "            tag_open = True\n",
    "        elif char == '>':\n",
    "            # 태그가 끝남\n",
    "            result += word + '>'\n",
    "            word = ''\n",
    "            tag_open = False\n",
    "        elif tag_open:\n",
    "            # 태그 안의 문자는 그대로 두기\n",
    "            word += char\n",
    "        else:\n",
    "            # 태그 밖의 문자는 뒤집어서 저장\n",
    "            if char == ' ':\n",
    "                result += reverse_string(word) + ' '\n",
    "                word = ''\n",
    "            else:\n",
    "                word += char\n",
    "\n",
    "    # 마지막으로 태그 밖의 문자열을 뒤집어서 추가\n",
    "    result += reverse_string(word)\n",
    "\n",
    "    print(result)\n",
    "\n",
    "if __name__ == \"__main__\":\n",
    "    solution()\n"
   ]
  },
  {
   "cell_type": "markdown",
   "id": "dd4c9363-7753-43f2-b2f4-cc172b817bc2",
   "metadata": {
    "jp-MarkdownHeadingCollapsed": true
   },
   "source": [
    "## Day 4"
   ]
  },
  {
   "cell_type": "markdown",
   "id": "fb93a240-45b8-4ece-ab16-e1a2542ef88e",
   "metadata": {},
   "source": [
    "### 2504 괄호의 값"
   ]
  },
  {
   "cell_type": "code",
   "execution_count": 6,
   "id": "222924d3-26cc-4b81-83d6-af7aa8b2554d",
   "metadata": {},
   "outputs": [],
   "source": [
    "a = '(()[[]])([])'"
   ]
  },
  {
   "cell_type": "code",
   "execution_count": 1,
   "id": "5ec03b20-237c-482a-958b-5f01a8c11e8b",
   "metadata": {},
   "outputs": [],
   "source": [
    "a = '[][]((])'"
   ]
  },
  {
   "cell_type": "code",
   "execution_count": 1,
   "id": "21c99465-ac64-47a5-ac85-886274e6c95f",
   "metadata": {},
   "outputs": [],
   "source": [
    "a = '[][]((])'"
   ]
  },
  {
   "cell_type": "code",
   "execution_count": 14,
   "id": "4e49caf4-6323-46b7-8e56-2962dcbc5ae0",
   "metadata": {},
   "outputs": [
    {
     "data": {
      "text/plain": [
       "[4]"
      ]
     },
     "execution_count": 14,
     "metadata": {},
     "output_type": "execute_result"
    }
   ],
   "source": [
    "s = []\n",
    "num = 2\n",
    "s.append(2 * num or 2)\n",
    "s"
   ]
  },
  {
   "cell_type": "code",
   "execution_count": 18,
   "id": "909216b1-b897-4f32-bec6-6b40362e499e",
   "metadata": {},
   "outputs": [],
   "source": [
    "s = [')']"
   ]
  },
  {
   "cell_type": "code",
   "execution_count": null,
   "id": "f40dddf8-3d62-4a93-a8c7-75bae578ab2b",
   "metadata": {},
   "outputs": [],
   "source": [
    "b = s.pop()\n",
    "b"
   ]
  },
  {
   "cell_type": "code",
   "execution_count": 19,
   "id": "5bba9754-a7d6-4a60-93ae-a3b62c0d818d",
   "metadata": {},
   "outputs": [
    {
     "ename": "TypeError",
     "evalue": "unsupported operand type(s) for +=: 'int' and 'str'",
     "output_type": "error",
     "traceback": [
      "\u001b[1;31m---------------------------------------------------------------------------\u001b[0m",
      "\u001b[1;31mTypeError\u001b[0m                                 Traceback (most recent call last)",
      "Cell \u001b[1;32mIn[19], line 2\u001b[0m\n\u001b[0;32m      1\u001b[0m c \u001b[38;5;241m=\u001b[39m \u001b[38;5;241m0\u001b[39m\n\u001b[1;32m----> 2\u001b[0m \u001b[43mc\u001b[49m\u001b[43m \u001b[49m\u001b[38;5;241;43m+\u001b[39;49m\u001b[38;5;241;43m=\u001b[39;49m\u001b[43m \u001b[49m\u001b[43ms\u001b[49m\u001b[38;5;241;43m.\u001b[39;49m\u001b[43mpop\u001b[49m\u001b[43m(\u001b[49m\u001b[43m)\u001b[49m\n\u001b[0;32m      3\u001b[0m c\n",
      "\u001b[1;31mTypeError\u001b[0m: unsupported operand type(s) for +=: 'int' and 'str'"
     ]
    }
   ],
   "source": [
    "c = 0\n",
    "c += s.pop()\n",
    "c"
   ]
  },
  {
   "cell_type": "code",
   "execution_count": 29,
   "id": "b00d3f55-703e-4ca9-a318-0259cc69cfbf",
   "metadata": {},
   "outputs": [
    {
     "data": {
      "text/plain": [
       "2"
      ]
     },
     "execution_count": 29,
     "metadata": {},
     "output_type": "execute_result"
    }
   ],
   "source": [
    "res = 4\n",
    "res //= 2\n",
    "res"
   ]
  },
  {
   "cell_type": "code",
   "execution_count": 23,
   "id": "855ce494-50c2-4fb2-98b1-269a098b80a3",
   "metadata": {},
   "outputs": [
    {
     "name": "stdout",
     "output_type": "stream",
     "text": [
      "2\n"
     ]
    }
   ],
   "source": [
    "d = 0\n",
    "print(d or 2)"
   ]
  },
  {
   "cell_type": "code",
   "execution_count": 26,
   "id": "e3d79e37-78ee-4e49-836f-0c76c45a8215",
   "metadata": {},
   "outputs": [
    {
     "data": {
      "text/plain": [
       "False"
      ]
     },
     "execution_count": 26,
     "metadata": {},
     "output_type": "execute_result"
    }
   ],
   "source": [
    "0 == True"
   ]
  },
  {
   "cell_type": "code",
   "execution_count": null,
   "id": "ca522258-898b-46a3-a167-02b2cc8a604e",
   "metadata": {},
   "outputs": [],
   "source": [
    "# 괄호가 나오면 스택에 넣고\n",
    "# 닫으면 삭제한다\n",
    "# 괄호 종류가 두개니, 두개의 스택으로 구분하고 \n",
    "# 단,닫는 괄호가 나왔는데 비어있으면 fail\n",
    "# () 를 닫으면 +2\n",
    "# ]로 닫고 다음에 연속으로 같은걸 닫으면 *3"
   ]
  },
  {
   "cell_type": "code",
   "execution_count": 11,
   "id": "1819a8fc-ea9b-4132-9acb-add8254fae78",
   "metadata": {},
   "outputs": [
    {
     "name": "stdout",
     "output_type": "stream",
     "text": [
      "['('] )\n",
      "['['] ]\n",
      "[] ]\n",
      "[] )\n",
      "[] ]\n",
      "[] )\n",
      "25\n"
     ]
    }
   ],
   "source": [
    "stack1 = []\n",
    "stack2 = []\n",
    "stack1al = []\n",
    "stack2al = []\n",
    "result = 0\n",
    "tmp = ''\n",
    "tmpcnt1 = 0\n",
    "tmpcnt2 = 0\n",
    "for str in a :\n",
    "    if str == ')' and stack1 == [] :\n",
    "        result = 0\n",
    "        break\n",
    "    if str == ']' and stack2 == [] :\n",
    "        result = 0\n",
    "        break        \n",
    "    if tmp == '' :\n",
    "        pass\n",
    "    elif str != tmp :\n",
    "        if tmpcnt1 != 0 and tmp == ')' :\n",
    "            result += tmpcnt1\n",
    "            tmpcnt1 = 0\n",
    "            tmp = ''\n",
    "        elif tmpcnt2 != 0 and tmp == ']' :\n",
    "            result += tmpcnt2\n",
    "            tmpcnt2 = 0\n",
    "            tmp = ''\n",
    "    if str == tmp :\n",
    "        if str == ')' :\n",
    "            tmpcnt1 = tmpcnt1 * 2        \n",
    "        elif str == ']' :\n",
    "            tmpcnt2 = tmpcnt2 * 3            \n",
    "    if str == '(' :\n",
    "        stack1.append(str)\n",
    "        tmp = ''\n",
    "        tmpcnt1 = 0\n",
    "    elif str == '[' :\n",
    "        stack2.append(str)\n",
    "        tmp = ''\n",
    "        tmpcnt2 = 0\n",
    "    elif str == ')' :\n",
    "        stack1.pop()\n",
    "        print(stack1, str)\n",
    "        tmp = str       \n",
    "        result += 2\n",
    "        tmpcnt1 = 2\n",
    "        # if stack1 == [] :\n",
    "        #     result += 2\n",
    "        # else :\n",
    "        #     stack1al.append(2)    \n",
    "    elif str == ']' :\n",
    "        stack2.pop()\n",
    "        print(stack2, str)\n",
    "        tmp = str            \n",
    "        result += 3\n",
    "        tmpcnt2 = 3\n",
    "\n",
    "# tmp = 0\n",
    "# for al in stack1al :\n",
    "#     if tmp == 0 :\n",
    "#         tmp += al\n",
    "#     else :\n",
    "#         tmp = tmp * al\n",
    "# result += tmp\n",
    "\n",
    "# tmp = 0\n",
    "# for al in stack2al :\n",
    "#     if tmp == 0 :\n",
    "#         tmp += al\n",
    "#     else :\n",
    "#         tmp = tmp * al\n",
    "# result += tmp\n",
    "print(result)"
   ]
  },
  {
   "cell_type": "code",
   "execution_count": null,
   "id": "7187d0bc-268d-4828-9b39-610bcd875222",
   "metadata": {},
   "outputs": [],
   "source": [
    "def is_valid(s):\n",
    "    stack = []\n",
    "    for char in s:\n",
    "        if char == '(' or char == '[':\n",
    "            stack.append(char)\n",
    "        elif char == ')':\n",
    "            if not stack or stack[-1] != '(':\n",
    "                return False\n",
    "            stack.pop()\n",
    "        elif char == ']':\n",
    "            if not stack or stack[-1] != '[':\n",
    "                return False\n",
    "            stack.pop()\n",
    "    return not stack  # 스택이 비어있으면 올바른 괄호 문자열\n",
    "\n",
    "def calculate_value(s):\n",
    "    stack = []\n",
    "    for char in s:\n",
    "        if char == '(' or char == '[':\n",
    "            stack.append(char)\n",
    "        elif char == ')':\n",
    "            if not stack or stack[-1] == '[':\n",
    "                return 0  # 올바르지 않은 괄호 문자열\n",
    "            num = 0\n",
    "            while stack and stack[-1] != '(':\n",
    "                num += stack.pop()\n",
    "            stack.pop()  # '(' 제거\n",
    "            stack.append(2 * num or 2)  # 2 * num이 0일 경우 2를 스택에 추가\n",
    "        elif char == ']':\n",
    "            if not stack or stack[-1] == '(':\n",
    "                return 0  # 올바르지 않은 괄호 문자열\n",
    "            num = 0\n",
    "            while stack and stack[-1] != '[':\n",
    "                num += stack.pop()\n",
    "            stack.pop()  # '[' 제거\n",
    "            stack.append(3 * num or 3)  # 3 * num이 0일 경우 3을 스택에 추가\n",
    "\n",
    "    result = 0\n",
    "    while stack:\n",
    "        top = stack.pop()\n",
    "        if top == '(' or top == '[':\n",
    "            return 0  # 올바르지 않은 괄호 문자열\n",
    "        result += top\n",
    "\n",
    "    return result\n",
    "\n",
    "if __name__ == \"__main__\":\n",
    "    input_str = input().strip()\n",
    "    if is_valid(input_str):\n",
    "        result = calculate_value(input_str)\n",
    "        print(result)\n",
    "    else:\n",
    "        print(0)\n"
   ]
  },
  {
   "cell_type": "code",
   "execution_count": 28,
   "id": "9297a655-1772-4673-b3c6-4063611fcc69",
   "metadata": {},
   "outputs": [],
   "source": [
    "# 위의 것이 맞다는데.. 전혀 이해할수가 없어...."
   ]
  },
  {
   "cell_type": "markdown",
   "id": "37721158-0bcf-4480-8e7b-cd510b1690b0",
   "metadata": {
    "jp-MarkdownHeadingCollapsed": true
   },
   "source": [
    "## Day 5"
   ]
  },
  {
   "cell_type": "markdown",
   "id": "4e7ad83c-1256-4eec-86ef-fbe1f838e6bb",
   "metadata": {},
   "source": [
    "### 5397 키로거"
   ]
  },
  {
   "cell_type": "code",
   "execution_count": 2,
   "id": "898fc7c0-f141-4b9e-af64-6af80462588e",
   "metadata": {},
   "outputs": [
    {
     "name": "stdin",
     "output_type": "stream",
     "text": [
      " 2\n",
      " <<BP<ACd-\n"
     ]
    },
    {
     "name": "stdout",
     "output_type": "stream",
     "text": [
      "BACP\n"
     ]
    },
    {
     "name": "stdin",
     "output_type": "stream",
     "text": [
      " \n"
     ]
    },
    {
     "name": "stdout",
     "output_type": "stream",
     "text": [
      "\n"
     ]
    }
   ],
   "source": [
    "from collections import deque\n",
    "\n",
    "def process_keylogger(input_str):\n",
    "    left_stack = deque()\n",
    "    right_stack = deque()\n",
    "\n",
    "    for char in input_str:\n",
    "        if char == '<':\n",
    "            if left_stack:\n",
    "                right_stack.appendleft(left_stack.pop())\n",
    "        elif char == '>':\n",
    "            if right_stack:\n",
    "                left_stack.append(right_stack.popleft())\n",
    "        elif char == '-':\n",
    "            if left_stack:\n",
    "                left_stack.pop()\n",
    "        else:\n",
    "            left_stack.append(char)\n",
    "\n",
    "    return ''.join(left_stack + right_stack)\n",
    "\n",
    "# 입력 처리 및 출력\n",
    "t = int(input())\n",
    "for _ in range(t):\n",
    "    input_str = input()\n",
    "    result = process_keylogger(input_str)\n",
    "    print(result)\n"
   ]
  },
  {
   "cell_type": "code",
   "execution_count": 1,
   "id": "08366934-c1d0-4418-945b-910d58dc3750",
   "metadata": {},
   "outputs": [
    {
     "ename": "IndexError",
     "evalue": "pop from an empty deque",
     "output_type": "error",
     "traceback": [
      "\u001b[1;31m---------------------------------------------------------------------------\u001b[0m",
      "\u001b[1;31mIndexError\u001b[0m                                Traceback (most recent call last)",
      "Cell \u001b[1;32mIn[1], line 3\u001b[0m\n\u001b[0;32m      1\u001b[0m \u001b[38;5;28;01mfrom\u001b[39;00m \u001b[38;5;21;01mcollections\u001b[39;00m \u001b[38;5;28;01mimport\u001b[39;00m deque\n\u001b[0;32m      2\u001b[0m left_stack \u001b[38;5;241m=\u001b[39m deque()\n\u001b[1;32m----> 3\u001b[0m a \u001b[38;5;241m=\u001b[39m \u001b[43mleft_stack\u001b[49m\u001b[38;5;241;43m.\u001b[39;49m\u001b[43mpop\u001b[49m\u001b[43m(\u001b[49m\u001b[43m)\u001b[49m\n\u001b[0;32m      4\u001b[0m a\n",
      "\u001b[1;31mIndexError\u001b[0m: pop from an empty deque"
     ]
    }
   ],
   "source": [
    "from collections import deque\n",
    "left_stack = deque()\n",
    "a = left_stack.pop()\n",
    "a"
   ]
  },
  {
   "cell_type": "markdown",
   "id": "f0b723a3-b404-40e3-b49e-415330060db2",
   "metadata": {
    "jp-MarkdownHeadingCollapsed": true
   },
   "source": [
    "## Day 6"
   ]
  },
  {
   "cell_type": "markdown",
   "id": "b0619a55-2807-4ebd-9e23-b480996a05cd",
   "metadata": {},
   "source": [
    "### 1935 후위 표기식2"
   ]
  },
  {
   "cell_type": "code",
   "execution_count": 1,
   "id": "e7cc0251-308e-4160-ad90-285843a415f4",
   "metadata": {},
   "outputs": [
    {
     "name": "stdin",
     "output_type": "stream",
     "text": [
      " 5\n",
      " ABC*+DE/-\n"
     ]
    }
   ],
   "source": [
    "n = int(input())\n",
    "x = input()"
   ]
  },
  {
   "cell_type": "code",
   "execution_count": 8,
   "id": "d02ebd31-8929-437a-bebf-3d926e656772",
   "metadata": {},
   "outputs": [
    {
     "name": "stdin",
     "output_type": "stream",
     "text": [
      " 1\n",
      " 2\n",
      " 3\n"
     ]
    },
    {
     "name": "stdout",
     "output_type": "stream",
     "text": [
      "[1]  * 1\n",
      "[1, 6]  * 2\n",
      "[]  + 1\n",
      "[7]  + 2\n"
     ]
    },
    {
     "name": "stdin",
     "output_type": "stream",
     "text": [
      " 4\n",
      " 5\n"
     ]
    },
    {
     "name": "stdout",
     "output_type": "stream",
     "text": [
      "[7]  / 1\n",
      "[7, 0.8]  / 2\n",
      "[]  - 1\n",
      "[6.2]  - 2\n",
      "6 2\n"
     ]
    }
   ],
   "source": [
    "# A+B*C-D/E\n",
    "stack = []\n",
    "result = 0\n",
    "# for _ in range(n) :\n",
    "#     stack.append(int(input()))\n",
    "\n",
    "# index = 0\n",
    "\n",
    "# 바로 input 받아서 스택 연산해서 쌓기.\n",
    "for s in x :    \n",
    "    if s == '*' :\n",
    "        a = stack.pop()\n",
    "        b = stack.pop()\n",
    "        print(stack, ' '+s, 1)\n",
    "        stack.append(a * b)\n",
    "        print(stack, ' '+s, 2)\n",
    "    elif s == '+' :\n",
    "        a = stack.pop()\n",
    "        b = stack.pop()\n",
    "        print(stack, ' '+s, 1)\n",
    "        stack.append(a + b)\n",
    "        print(stack, ' '+s, 2)\n",
    "    elif s == '/' :\n",
    "        a = stack.pop()\n",
    "        b = stack.pop()\n",
    "        print(stack, ' '+s, 1)\n",
    "        stack.append(float(b / a))\n",
    "        print(stack, ' '+s, 2)\n",
    "    elif s == '-' :\n",
    "        a = stack.pop()\n",
    "        b = stack.pop()\n",
    "        print(stack, ' '+s, 1)\n",
    "        stack.append(float(b - a))\n",
    "        print(stack, ' '+s, 2)\n",
    "    else :\n",
    "        stack.append(int(input()))\n",
    "    # index += 1\n",
    "print(round(stack[0]), 2)"
   ]
  },
  {
   "cell_type": "code",
   "execution_count": 26,
   "id": "84af6d3f-548d-453f-b5f7-d27c735723bc",
   "metadata": {
    "scrolled": true
   },
   "outputs": [
    {
     "name": "stdin",
     "output_type": "stream",
     "text": [
      " 1\n",
      " AA+A+\n",
      " 1\n"
     ]
    },
    {
     "name": "stdout",
     "output_type": "stream",
     "text": [
      "3.00\n"
     ]
    }
   ],
   "source": [
    "n = int(input())\n",
    "x = input()\n",
    "\n",
    "stack = []\n",
    "tmps = ''\n",
    "num = 0\n",
    "for s in x :    \n",
    "    if s == '*' :\n",
    "        a = stack.pop()\n",
    "        b = stack.pop()\n",
    "        stack.append(a * b)\n",
    "    elif s == '+' :\n",
    "        a = stack.pop()\n",
    "        b = stack.pop()\n",
    "        stack.append(a + b)\n",
    "    elif s == '/' :\n",
    "        a = stack.pop()\n",
    "        b = stack.pop()\n",
    "        stack.append(float(b / a))\n",
    "    elif s == '-' :\n",
    "        a = stack.pop()\n",
    "        b = stack.pop()\n",
    "        stack.append(float(b - a))\n",
    "    elif tmps == s :\n",
    "        stack.append(num)\n",
    "    else :\n",
    "        tmps = s\n",
    "        num = int(input())\n",
    "        stack.append(num)\n",
    "result = stack[0]\n",
    "# print(round(result, 2))\n",
    "print(\"%.2f\" % stack[0])\n",
    "\n",
    "# EOF에러(인풋 받을께 없다는)가 나오니\n",
    "# strip() 을 해서 미리 받아놔야 하는듯."
   ]
  },
  {
   "cell_type": "code",
   "execution_count": 18,
   "id": "1d602bb7-467c-4837-800c-80a0237e0908",
   "metadata": {},
   "outputs": [
    {
     "data": {
      "text/plain": [
       "int"
      ]
     },
     "execution_count": 18,
     "metadata": {},
     "output_type": "execute_result"
    }
   ],
   "source": [
    "type(stack[0])"
   ]
  },
  {
   "cell_type": "code",
   "execution_count": 19,
   "id": "11e1344f-84a3-4fc0-bdb1-97e0fa4a2e42",
   "metadata": {},
   "outputs": [
    {
     "data": {
      "text/plain": [
       "3.0"
      ]
     },
     "execution_count": 19,
     "metadata": {},
     "output_type": "execute_result"
    }
   ],
   "source": [
    "float(stack[0])"
   ]
  },
  {
   "cell_type": "code",
   "execution_count": 22,
   "id": "71d38f9d-f92a-43d7-a20f-2cdcea3ba94c",
   "metadata": {},
   "outputs": [
    {
     "name": "stdin",
     "output_type": "stream",
     "text": [
      " 5\n",
      " ABC*+DE/-\n",
      " 1\n",
      " 2\n",
      " 3\n",
      " 4\n",
      " 5\n"
     ]
    },
    {
     "name": "stdout",
     "output_type": "stream",
     "text": [
      "6.20\n"
     ]
    }
   ],
   "source": [
    "def postfix_evaluation(expression, values):\n",
    "    stack = []\n",
    "    for char in expression:\n",
    "        if char.isalpha():\n",
    "            stack.append(values[ord(char) - ord('A')])\n",
    "        else:\n",
    "            operand2 = stack.pop()\n",
    "            operand1 = stack.pop()\n",
    "            if char == '+':\n",
    "                stack.append(operand1 + operand2)\n",
    "            elif char == '-':\n",
    "                stack.append(operand1 - operand2)\n",
    "            elif char == '*':\n",
    "                stack.append(operand1 * operand2)\n",
    "            elif char == '/':\n",
    "                stack.append(operand1 / operand2)\n",
    "    return stack[0]\n",
    "\n",
    "def main():\n",
    "    n = int(input())\n",
    "    expression = input().strip()\n",
    "    values = [int(input()) for _ in range(n)]\n",
    "    result = postfix_evaluation(expression, values)\n",
    "    print(\"%.2f\" % result)\n",
    "\n",
    "if __name__ == \"__main__\":\n",
    "    main()\n"
   ]
  },
  {
   "cell_type": "markdown",
   "id": "c99028a2-f08c-4d26-8ca1-b7baa31008bc",
   "metadata": {
    "jp-MarkdownHeadingCollapsed": true
   },
   "source": [
    "## Day 7"
   ]
  },
  {
   "cell_type": "markdown",
   "id": "5940732e-30a1-4cf9-b6d7-3f77b58e9f30",
   "metadata": {},
   "source": [
    "### 3986 좋은 단어"
   ]
  },
  {
   "cell_type": "code",
   "execution_count": 2,
   "id": "96024587-8798-4eb4-afa0-68199f2953cd",
   "metadata": {},
   "outputs": [
    {
     "name": "stdin",
     "output_type": "stream",
     "text": [
      " 3\n"
     ]
    }
   ],
   "source": [
    "n = int(input())"
   ]
  },
  {
   "cell_type": "code",
   "execution_count": null,
   "id": "67a06c34-036d-4dc7-bb28-0b1ea4d3f00e",
   "metadata": {},
   "outputs": [],
   "source": [
    "# stack에 차례대로 넣어서 제일 마지막 단어와 일치하면 pop"
   ]
  },
  {
   "cell_type": "code",
   "execution_count": 8,
   "id": "3e334482-2bae-452b-96d1-4ff164190965",
   "metadata": {},
   "outputs": [
    {
     "name": "stdin",
     "output_type": "stream",
     "text": [
      " ABAB\n"
     ]
    },
    {
     "name": "stdout",
     "output_type": "stream",
     "text": [
      "A\n",
      "B\n",
      "A\n",
      "B\n"
     ]
    },
    {
     "name": "stdin",
     "output_type": "stream",
     "text": [
      " AABB\n"
     ]
    },
    {
     "name": "stdout",
     "output_type": "stream",
     "text": [
      "A\n",
      "A\n",
      "['A'] 1\n",
      "[] 2\n",
      "B\n",
      "B\n",
      "['B'] 1\n",
      "[] 2\n"
     ]
    },
    {
     "name": "stdin",
     "output_type": "stream",
     "text": [
      " ABBA\n"
     ]
    },
    {
     "name": "stdout",
     "output_type": "stream",
     "text": [
      "A\n",
      "B\n",
      "B\n",
      "['A', 'B'] 1\n",
      "['A'] 2\n",
      "A\n",
      "['A'] 1\n",
      "[] 2\n",
      "2\n"
     ]
    }
   ],
   "source": [
    "result = 0\n",
    "for _ in range(n) :\n",
    "    x = input()\n",
    "    stack = []\n",
    "    for s in x :\n",
    "        print(s)\n",
    "        if not stack :\n",
    "            stack.append(s)\n",
    "        elif stack[-1] == s :\n",
    "            print(stack, 1)\n",
    "            stack.pop()\n",
    "            print(stack, 2)\n",
    "        else :\n",
    "            stack.append(s)\n",
    "    if not stack :\n",
    "        result += 1\n",
    "print(result)"
   ]
  },
  {
   "cell_type": "code",
   "execution_count": null,
   "id": "816c24ca-3daf-41b7-8bc6-a12dc014784a",
   "metadata": {},
   "outputs": [],
   "source": [
    "n = int(input())\n",
    "result = 0\n",
    "for _ in range(n) :\n",
    "    x = input()\n",
    "    stack = []\n",
    "    for s in x :\n",
    "        if not stack :\n",
    "            stack.append(s)\n",
    "        elif stack[-1] == s :\n",
    "            stack.pop()\n",
    "        else :\n",
    "            stack.append(s)\n",
    "    if not stack :\n",
    "        result += 1\n",
    "print(result)"
   ]
  },
  {
   "cell_type": "markdown",
   "id": "94e743fa-ba55-4d1d-bdd6-185302a5708b",
   "metadata": {
    "jp-MarkdownHeadingCollapsed": true
   },
   "source": [
    "## Day 8"
   ]
  },
  {
   "cell_type": "markdown",
   "id": "62515d0c-21db-4677-82c2-3030fae398d8",
   "metadata": {},
   "source": [
    "### 6549 히스토그램에서 가장 큰 직사각형"
   ]
  },
  {
   "cell_type": "code",
   "execution_count": null,
   "id": "ca61c02a-dc98-45a0-8226-b94c20124edb",
   "metadata": {},
   "outputs": [],
   "source": [
    "def largest_rectangle_area(heights):\n",
    "    stack = []\n",
    "    max_area = 0\n",
    "    index = 0\n",
    "    while index < len(heights):\n",
    "        if not stack or heights[index] >= heights[stack[-1]]:\n",
    "            stack.append(index)\n",
    "            index += 1\n",
    "        else:\n",
    "            top_of_stack = stack.pop()\n",
    "            area = heights[top_of_stack] * ((index - stack[-1] - 1) if stack else index)\n",
    "            max_area = max(max_area, area)\n",
    "\n",
    "    while stack:\n",
    "        top_of_stack = stack.pop()\n",
    "        area = heights[top_of_stack] * ((index - stack[-1] - 1) if stack else index)\n",
    "        max_area = max(max_area, area)\n",
    "\n",
    "    return max_area\n",
    "\n",
    "# 입력 받기\n",
    "while True:\n",
    "    n, *heights = map(int, input().split())\n",
    "    if n == 0:\n",
    "        break\n",
    "    print(largest_rectangle_area(heights))\n"
   ]
  },
  {
   "cell_type": "markdown",
   "id": "ceb2072d-cfab-46fd-85c1-70746578bd04",
   "metadata": {
    "jp-MarkdownHeadingCollapsed": true
   },
   "source": [
    "## Day 9"
   ]
  },
  {
   "cell_type": "markdown",
   "id": "021090e2-15ec-4b98-9597-7ef05abe4578",
   "metadata": {},
   "source": [
    "### 17608 막대기"
   ]
  },
  {
   "cell_type": "code",
   "execution_count": 4,
   "id": "1553349a-702e-4af6-9790-772d655f7c8c",
   "metadata": {},
   "outputs": [
    {
     "name": "stdin",
     "output_type": "stream",
     "text": [
      " 5\n",
      " 5\n",
      " 4\n",
      " 3\n",
      " 2\n",
      " 1\n"
     ]
    },
    {
     "name": "stdout",
     "output_type": "stream",
     "text": [
      "5\n"
     ]
    }
   ],
   "source": [
    "n = int(input())\n",
    "\n",
    "li = []\n",
    "for _ in range(n) :\n",
    "    li.append(int(input()))\n",
    "\n",
    "result = 1\n",
    "for i in li :\n",
    "    if i > li[-1] :\n",
    "        result += 1\n",
    "print(result)"
   ]
  },
  {
   "cell_type": "code",
   "execution_count": 13,
   "id": "58fec6f0-2c25-49fd-9a7b-ce8e941e4ddf",
   "metadata": {},
   "outputs": [
    {
     "ename": "ValueError",
     "evalue": "invalid literal for int() with base 10: ''",
     "output_type": "error",
     "traceback": [
      "\u001b[1;31m---------------------------------------------------------------------------\u001b[0m",
      "\u001b[1;31mValueError\u001b[0m                                Traceback (most recent call last)",
      "Cell \u001b[1;32mIn[13], line 3\u001b[0m\n\u001b[0;32m      1\u001b[0m \u001b[38;5;28;01mimport\u001b[39;00m \u001b[38;5;21;01msys\u001b[39;00m\n\u001b[1;32m----> 3\u001b[0m n \u001b[38;5;241m=\u001b[39m \u001b[38;5;28;43mint\u001b[39;49m\u001b[43m(\u001b[49m\u001b[43msys\u001b[49m\u001b[38;5;241;43m.\u001b[39;49m\u001b[43mstdin\u001b[49m\u001b[38;5;241;43m.\u001b[39;49m\u001b[43mreadline\u001b[49m\u001b[43m(\u001b[49m\u001b[43m)\u001b[49m\u001b[43m)\u001b[49m\n\u001b[0;32m      5\u001b[0m stack \u001b[38;5;241m=\u001b[39m []\n\u001b[0;32m      6\u001b[0m on \u001b[38;5;241m=\u001b[39m \u001b[38;5;241m0\u001b[39m\n",
      "\u001b[1;31mValueError\u001b[0m: invalid literal for int() with base 10: ''"
     ]
    }
   ],
   "source": [
    "import sys\n",
    "\n",
    "n = int(sys.stdin.readline())\n",
    "\n",
    "stack = []\n",
    "on = 0\n",
    "for _ in range(n) :\n",
    "    x = int(sys.stdin.readline())\n",
    "    if not stack :\n",
    "        stack.append(x)\n",
    "    elif x > stack[-1] or x == stack[-1] :\n",
    "        stack.pop()\n",
    "        on = 0\n",
    "        for i in stack :\n",
    "            if i == x :\n",
    "                on = 1\n",
    "                break\n",
    "        if on == 0 :\n",
    "            stack.append(x)\n",
    "    else :\n",
    "        stack.append(x)\n",
    "\n",
    "print(len(stack))"
   ]
  },
  {
   "cell_type": "code",
   "execution_count": null,
   "id": "93be688c-670e-4c43-9bf4-5ff2588b9661",
   "metadata": {},
   "outputs": [],
   "source": [
    "def count_visible_sticks(sticks):\n",
    "    stack = []  # 보이는 막대기들을 저장할 스택\n",
    "    count = 0   # 보이는 막대기의 개수를 세는 변수\n",
    "    \n",
    "    for stick in sticks:\n",
    "        # 스택이 비어있지 않고, 현재 막대기의 높이가 스택의 맨 위 막대기의 높이보다 크면\n",
    "        # 스택에서 맨 위 막대기를 제거하고 보이는 막대기 개수(count)를 1 증가시킴\n",
    "        while stack and stick >= stack[-1]:\n",
    "            stack.pop()\n",
    "        \n",
    "        # 현재 막대기를 스택에 추가\n",
    "        stack.append(stick)\n",
    "    \n",
    "    # 스택에 남아있는 막대기의 개수가 보이는 막대기의 총 개수임\n",
    "    return len(stack)\n",
    "\n",
    "# 입력 받기\n",
    "n = int(input())\n",
    "sticks = [int(input()) for _ in range(n)]\n",
    "\n",
    "# 보이는 막대기의 개수 계산\n",
    "result = count_visible_sticks(sticks)\n",
    "print(result)\n"
   ]
  },
  {
   "cell_type": "markdown",
   "id": "45089d59-ad18-4d25-bf2e-81ef523145fc",
   "metadata": {
    "jp-MarkdownHeadingCollapsed": true
   },
   "source": [
    "## Day 10"
   ]
  },
  {
   "cell_type": "markdown",
   "id": "233f5d88-b807-4ed8-a683-8efdcb0d54a3",
   "metadata": {},
   "source": [
    "### 1725 히스토그램"
   ]
  },
  {
   "cell_type": "code",
   "execution_count": null,
   "id": "baff12b0-da9a-4c1d-a4f1-ff709d422f89",
   "metadata": {},
   "outputs": [],
   "source": [
    "def largest_rectangle_histogram(histogram):\n",
    "    stack = []\n",
    "    max_area = 0\n",
    "    index = 0\n",
    "    while index < len(histogram):\n",
    "        if not stack or histogram[stack[-1]] <= histogram[index]:\n",
    "            stack.append(index)\n",
    "            index += 1\n",
    "        else:\n",
    "            top_of_stack = stack.pop()\n",
    "            width = index if not stack else index - stack[-1] - 1\n",
    "            max_area = max(max_area, histogram[top_of_stack] * width)\n",
    "    while stack:\n",
    "        top_of_stack = stack.pop()\n",
    "        width = index if not stack else len(histogram) - stack[-1] - 1\n",
    "        max_area = max(max_area, histogram[top_of_stack] * width)\n",
    "    return max_area\n",
    "\n",
    "n = int(input())\n",
    "histogram = []\n",
    "for _ in range(n):\n",
    "    histogram.append(int(input()))\n",
    "\n",
    "print(largest_rectangle_histogram(histogram))\n"
   ]
  },
  {
   "cell_type": "markdown",
   "id": "52bd6077-500d-42a4-8801-a0c95c5759f3",
   "metadata": {
    "jp-MarkdownHeadingCollapsed": true
   },
   "source": [
    "## Day 11"
   ]
  },
  {
   "cell_type": "markdown",
   "id": "41504047-bef2-4e0b-b683-4a917a3c2fd2",
   "metadata": {},
   "source": [
    "### 2812 크게 만들기"
   ]
  },
  {
   "cell_type": "code",
   "execution_count": null,
   "id": "381f6db5-4cce-4ac3-802a-264675444695",
   "metadata": {},
   "outputs": [],
   "source": [
    "from collections import deque\n",
    "\n",
    "def make_big_number(n, k, num):\n",
    "    stack = deque()\n",
    "    removed = 0\n",
    "\n",
    "    for digit in num:\n",
    "        # 스택이 비어있지 않고, 제거해야 할 숫자가 남아있고, 스택의 맨 위 숫자가 현재 숫자보다 작을 때\n",
    "        while stack and removed < k and stack[-1] < digit:\n",
    "            stack.pop()\n",
    "            removed += 1\n",
    "        stack.append(digit)\n",
    "\n",
    "    # 남은 제거해야 할 숫자들을 스택에서 제거\n",
    "    while removed < k:\n",
    "        stack.pop()\n",
    "        removed += 1\n",
    "\n",
    "    return ''.join(stack)\n",
    "\n",
    "if __name__ == \"__main__\":\n",
    "    n, k = map(int, input().split())\n",
    "    num = input().strip()\n",
    "    result = make_big_number(n, k, num)\n",
    "    print(result)\n"
   ]
  },
  {
   "cell_type": "markdown",
   "id": "55840875-08ad-44b2-865d-5fdd76dea548",
   "metadata": {
    "jp-MarkdownHeadingCollapsed": true
   },
   "source": [
    "## Day 12"
   ]
  },
  {
   "cell_type": "markdown",
   "id": "686dd212-a719-45bb-8e39-3e10d4fe59b3",
   "metadata": {},
   "source": [
    "### 28278 스택 2"
   ]
  },
  {
   "cell_type": "code",
   "execution_count": 2,
   "id": "ffba2f55-593c-43be-89c4-bf8db339a8bf",
   "metadata": {},
   "outputs": [
    {
     "name": "stdin",
     "output_type": "stream",
     "text": [
      " 9\n",
      " 4\n",
      " 1 3\n",
      " 1 5\n",
      " 3\n",
      " 2\n",
      " 5\n",
      " 2\n",
      " 2\n",
      " 5\n"
     ]
    }
   ],
   "source": [
    "n = int(input())\n",
    "li = [input() for _ in range(n)]"
   ]
  },
  {
   "cell_type": "code",
   "execution_count": 16,
   "id": "78b0eef2-2a9e-4fd9-a814-31ae1e6dd706",
   "metadata": {},
   "outputs": [
    {
     "data": {
      "text/plain": [
       "'3'"
      ]
     },
     "execution_count": 16,
     "metadata": {},
     "output_type": "execute_result"
    }
   ],
   "source": [
    "li[1].split()[1]"
   ]
  },
  {
   "cell_type": "code",
   "execution_count": 19,
   "id": "76be49c2-ceb7-4094-9ec0-12197eaa2e30",
   "metadata": {},
   "outputs": [
    {
     "data": {
      "text/plain": [
       "[2, 3]"
      ]
     },
     "execution_count": 19,
     "metadata": {},
     "output_type": "execute_result"
    }
   ],
   "source": [
    "s = [1, 2, 3]\n",
    "s[1:]"
   ]
  },
  {
   "cell_type": "code",
   "execution_count": 25,
   "id": "063ff2cd-0c52-4813-929d-e788dfd7128e",
   "metadata": {},
   "outputs": [
    {
     "name": "stdout",
     "output_type": "stream",
     "text": [
      "1\n",
      "2\n",
      "5\n",
      "3\n",
      "3\n",
      "-1\n",
      "-1\n"
     ]
    }
   ],
   "source": [
    "stack = []\n",
    "for com in li :\n",
    "    if com[0] == '1' :        \n",
    "        stack.append(com.split()[1])\n",
    "    elif com == '2' :\n",
    "        if stack :\n",
    "            x = stack.pop()\n",
    "            print(x)\n",
    "        else :\n",
    "            print(-1)\n",
    "    elif com == '3' :\n",
    "        print(len(stack))\n",
    "    elif com == '4' :\n",
    "        if not stack :\n",
    "            print(1)\n",
    "        else :\n",
    "            print(0)\n",
    "    elif com == '5' :\n",
    "        if stack :\n",
    "            print(stack[0])\n",
    "        else :\n",
    "            print(-1)"
   ]
  },
  {
   "cell_type": "code",
   "execution_count": 25,
   "id": "1160aa6e-cd96-4f64-866e-8e63e02e34fd",
   "metadata": {},
   "outputs": [
    {
     "name": "stdout",
     "output_type": "stream",
     "text": [
      "1\n",
      "2\n",
      "5\n",
      "3\n",
      "3\n",
      "-1\n",
      "-1\n"
     ]
    }
   ],
   "source": [
    "import sys\n",
    "\n",
    "n = int(sys.stdin.readline())\n",
    "li = [sys.stdin.readline().strip() for _ in range(n)]\n",
    "\n",
    "stack = []\n",
    "for com in li :\n",
    "    if com[0] == '1' :        \n",
    "        stack.append(com.split()[1])\n",
    "    elif com == '2' :\n",
    "        if stack :\n",
    "            x = stack.pop()\n",
    "            print(x)\n",
    "        else :\n",
    "            print(-1)\n",
    "    elif com == '3' :\n",
    "        print(len(stack))\n",
    "    elif com == '4' :\n",
    "        if not stack :\n",
    "            print(1)\n",
    "        else :\n",
    "            print(0)\n",
    "    elif com == '5' :\n",
    "        if stack :\n",
    "            print(stack[0])\n",
    "        else :\n",
    "            print(-1)"
   ]
  },
  {
   "cell_type": "code",
   "execution_count": null,
   "id": "4d6ed10f-c210-406c-9b0b-de2fc3bb7242",
   "metadata": {},
   "outputs": [],
   "source": [
    "import sys\n",
    "\n",
    "n = int(sys.stdin.readline())\n",
    "li = [sys.stdin.readline().strip() for _ in range(n)]\n",
    "\n",
    "stack = []\n",
    "for com in li :\n",
    "    if com[0] == '1' :        \n",
    "        stack.append(int(com.split()[1]))\n",
    "    elif com == '2' :\n",
    "        if stack :\n",
    "            x = stack.pop()\n",
    "            print(x)\n",
    "        else :\n",
    "            print(-1)\n",
    "    elif com == '3' :\n",
    "        print(len(stack))\n",
    "    elif com == '4' :\n",
    "        if not stack :\n",
    "            print(1)\n",
    "        else :\n",
    "            print(0)\n",
    "    elif com == '5' :\n",
    "        if stack :\n",
    "            print(stack[-1]) # 맨 위라며.. 문제 쓋\n",
    "        else :\n",
    "            print(-1)\n"
   ]
  },
  {
   "cell_type": "markdown",
   "id": "21955379-a19c-4755-bb2e-b90d5caf3fb7",
   "metadata": {
    "jp-MarkdownHeadingCollapsed": true
   },
   "source": [
    "## Day 13"
   ]
  },
  {
   "cell_type": "markdown",
   "id": "59fcbf29-8772-4c47-84bc-0a009a956bdc",
   "metadata": {},
   "source": [
    "### 17299 오등큰수"
   ]
  },
  {
   "cell_type": "code",
   "execution_count": 2,
   "id": "9cea330e-149f-4fd0-b084-9c14656b52c0",
   "metadata": {},
   "outputs": [
    {
     "name": "stdin",
     "output_type": "stream",
     "text": [
      " 7\n",
      " 1 1 2 3 4 2 1\n"
     ]
    }
   ],
   "source": [
    "n = int(input())\n",
    "A = list(map(int, input().split()))"
   ]
  },
  {
   "cell_type": "code",
   "execution_count": 3,
   "id": "8fc6972d-bce3-490b-a45e-77deb90ec90e",
   "metadata": {},
   "outputs": [
    {
     "data": {
      "text/plain": [
       "[1, 1, 2, 3, 4, 2, 1]"
      ]
     },
     "execution_count": 3,
     "metadata": {},
     "output_type": "execute_result"
    }
   ],
   "source": [
    "A"
   ]
  },
  {
   "cell_type": "code",
   "execution_count": null,
   "id": "d80b1d84-60c6-411c-8ee8-c441cf7db181",
   "metadata": {},
   "outputs": [],
   "source": []
  },
  {
   "cell_type": "code",
   "execution_count": 7,
   "id": "f40adecb-660f-406a-a860-de740512c996",
   "metadata": {},
   "outputs": [
    {
     "data": {
      "text/plain": [
       "Counter({1: 3, 2: 2, 3: 1, 4: 1})"
      ]
     },
     "execution_count": 7,
     "metadata": {},
     "output_type": "execute_result"
    }
   ],
   "source": [
    "count"
   ]
  },
  {
   "cell_type": "code",
   "execution_count": 10,
   "id": "968e5508-801d-4e9e-9d2e-5ee8f980921f",
   "metadata": {},
   "outputs": [
    {
     "data": {
      "text/plain": [
       "[-1, -1, -1, -1, -1, -1, -1]"
      ]
     },
     "execution_count": 10,
     "metadata": {},
     "output_type": "execute_result"
    }
   ],
   "source": [
    "answer = [-1] * n\n",
    "answer"
   ]
  },
  {
   "cell_type": "code",
   "execution_count": 6,
   "id": "9a19ed67-ddba-4e34-8ddf-1318a2e42ac7",
   "metadata": {},
   "outputs": [
    {
     "name": "stdin",
     "output_type": "stream",
     "text": [
      " 7\n",
      " 1 1 2 3 4 2 1\n"
     ]
    },
    {
     "name": "stdout",
     "output_type": "stream",
     "text": [
      "-1 -1 1 2 2 1 -1\n"
     ]
    }
   ],
   "source": [
    "import sys\n",
    "from collections import Counter\n",
    "\n",
    "\n",
    "n = int(input())\n",
    "sequence = list(map(int, input().split()))\n",
    "\n",
    "# 수열의 등장 횟수를 카운트\n",
    "count = Counter(sequence)\n",
    "\n",
    "# 오등큰수를 저장할 배열\n",
    "answer = [-1] * n\n",
    "\n",
    "# 스택에는 인덱스를 저장함\n",
    "stack = []\n",
    "\n",
    "# 스택에는 수열의 인덱스를 넣어서 관리\n",
    "stack.append(0)\n",
    "\n",
    "\n",
    "for i in range(1, n):\n",
    "    # 현재 값이 스택이 비어있지 않고, 스택의 가장 위의 값이 현재 값보다 작다면\n",
    "    while stack and count[sequence[stack[-1]]] < count[sequence[i]]:\n",
    "        # 오등큰수 배열의 해당 인덱스에 현재 값 저장\n",
    "        answer[stack.pop()] = sequence[i]\n",
    "    # 현재 인덱스를 스택에 저장\n",
    "    stack.append(i)\n",
    "\n",
    "# 결과 출력\n",
    "print(' '.join(map(str, answer)))\n",
    "\n"
   ]
  },
  {
   "cell_type": "code",
   "execution_count": null,
   "id": "4dd5834a-518b-4ae7-9c47-808efd503ae8",
   "metadata": {},
   "outputs": [],
   "source": [
    "import sys\n",
    "from collections import Counter\n",
    "\n",
    "def main():\n",
    "    n = int(input())\n",
    "    sequence = list(map(int, sys.stdin.readline().split()))\n",
    "\n",
    "    # 수열의 등장 횟수를 카운트\n",
    "    count = Counter(sequence)\n",
    "\n",
    "    # 오등큰수를 저장할 배열\n",
    "    answer = [-1] * n\n",
    "\n",
    "    # 스택에는 인덱스를 저장함\n",
    "    stack = []\n",
    "    \n",
    "    # 스택에는 수열의 인덱스를 넣어서 관리\n",
    "    stack.append(0)\n",
    "\n",
    "    for i in range(1, n):\n",
    "        # 현재 값이 스택이 비어있지 않고, 스택의 가장 위의 값이 현재 값보다 작다면\n",
    "        while stack and count[sequence[stack[-1]]] < count[sequence[i]]:\n",
    "            # 오등큰수 배열의 해당 인덱스에 현재 값 저장\n",
    "            answer[stack.pop()] = sequence[i]\n",
    "        # 현재 인덱스를 스택에 저장\n",
    "        stack.append(i)\n",
    "\n",
    "    # 결과 출력\n",
    "    print(' '.join(map(str, answer)))\n",
    "\n",
    "if __name__ == \"__main__\":\n",
    "    main()\n"
   ]
  },
  {
   "cell_type": "markdown",
   "id": "1218de40-261f-4d35-b25b-66b856590366",
   "metadata": {
    "jp-MarkdownHeadingCollapsed": true
   },
   "source": [
    "## Day 14"
   ]
  },
  {
   "cell_type": "markdown",
   "id": "0e1ca50b-ba67-4eda-aa5f-a20a1c09627f",
   "metadata": {},
   "source": [
    "### 12789 도키도키 간식드리미"
   ]
  },
  {
   "cell_type": "code",
   "execution_count": null,
   "id": "afee2336-0903-462e-bc04-50736a26134a",
   "metadata": {},
   "outputs": [],
   "source": [
    "n = int(input())  # 사람의 수\n",
    "line = list(map(int, input().split()))  # 줄 서 있는 사람들의 키\n",
    "\n",
    "stack = []  # 대기열을 위한 스택\n",
    "expected = 1  # 기대하는 키 값\n",
    "\n",
    "for person in line:\n",
    "    # 현재 기대하는 키 값과 같은 사람이 줄의 맨 앞에 있으면 바로 나아가기\n",
    "    if person == expected:\n",
    "        expected += 1  # 다음으로 기대하는 키 값 증가\n",
    "    else:\n",
    "        # 스택이 비어있지 않고, 스택의 맨 위 사람이 기대하는 키 값과 같으면 나아가기\n",
    "        while stack and stack[-1] == expected:\n",
    "            stack.pop()  # 스택의 맨 위 사람 제거\n",
    "            expected += 1  # 다음으로 기대하는 키 값 증가\n",
    "        stack.append(person)  # 현재 사람을 스택에 추가\n",
    "\n",
    "# 스택에 남아있는 사람들이 주어진 순서대로 정렬할 수 있는지 확인\n",
    "while stack:\n",
    "    # 스택의 맨 위 사람이 기대하는 키 값과 같으면 나아가기\n",
    "    if stack[-1] == expected:\n",
    "        stack.pop()  # 스택의 맨 위 사람 제거\n",
    "        expected += 1  # 다음으로 기대하는 키 값 증가\n",
    "    else:\n",
    "        break  # 스택의 맨 위 사람이 기대하는 키 값과 같지 않으면 종료\n",
    "\n",
    "# 결과 출력\n",
    "if not stack:\n",
    "    print(\"Nice\")\n",
    "else:\n",
    "    print(\"Sad\")\n"
   ]
  },
  {
   "cell_type": "markdown",
   "id": "78fd4ef5-438e-4a2f-9405-b355dbd962e2",
   "metadata": {
    "jp-MarkdownHeadingCollapsed": true
   },
   "source": [
    "## Day 15"
   ]
  },
  {
   "cell_type": "markdown",
   "id": "66978a28-1df6-4c1e-91d0-24ff7f15d400",
   "metadata": {},
   "source": [
    "### 2304 창고 다각형"
   ]
  },
  {
   "cell_type": "code",
   "execution_count": null,
   "id": "7871e74a-66f2-407f-97be-62f4f705bb15",
   "metadata": {},
   "outputs": [],
   "source": [
    "# 입력 받기\n",
    "N = int(input())\n",
    "pillars = [0] * 1001  # 기둥의 높이를 저장할 리스트\n",
    "\n",
    "for _ in range(N):\n",
    "    idx, height = map(int, input().split())\n",
    "    pillars[idx] = height  # 해당 위치의 기둥 높이를 저장\n",
    "\n",
    "# 왼쪽에서 가장 높은 기둥까지의 높이 저장\n",
    "left_max = [0] * 1001\n",
    "max_height = 0\n",
    "for i in range(1001):\n",
    "    if pillars[i] > max_height:\n",
    "        max_height = pillars[i]\n",
    "    left_max[i] = max_height\n",
    "\n",
    "# 오른쪽에서 가장 높은 기둥까지의 높이 저장\n",
    "right_max = [0] * 1001\n",
    "max_height = 0\n",
    "for i in range(1000, -1, -1):\n",
    "    if pillars[i] > max_height:\n",
    "        max_height = pillars[i]\n",
    "    right_max[i] = max_height\n",
    "\n",
    "# 창고 다각형 넓이 계산\n",
    "area = 0\n",
    "for i in range(1001):\n",
    "    area += min(left_max[i], right_max[i])\n",
    "\n",
    "# 결과 출력\n",
    "print(area)"
   ]
  },
  {
   "cell_type": "markdown",
   "id": "c403cc39-ff5c-4fb7-856e-5adf600bf454",
   "metadata": {
    "jp-MarkdownHeadingCollapsed": true
   },
   "source": [
    "## Day 16"
   ]
  },
  {
   "cell_type": "markdown",
   "id": "72bc72c3-0995-409e-9765-9d1367664043",
   "metadata": {},
   "source": [
    "### 6198 옥상 정원 꾸미기"
   ]
  },
  {
   "cell_type": "code",
   "execution_count": null,
   "id": "283c013f-375e-4836-a381-5e8a63f5aa66",
   "metadata": {},
   "outputs": [],
   "source": [
    "def solution(buildings):\n",
    "    stack = []  # 빌딩의 높이를 저장할 스택\n",
    "    result = 0  # 보이는 빌딩의 수를 저장할 변수\n",
    "\n",
    "    for height in buildings:\n",
    "        # 스택이 비어있지 않고, 현재 빌딩의 높이가 스택의 맨 위 빌딩보다 크거나 같을 때까지 반복\n",
    "        while stack and height >= stack[-1]:\n",
    "            stack.pop()  # 현재 빌딩보다 작거나 같은 높이의 빌딩은 스택에서 제거\n",
    "        result += len(stack)  # 현재 빌딩을 볼 수 있는 빌딩의 수를 결과에 더함\n",
    "        stack.append(height)  # 현재 빌딩을 스택에 추가\n",
    "\n",
    "    return result\n",
    "\n",
    "# 입력 받기\n",
    "n = int(input())\n",
    "buildings = [int(input()) for _ in range(n)]\n",
    "\n",
    "# 문제 해결 및 결과 출력\n",
    "print(solution(buildings))\n"
   ]
  },
  {
   "cell_type": "markdown",
   "id": "22d87a75-5cb1-4dfc-8c81-c36e64434785",
   "metadata": {
    "jp-MarkdownHeadingCollapsed": true
   },
   "source": [
    "## Day 17"
   ]
  },
  {
   "cell_type": "markdown",
   "id": "2db5bf61-4594-435f-b409-8c525ad76ba2",
   "metadata": {},
   "source": [
    "### 3015 오아시스 재결합"
   ]
  },
  {
   "cell_type": "code",
   "execution_count": null,
   "id": "dcefdbc6-17bb-4da1-ba52-845dd063c991",
   "metadata": {},
   "outputs": [],
   "source": [
    "import sys\n",
    "\n",
    "def count_views(heights):\n",
    "    stack = []  # (키, 연속한 키의 수)를 저장하는 스택\n",
    "    views = 0   # 볼 수 있는 쌍의 수\n",
    "    \n",
    "    for height in heights:\n",
    "        count = 1  # 현재 키를 포함한 연속한 키의 수\n",
    "        while stack and stack[-1][0] <= height:\n",
    "            h, c = stack.pop()  # 스택의 가장 위에 있는 키와 그에 해당하는 연속한 키의 수\n",
    "            views += c  # 현재 키와 그보다 작은 키들이 볼 수 있는 사람들\n",
    "            if h == height:\n",
    "                count += c  # 현재 키와 같은 키의 연속한 키의 수를 더함\n",
    "            else:\n",
    "                count = 1  # 현재 키가 더 작은 경우, 현재 키를 포함한 연속한 키의 수는 1이 됨\n",
    "        if stack:  \n",
    "            views += 1  # 현재 키보다 큰 키의 사람은 현재 키를 볼 수 있음\n",
    "        stack.append((height, count))  # 현재 키를 스택에 추가\n",
    "    \n",
    "    return views\n",
    "\n",
    "if __name__ == \"__main__\":\n",
    "    n = int(sys.stdin.readline())\n",
    "    heights = [int(sys.stdin.readline()) for _ in range(n)]\n",
    "    print(count_views(heights))\n"
   ]
  },
  {
   "cell_type": "markdown",
   "id": "f0a6bb8e-f1bb-47e3-bab2-d9859c560671",
   "metadata": {
    "jp-MarkdownHeadingCollapsed": true
   },
   "source": [
    "## Day 18"
   ]
  },
  {
   "cell_type": "markdown",
   "id": "04bcbdb0-b1f3-4c31-8cab-4d1294dbebba",
   "metadata": {},
   "source": [
    "### 2841 외계인의 기타 연주"
   ]
  },
  {
   "cell_type": "code",
   "execution_count": null,
   "id": "78aa3930-9fd8-4cca-bbab-5e73310d565c",
   "metadata": {},
   "outputs": [],
   "source": [
    "n, p = map(int, input().split())\n",
    "\n",
    "# 각 줄마다 현재 누르고 있는 프렛을 저장할 리스트 초기화\n",
    "stacks = [[] for _ in range(7)]\n",
    "count = 0\n",
    "\n",
    "for _ in range(n):\n",
    "    line, fret = map(int, input().split())\n",
    "    # 현재 누르고 있는 프렛보다 높은 프렛이 나오면 해당 프렛보다 낮은 프렛을 모두 제거하고 그만큼 카운트 증가\n",
    "    while stacks[line] and stacks[line][-1] > fret:\n",
    "        stacks[line].pop()\n",
    "        count += 1\n",
    "    # 현재 누르는 프렛이 이미 누르고 있는 프렛과 같은 경우 무시\n",
    "    if stacks[line] and stacks[line][-1] == fret:\n",
    "        continue\n",
    "    # 새로운 프렛을 누르면 카운트 증가 및 스택에 추가\n",
    "    stacks[line].append(fret)\n",
    "    count += 1\n",
    "\n",
    "print(count)\n"
   ]
  },
  {
   "cell_type": "code",
   "execution_count": null,
   "id": "0a19806c-fee6-43fd-83b3-72d3ab7f4192",
   "metadata": {},
   "outputs": [],
   "source": [
    "import sys\n",
    "\n",
    "n, p = map(int, sys.stdin.readline().split())\n",
    "\n",
    "# 각 줄마다 현재 누르고 있는 프렛을 저장할 리스트 초기화\n",
    "stacks = [[] for _ in range(7)]\n",
    "count = 0\n",
    "\n",
    "for _ in range(n):\n",
    "    line, fret = map(int, sys.stdin.readline().split())\n",
    "    # 현재 누르고 있는 프렛보다 높은 프렛이 나오면 해당 프렛보다 낮은 프렛을 모두 제거하고 그만큼 카운트 증가\n",
    "    while stacks[line] and stacks[line][-1] > fret:\n",
    "        stacks[line].pop()\n",
    "        count += 1\n",
    "    # 현재 누르는 프렛이 이미 누르고 있는 프렛과 같은 경우 무시\n",
    "    if stacks[line] and stacks[line][-1] == fret:\n",
    "        continue\n",
    "    # 새로운 프렛을 누르면 카운트 증가 및 스택에 추가\n",
    "    stacks[line].append(fret)\n",
    "    count += 1\n",
    "\n",
    "print(count)\n"
   ]
  },
  {
   "cell_type": "markdown",
   "id": "38782ebf-a2e7-4619-aa6c-90f2af8e018b",
   "metadata": {
    "jp-MarkdownHeadingCollapsed": true
   },
   "source": [
    "## Day 19"
   ]
  },
  {
   "cell_type": "markdown",
   "id": "206dc3b8-75e0-46d1-8b9e-77a443fb24a8",
   "metadata": {},
   "source": [
    "### 12605 단어순서 뒤집기"
   ]
  },
  {
   "cell_type": "code",
   "execution_count": null,
   "id": "67ee42a5-46d5-4fab-b991-69b16e3c7676",
   "metadata": {},
   "outputs": [],
   "source": [
    "# 입력 받는 부분\n",
    "n = int(input())  # 입력할 문장의 개수\n",
    "\n",
    "# 각 문장에 대해 처리\n",
    "for i in range(n):\n",
    "    sentence = input().split()  # 문장을 공백을 기준으로 단어로 분리하여 리스트로 저장\n",
    "    reversed_sentence = ' '.join(sentence[::-1])  # 단어의 순서를 뒤집어 다시 문자열로 결합\n",
    "    print(\"Case #{}: {}\".format(i + 1, reversed_sentence))  # 결과 출력\n"
   ]
  },
  {
   "cell_type": "markdown",
   "id": "d586e7da-a443-40b7-8394-687253cc9a90",
   "metadata": {
    "jp-MarkdownHeadingCollapsed": true
   },
   "source": [
    "## Day 20"
   ]
  },
  {
   "cell_type": "markdown",
   "id": "22a46903-f71a-45ef-b676-25628ededa64",
   "metadata": {},
   "source": [
    "### 24511 queuestack"
   ]
  },
  {
   "cell_type": "code",
   "execution_count": null,
   "id": "38715e7c-9dea-4d35-a38a-26e0666a0442",
   "metadata": {},
   "outputs": [],
   "source": [
    "import sys\n",
    "\n",
    "class QueueStack:\n",
    "    def __init__(self):\n",
    "        self.queue = []\n",
    "\n",
    "    def push(self, x):\n",
    "        self.queue.append(x)\n",
    "\n",
    "    def pop(self):\n",
    "        if not self.queue:\n",
    "            return -1\n",
    "        return self.queue.pop(0)\n",
    "\n",
    "    def size(self):\n",
    "        return len(self.queue)\n",
    "\n",
    "    def empty(self):\n",
    "        return 1 if not self.queue else 0\n",
    "\n",
    "    def front(self):\n",
    "        return self.queue[0] if self.queue else -1\n",
    "\n",
    "    def back(self):\n",
    "        return self.queue[-1] if self.queue else -1\n",
    "\n",
    "queue_stack = QueueStack()\n",
    "n = int(sys.stdin.readline().strip())\n",
    "\n",
    "for _ in range(n):\n",
    "    command = sys.stdin.readline().split()\n",
    "    if command[0] == \"push\":\n",
    "        queue_stack.push(int(command[1]))\n",
    "    elif command[0] == \"pop\":\n",
    "        print(queue_stack.pop())\n",
    "    elif command[0] == \"size\":\n",
    "        print(queue_stack.size())\n",
    "    elif command[0] == \"empty\":\n",
    "        print(queue_stack.empty())\n",
    "    elif command[0] == \"front\":\n",
    "        print(queue_stack.front())\n",
    "    elif command[0] == \"back\":\n",
    "        print(queue_stack.back())\n"
   ]
  },
  {
   "cell_type": "markdown",
   "id": "80c11dbf-8c1e-4700-b99c-f7ce913491da",
   "metadata": {},
   "source": [
    "### 24511 16120\tPPAP"
   ]
  },
  {
   "cell_type": "code",
   "execution_count": null,
   "id": "c03cca64-65e5-4226-a835-1a8316f38e4d",
   "metadata": {},
   "outputs": [],
   "source": [
    "def is_PPAP(string):\n",
    "    stack = []\n",
    "    for char in string:\n",
    "        if char == 'P':\n",
    "            stack.append(char)\n",
    "        elif char == 'A':\n",
    "            if len(stack) >= 2 and stack[-1] == 'P':\n",
    "                stack.pop()\n",
    "                stack.pop()\n",
    "                stack.append('P')\n",
    "            else:\n",
    "                return False\n",
    "        else:\n",
    "            return False\n",
    "    return len(stack) == 1 and stack[0] == 'P'\n",
    "\n",
    "if __name__ == \"__main__\":\n",
    "    input_string = input().strip()\n",
    "    if is_PPAP(input_string):\n",
    "        print(\"PPAP\")\n",
    "    else:\n",
    "        print(\"NP\")\n"
   ]
  },
  {
   "cell_type": "markdown",
   "id": "bc09bd8d-3d87-4c52-8851-c8d79c3ea310",
   "metadata": {
    "jp-MarkdownHeadingCollapsed": true
   },
   "source": [
    "## Day 22"
   ]
  },
  {
   "cell_type": "markdown",
   "id": "b01684ac-a4a5-4d61-ac34-d1405cf7051c",
   "metadata": {},
   "source": [
    "### 1662 압축"
   ]
  },
  {
   "cell_type": "code",
   "execution_count": null,
   "id": "b0e6655d-2cd7-4766-8e76-af8dc2b133a6",
   "metadata": {},
   "outputs": [],
   "source": [
    "import sys\n",
    "\n",
    "def decompress(s):\n",
    "    stack = []\n",
    "    answer = ''\n",
    "\n",
    "    for char in s:\n",
    "        if char == '(':\n",
    "            stack.append(answer)  # 이전까지의 문자열을 스택에 저장\n",
    "            answer = ''  # 새로운 괄호 안의 문자열을 구성하기 위해 초기화\n",
    "        elif char == ')':\n",
    "            tmp = stack.pop()  # 직전까지의 문자열을 가져옴\n",
    "            k = int(tmp[-1])  # 숫자를 가져옴\n",
    "            tmp = tmp[:-1]  # 숫자를 제외한 문자열을 가져옴\n",
    "            answer = tmp + answer * k  # 반복하여 문자열을 구성\n",
    "        else:\n",
    "            answer += char  # 문자열 추가\n",
    "\n",
    "    return answer\n",
    "\n",
    "compressed_str = sys.stdin.readline().strip()\n",
    "print(len(decompress(compressed_str)))\n"
   ]
  },
  {
   "cell_type": "code",
   "execution_count": 18,
   "id": "3ef7037f-2807-4823-b9d7-733ad8c28862",
   "metadata": {},
   "outputs": [
    {
     "name": "stdout",
     "output_type": "stream",
     "text": [
      "47\n"
     ]
    }
   ],
   "source": [
    "def decompress(s, start, end):\n",
    "    length = 0\n",
    "    i = start\n",
    "    \n",
    "    while i < end:\n",
    "        if s[i] == '(':\n",
    "            inner_length, jump = decompress(s, i + 1, end)\n",
    "            length += (int(s[i - 1]) * inner_length)\n",
    "            i = jump\n",
    "        else:\n",
    "            length += 1\n",
    "            i += 1\n",
    "    \n",
    "    return length, i + 1\n",
    "\n",
    "s = \"33(562(71(9)))\"\n",
    "result, _ = decompress(s, 0, len(s))\n",
    "print(result)\n"
   ]
  },
  {
   "cell_type": "markdown",
   "id": "ffdead87-9eda-4524-bf5f-2b17e3d41779",
   "metadata": {},
   "source": [
    "### 17952 과제는 끝나지 않아!"
   ]
  },
  {
   "cell_type": "code",
   "execution_count": 22,
   "id": "9b6c8cd5-2a72-4f4b-b916-dba1c47840fc",
   "metadata": {},
   "outputs": [
    {
     "name": "stdin",
     "output_type": "stream",
     "text": [
      " 3\n",
      " 1 100 3\n",
      " 0\n"
     ]
    },
    {
     "name": "stdout",
     "output_type": "stream",
     "text": [
      "입력 형식이 잘못되었습니다.\n",
      "None\n"
     ]
    }
   ],
   "source": [
    "import sys\n",
    "\n",
    "def solve(N):\n",
    "    score = 0\n",
    "    tasks = []\n",
    "\n",
    "    for _ in range(N):\n",
    "        input_list = list(map(int, sys.stdin.readline().split()))\n",
    "        if input_list[0] == 1:  # 과제를 받음\n",
    "            _, score_i, time_i = input_list\n",
    "            tasks.append((score_i, time_i - 1))  # 남은 시간에서 1을 빼줌 (처리시간을 1 감소시킴)\n",
    "        if tasks:  # 현재 진행중인 과제가 있는 경우\n",
    "            score_i, time_i = tasks.pop()  # 진행중인 과제 중 가장 최근에 받은 과제를 꺼냄\n",
    "            if time_i == 0:  # 과제를 완료할 시간인 경우\n",
    "                score += score_i  # 점수를 더해줌\n",
    "            else:\n",
    "                tasks.append((score_i, time_i - 1))  # 과제를 완료하지 못한 경우 다시 tasks에 넣어줌\n",
    "    \n",
    "    return score\n",
    "\n",
    "if __name__ == \"__main__\":\n",
    "    N = int(input())\n",
    "    print(solve(N))\n"
   ]
  },
  {
   "cell_type": "markdown",
   "id": "74d69113-1b28-4552-b1b2-44ccdf1213e0",
   "metadata": {
    "jp-MarkdownHeadingCollapsed": true
   },
   "source": [
    "## Day 23"
   ]
  },
  {
   "cell_type": "markdown",
   "id": "da52ba30-0c00-438f-9b1f-9b5a1503d394",
   "metadata": {},
   "source": [
    "### 2800 괄호 제거"
   ]
  },
  {
   "cell_type": "code",
   "execution_count": 4,
   "id": "25810981-a2e7-49b9-afb0-366e8182eec4",
   "metadata": {},
   "outputs": [
    {
     "name": "stdin",
     "output_type": "stream",
     "text": [
      " (0/(0))\n"
     ]
    },
    {
     "ename": "IndexError",
     "evalue": "pop from empty list",
     "output_type": "error",
     "traceback": [
      "\u001b[1;31m---------------------------------------------------------------------------\u001b[0m",
      "\u001b[1;31mIndexError\u001b[0m                                Traceback (most recent call last)",
      "Cell \u001b[1;32mIn[4], line 49\u001b[0m\n\u001b[0;32m     45\u001b[0m         \u001b[38;5;28mprint\u001b[39m(result)\n\u001b[0;32m     48\u001b[0m \u001b[38;5;28;01mif\u001b[39;00m \u001b[38;5;18m__name__\u001b[39m \u001b[38;5;241m==\u001b[39m \u001b[38;5;124m\"\u001b[39m\u001b[38;5;124m__main__\u001b[39m\u001b[38;5;124m\"\u001b[39m:\n\u001b[1;32m---> 49\u001b[0m     \u001b[43mmain\u001b[49m\u001b[43m(\u001b[49m\u001b[43m)\u001b[49m\n",
      "Cell \u001b[1;32mIn[4], line 41\u001b[0m, in \u001b[0;36mmain\u001b[1;34m()\u001b[0m\n\u001b[0;32m     39\u001b[0m results \u001b[38;5;241m=\u001b[39m []\n\u001b[0;32m     40\u001b[0m \u001b[38;5;28;01mfor\u001b[39;00m comb \u001b[38;5;129;01min\u001b[39;00m combinations:\n\u001b[1;32m---> 41\u001b[0m     results\u001b[38;5;241m.\u001b[39mappend(\u001b[43mremove_parentheses\u001b[49m\u001b[43m(\u001b[49m\u001b[43mcomb\u001b[49m\u001b[43m)\u001b[49m)\n\u001b[0;32m     43\u001b[0m results\u001b[38;5;241m.\u001b[39msort()\n\u001b[0;32m     44\u001b[0m \u001b[38;5;28;01mfor\u001b[39;00m result \u001b[38;5;129;01min\u001b[39;00m results:\n",
      "Cell \u001b[1;32mIn[4], line 9\u001b[0m, in \u001b[0;36mremove_parentheses\u001b[1;34m(expression)\u001b[0m\n\u001b[0;32m      7\u001b[0m     stack\u001b[38;5;241m.\u001b[39mappend(i)\n\u001b[0;32m      8\u001b[0m \u001b[38;5;28;01melif\u001b[39;00m char \u001b[38;5;241m==\u001b[39m \u001b[38;5;124m'\u001b[39m\u001b[38;5;124m)\u001b[39m\u001b[38;5;124m'\u001b[39m:\n\u001b[1;32m----> 9\u001b[0m     start \u001b[38;5;241m=\u001b[39m stack\u001b[38;5;241m.\u001b[39mpop()\n\u001b[0;32m     10\u001b[0m     removed_indexes\u001b[38;5;241m.\u001b[39madd(start)\n\u001b[0;32m     11\u001b[0m     removed_indexes\u001b[38;5;241m.\u001b[39madd(i)\n",
      "\u001b[1;31mIndexError\u001b[0m: pop from empty list"
     ]
    }
   ],
   "source": [
    "def remove_parentheses(expression):\n",
    "    stack = []\n",
    "    removed_indexes = set()\n",
    "\n",
    "    for i, char in enumerate(expression):\n",
    "        if char == '(':\n",
    "            stack.append(i)\n",
    "        elif char == ')':\n",
    "            start = stack.pop()\n",
    "            removed_indexes.add(start)\n",
    "            removed_indexes.add(i)\n",
    "\n",
    "    result = []\n",
    "    for i, char in enumerate(expression):\n",
    "        if i not in removed_indexes:\n",
    "            result.append(char)\n",
    "\n",
    "    return ''.join(result)\n",
    "\n",
    "\n",
    "def generate_combinations(expression, index, result, combinations):\n",
    "    if index == len(expression):\n",
    "        combinations.add(''.join(result))\n",
    "        return\n",
    "\n",
    "    result.append(expression[index])\n",
    "    generate_combinations(expression, index + 1, result, combinations)\n",
    "    result.pop()\n",
    "\n",
    "    if expression[index] == '(' or expression[index] == ')':\n",
    "        generate_combinations(expression, index + 1, result, combinations)\n",
    "\n",
    "\n",
    "def main():\n",
    "    expression = input()\n",
    "    combinations = set()\n",
    "    generate_combinations(expression, 0, [], combinations)\n",
    "\n",
    "    results = []\n",
    "    for comb in combinations:\n",
    "        results.append(remove_parentheses(comb))\n",
    "\n",
    "    results.sort()\n",
    "    for result in results:\n",
    "        print(result)\n",
    "\n",
    "\n",
    "if __name__ == \"__main__\":\n",
    "    main()\n"
   ]
  },
  {
   "cell_type": "markdown",
   "id": "97d40653-7ed8-4dd1-b14d-b9ae60774fe2",
   "metadata": {},
   "source": [
    "### 11899 괄호 끼워넣기"
   ]
  },
  {
   "cell_type": "code",
   "execution_count": null,
   "id": "0bb9775a-244f-4827-b312-1fd6b776b9c0",
   "metadata": {},
   "outputs": [],
   "source": [
    "def min_add_parentheses(s):\n",
    "    stack = []\n",
    "    count = 0\n",
    "    \n",
    "    for char in s:\n",
    "        if char == '(':\n",
    "            stack.append(char)\n",
    "        elif char == ')':\n",
    "            if stack:\n",
    "                stack.pop()\n",
    "            else:\n",
    "                count += 1\n",
    "    \n",
    "    return count + len(stack)\n",
    "\n",
    "# 입력 받기\n",
    "s = input().strip()\n",
    "\n",
    "# 결과 출력\n",
    "print(min_add_parentheses(s))\n"
   ]
  },
  {
   "cell_type": "markdown",
   "id": "3384d6f7-07d9-4e35-8cf5-aaf84c538d2d",
   "metadata": {
    "jp-MarkdownHeadingCollapsed": true
   },
   "source": [
    "## Day 24"
   ]
  },
  {
   "cell_type": "markdown",
   "id": "0b7441fd-3a35-4e8f-b1ad-651ae4a74909",
   "metadata": {},
   "source": [
    "### 3425 고스택"
   ]
  },
  {
   "cell_type": "code",
   "execution_count": null,
   "id": "946b8325-4516-4955-aa75-12ce41ea30e0",
   "metadata": {},
   "outputs": [],
   "source": [
    "import sys\n",
    "\n",
    "def operate(program, inputs):\n",
    "    stack = []\n",
    "    idx = 0\n",
    "\n",
    "    for op in program:\n",
    "        if op == 'NUM':\n",
    "            stack.append(inputs[idx])\n",
    "            idx += 1\n",
    "        elif op == 'POP':\n",
    "            if not stack:\n",
    "                return 'ERROR'\n",
    "            stack.pop()\n",
    "        elif op == 'INV':\n",
    "            if not stack:\n",
    "                return 'ERROR'\n",
    "            stack[-1] = -stack[-1]\n",
    "        elif op == 'DUP':\n",
    "            if not stack:\n",
    "                return 'ERROR'\n",
    "            stack.append(stack[-1])\n",
    "        elif op == 'SWP':\n",
    "            if len(stack) < 2:\n",
    "                return 'ERROR'\n",
    "            stack[-1], stack[-2] = stack[-2], stack[-1]\n",
    "        elif op == 'ADD':\n",
    "            if len(stack) < 2:\n",
    "                return 'ERROR'\n",
    "            result = stack.pop() + stack.pop()\n",
    "            if abs(result) > 10**9:\n",
    "                return 'ERROR'\n",
    "            stack.append(result)\n",
    "        elif op == 'SUB':\n",
    "            if len(stack) < 2:\n",
    "                return 'ERROR'\n",
    "            b = stack.pop()\n",
    "            a = stack.pop()\n",
    "            result = a - b\n",
    "            if abs(result) > 10**9:\n",
    "                return 'ERROR'\n",
    "            stack.append(result)\n",
    "        elif op == 'MUL':\n",
    "            if len(stack) < 2:\n",
    "                return 'ERROR'\n",
    "            result = stack.pop() * stack.pop()\n",
    "            if abs(result) > 10**9:\n",
    "                return 'ERROR'\n",
    "            stack.append(result)\n",
    "        elif op == 'DIV':\n",
    "            if len(stack) < 2:\n",
    "                return 'ERROR'\n",
    "            b = stack.pop()\n",
    "            a = stack.pop()\n",
    "            if b == 0:\n",
    "                return 'ERROR'\n",
    "            result = abs(a) // abs(b)\n",
    "            if a * b < 0:\n",
    "                result = -result\n",
    "            stack.append(result)\n",
    "        elif op == 'MOD':\n",
    "            if len(stack) < 2:\n",
    "                return 'ERROR'\n",
    "            b = stack.pop()\n",
    "            a = stack.pop()\n",
    "            if b == 0:\n",
    "                return 'ERROR'\n",
    "            result = abs(a) % abs(b)\n",
    "            if a < 0:\n",
    "                result = -result\n",
    "            stack.append(result)\n",
    "\n",
    "    if len(stack) != 1:\n",
    "        return 'ERROR'\n",
    "    return stack[0]\n",
    "\n",
    "def main():\n",
    "    while True:\n",
    "        program = []\n",
    "        while True:\n",
    "            line = sys.stdin.readline().strip()\n",
    "            if line == 'QUIT':\n",
    "                return\n",
    "            if line == 'END':\n",
    "                break\n",
    "            program.append(line)\n",
    "\n",
    "        n = int(sys.stdin.readline().strip())\n",
    "        for _ in range(n):\n",
    "            input_val = int(sys.stdin.readline().strip())\n",
    "            result = operate(program, [input_val])\n",
    "            if result == 'ERROR':\n",
    "                print(result)\n",
    "            else:\n",
    "                print(result if abs(result) <= 10**9 else 'ERROR')\n",
    "        sys.stdin.readline()  # consume empty line\n",
    "\n",
    "if __name__ == \"__main__\":\n",
    "    main()\n"
   ]
  },
  {
   "cell_type": "markdown",
   "id": "a59028fd-1a35-4f40-82a5-0209360f7074",
   "metadata": {
    "jp-MarkdownHeadingCollapsed": true
   },
   "source": [
    "## Day 25"
   ]
  },
  {
   "cell_type": "markdown",
   "id": "18accef2-5016-4efc-b43c-d3ef6da15204",
   "metadata": {},
   "source": [
    "### 1863 스카이라인 쉬운거"
   ]
  },
  {
   "cell_type": "code",
   "execution_count": null,
   "id": "97595435-e749-4e79-a97b-4a8b11ce2b5a",
   "metadata": {},
   "outputs": [],
   "source": [
    "https://www.acmicpc.net/problemset?sort=ac_desc&algo=71 백준 문제에서\n",
    "1863번 '스카이라인 쉬운거' \n",
    "문제 정답 풀이해줘"
   ]
  },
  {
   "cell_type": "code",
   "execution_count": null,
   "id": "d0b27612-1374-4b15-af21-18c14d13354e",
   "metadata": {},
   "outputs": [],
   "source": [
    "URL : https://www.acmicpc.net/problemset?sort=ac_desc&algo=71\n",
    "백준에서, 1863번, '스카이라인 쉬운거' 라는 문제 정답 풀이해줘"
   ]
  },
  {
   "cell_type": "code",
   "execution_count": null,
   "id": "206e749f-3794-415f-b9be-cf4626b6c162",
   "metadata": {},
   "outputs": [],
   "source": [
    "def solve(buildings):\n",
    "    buildings.sort(key=lambda x: x[0])  # 건물의 좌표를 기준으로 정렬\n",
    "    max_height = 0\n",
    "    area = 0\n",
    "\n",
    "    for x, h in buildings:\n",
    "        if h > max_height:\n",
    "            max_height = h\n",
    "            area += 1  # 현재 건물의 높이가 최대 높이보다 크면 새로운 직사각형이 시작됨\n",
    "\n",
    "    return area\n",
    "\n",
    "if __name__ == \"__main__\":\n",
    "    n = int(input())  # 건물의 수\n",
    "    buildings = []\n",
    "    for _ in range(n):\n",
    "        x, h = map(int, input().split())\n",
    "        buildings.append((x, h))\n",
    "\n",
    "    result = solve(buildings)\n",
    "    print(result)\n"
   ]
  },
  {
   "cell_type": "markdown",
   "id": "9211ff6f-4254-4d9c-a8f6-62b690a236bc",
   "metadata": {
    "jp-MarkdownHeadingCollapsed": true
   },
   "source": [
    "## Day 26"
   ]
  },
  {
   "cell_type": "markdown",
   "id": "386f8906-361b-44e9-ab55-2362d2b0ca15",
   "metadata": {},
   "source": [
    "### 2257 화학식량"
   ]
  },
  {
   "cell_type": "code",
   "execution_count": 13,
   "id": "e21cfeff-6afc-458a-ad00-f6b45b39cf44",
   "metadata": {},
   "outputs": [
    {
     "name": "stdin",
     "output_type": "stream",
     "text": [
      " ((CH)2(OH2H)(C(H))O)3\n"
     ]
    },
    {
     "name": "stdout",
     "output_type": "stream",
     "text": [
      "222\n"
     ]
    }
   ],
   "source": [
    "def get_atomic_weight(atom):\n",
    "    weights = {'H': 1.008, 'C': 12.01, 'O': 16.00}\n",
    "    return weights.get(atom, 0)\n",
    "\n",
    "def calculate_formula(formula):\n",
    "    stack = []\n",
    "    atomic_mass = 0\n",
    "\n",
    "    for char in formula:\n",
    "        if char == '(':\n",
    "            stack.append(0)\n",
    "        elif char == ')':\n",
    "            sub_mass = 0\n",
    "            while stack and stack[-1] != 0:\n",
    "                sub_mass += stack.pop()\n",
    "            stack.pop()  # Remove the '('\n",
    "            stack.append(sub_mass)\n",
    "        elif char.isdigit():\n",
    "            stack[-1] *= int(char)\n",
    "        else:\n",
    "            stack.append(get_atomic_weight(char))\n",
    "\n",
    "    while stack:\n",
    "        atomic_mass += stack.pop()\n",
    "\n",
    "    return atomic_mass\n",
    "\n",
    "if __name__ == \"__main__\":\n",
    "    formula = input()\n",
    "    result = calculate_formula(formula)\n",
    "    # print(type(result))\n",
    "    result = int(result)\n",
    "    # print(type(result))\n",
    "    # print(\"%.0f\" % result)\n",
    "    print(result)\n"
   ]
  },
  {
   "cell_type": "code",
   "execution_count": null,
   "id": "413c7753-f92e-4353-a518-3576c7723724",
   "metadata": {},
   "outputs": [],
   "source": [
    "def get_atomic_weight(atom):\n",
    "    weights = {'H': 1.008, 'C': 12.01, 'O': 16.00}\n",
    "    return weights.get(atom, 0)\n",
    "\n",
    "def calculate_formula(formula):\n",
    "    stack = []\n",
    "    atomic_mass = 0\n",
    "\n",
    "    for char in formula:\n",
    "        if char == '(':\n",
    "            stack.append(0)\n",
    "        elif char == ')':\n",
    "            sub_mass = 0\n",
    "            while stack and stack[-1] != 0:\n",
    "                sub_mass += stack.pop()\n",
    "            stack.pop()  # Remove the '('\n",
    "            stack.append(sub_mass)\n",
    "        elif char.isdigit():\n",
    "            stack[-1] *= int(char)\n",
    "        else:\n",
    "            stack.append(get_atomic_weight(char))\n",
    "\n",
    "    while stack:\n",
    "        atomic_mass += stack.pop()\n",
    "\n",
    "    return atomic_mass\n",
    "\n",
    "if __name__ == \"__main__\":\n",
    "    formula = input()\n",
    "    result = calculate_formula(formula)\n",
    "    print(\"%.0f\" % result)\n"
   ]
  },
  {
   "cell_type": "markdown",
   "id": "23c0e7bf-ae9d-4ca0-8755-eb3d586bfa76",
   "metadata": {
    "jp-MarkdownHeadingCollapsed": true
   },
   "source": [
    "## Day 27"
   ]
  },
  {
   "cell_type": "markdown",
   "id": "c2d760fd-a83a-4f47-8ae3-1d0554700e47",
   "metadata": {},
   "source": [
    "### 12846 무서운 아르바이트"
   ]
  },
  {
   "cell_type": "code",
   "execution_count": null,
   "id": "cf49464e-bc31-4a88-8559-fd4a811c2cae",
   "metadata": {},
   "outputs": [],
   "source": [
    "import sys\n",
    "\n",
    "N = int(sys.stdin.readline())  # 일한 날의 수\n",
    "\n",
    "pay = list(map(int, sys.stdin.readline().split()))  # 일당표\n",
    "\n",
    "max_income = 0  # 최대 수입 초기화\n",
    "\n",
    "# 모든 연속된 휴가 구간을 탐색\n",
    "for i in range(N):\n",
    "    min_pay = pay[i]  # 현재 휴가 구간의 최소 일당을 현재 일당으로 초기화\n",
    "    for j in range(i, N):\n",
    "        min_pay = min(min_pay, pay[j])  # 휴가 구간 내에서 최소 일당을 갱신\n",
    "        max_income = max(max_income, min_pay * (j - i + 1))  # 최대 수입 갱신\n",
    "\n",
    "print(max_income)  # 최대 수입 출력\n"
   ]
  },
  {
   "cell_type": "code",
   "execution_count": null,
   "id": "35487c99-06b9-410f-8327-d261b1880c28",
   "metadata": {},
   "outputs": [],
   "source": [
    "import sys\n",
    "\n",
    "N = int(sys.stdin.readline())  # 일한 날의 수\n",
    "pay = list(map(int, sys.stdin.readline().split()))  # 일당표\n",
    "\n",
    "# dp[i]: i번째 날까지의 최대 수입\n",
    "dp = [0] * (N+1)\n",
    "\n",
    "# 각 날짜에 대한 최대 수입 계산\n",
    "for i in range(1, N+1):\n",
    "    min_pay = pay[i-1]  # i번째 날의 일당\n",
    "    for j in range(i, 0, -1):  # 역순으로 이전 휴가 기간을 탐색\n",
    "        min_pay = min(min_pay, pay[j-1])  # 휴가 기간 내의 최소 일당 갱신\n",
    "        dp[i] = max(dp[i], dp[j-1] + min_pay * (i - j + 1))  # 최대 수입 갱신\n",
    "\n",
    "print(dp[N])  # N번째 날까지의 최대 수입 출력\n"
   ]
  },
  {
   "cell_type": "code",
   "execution_count": 1,
   "id": "9f71c68a-2bc8-4406-a6a3-2b210cc4a555",
   "metadata": {},
   "outputs": [
    {
     "name": "stdin",
     "output_type": "stream",
     "text": [
      " 5\n",
      " 10 20 30 20 10\n"
     ]
    },
    {
     "name": "stdout",
     "output_type": "stream",
     "text": [
      "50\n"
     ]
    }
   ],
   "source": [
    "N = int(input())  # 일한 날의 수\n",
    "pay = list(map(int, input().split()))  # 일당표\n",
    "\n",
    "max_income = 0  # 최대 수입 초기화\n",
    "min_pay = float('inf')  # 최소 일당 초기화\n",
    "\n",
    "# 최대 수입을 계산\n",
    "for i in range(N):\n",
    "    min_pay = min(min_pay, pay[i])  # 현재까지의 최소 일당 갱신\n",
    "    max_income = max(max_income, min_pay * (i + 1))  # 최대 수입 갱신\n",
    "\n",
    "print(max_income)  # 최대 수입 출력\n"
   ]
  },
  {
   "cell_type": "code",
   "execution_count": 2,
   "id": "46ca3f16-bee8-4914-87a2-6995a4c09af1",
   "metadata": {},
   "outputs": [
    {
     "name": "stdin",
     "output_type": "stream",
     "text": [
      " 5\n",
      " 10 20 30 20 10\n"
     ]
    },
    {
     "name": "stdout",
     "output_type": "stream",
     "text": [
      "90\n"
     ]
    }
   ],
   "source": [
    "N = int(input())  # 일한 날의 수\n",
    "pay = list(map(int, input().split()))  # 일당표\n",
    "\n",
    "max_income = 0  # 최대 수입 초기화\n",
    "for i in range(N):\n",
    "    current_income = 0  # 현재까지의 수입 초기화\n",
    "    for j in range(i, N):\n",
    "        current_income += pay[j]  # 현재까지의 수입 누적\n",
    "        max_income = max(max_income, current_income)  # 최대 수입 갱신\n",
    "\n",
    "print(max_income)  # 최대 수입 출력\n"
   ]
  },
  {
   "cell_type": "markdown",
   "id": "e5ff7c6a-782b-4763-a688-7941579ec41c",
   "metadata": {},
   "source": [
    "## Day 28"
   ]
  },
  {
   "cell_type": "markdown",
   "id": "66cda1e8-5fc2-4091-8d74-9a33684dafd3",
   "metadata": {},
   "source": [
    "### "
   ]
  },
  {
   "cell_type": "code",
   "execution_count": null,
   "id": "f1805bc7-784d-4428-970b-2e80a4270fbe",
   "metadata": {},
   "outputs": [],
   "source": []
  },
  {
   "cell_type": "markdown",
   "id": "37e9e30e-90bf-438f-94f7-a8d16a4826bb",
   "metadata": {},
   "source": [
    "## Day 29"
   ]
  },
  {
   "cell_type": "markdown",
   "id": "c5db97fe-5151-4f93-8663-a2d6b106194d",
   "metadata": {},
   "source": [
    "### "
   ]
  },
  {
   "cell_type": "code",
   "execution_count": null,
   "id": "9eab4692-5750-4680-995d-f790ae253217",
   "metadata": {},
   "outputs": [],
   "source": []
  }
 ],
 "metadata": {
  "kernelspec": {
   "display_name": "Python 3 (ipykernel)",
   "language": "python",
   "name": "python3"
  },
  "language_info": {
   "codemirror_mode": {
    "name": "ipython",
    "version": 3
   },
   "file_extension": ".py",
   "mimetype": "text/x-python",
   "name": "python",
   "nbconvert_exporter": "python",
   "pygments_lexer": "ipython3",
   "version": "3.11.7"
  }
 },
 "nbformat": 4,
 "nbformat_minor": 5
}
