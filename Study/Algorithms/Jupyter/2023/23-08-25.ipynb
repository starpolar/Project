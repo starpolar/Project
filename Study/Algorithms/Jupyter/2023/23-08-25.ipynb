{
 "cells": [
  {
   "cell_type": "markdown",
   "id": "808c42f5",
   "metadata": {},
   "source": [
    "### 2750 / 수 정렬하기"
   ]
  },
  {
   "cell_type": "code",
   "execution_count": null,
   "id": "a87c0e10",
   "metadata": {
    "scrolled": true
   },
   "outputs": [],
   "source": [
    "n = input()\n",
    "a = sorted(set(n))\n",
    "for i in a :\n",
    "    print(i)"
   ]
  },
  {
   "cell_type": "code",
   "execution_count": null,
   "id": "246bc891",
   "metadata": {},
   "outputs": [],
   "source": [
    "n = int(input())\n",
    "ls = []\n",
    "\n",
    "for _ in range(n):\n",
    "    ls.append(int(input()))\n",
    "\n",
    "ls.sort()\n",
    "\n",
    "for i in ls:\n",
    "    print(i)"
   ]
  },
  {
   "cell_type": "markdown",
   "id": "f0d719cd",
   "metadata": {},
   "source": [
    "### Short Coding"
   ]
  },
  {
   "cell_type": "code",
   "execution_count": null,
   "id": "50fc3b4d",
   "metadata": {},
   "outputs": [],
   "source": [
    "print(*sorted(map(int,[*open(0)][1:])))"
   ]
  },
  {
   "cell_type": "markdown",
   "id": "2679de3f",
   "metadata": {},
   "source": [
    "### 위 코드의 해설\n",
    "\n",
    "코드 조각 print(*sorted(map(int,[*open(0)][1:])))는 내가 제공한 이전 코드와 동일한 결과를 얻는 간결한 방법이지만, 방법에는 약간의 차이가 있습니다. 입력을 읽고 처리합니다. 그것을 분석해 봅시다:  \n",
    "\n",
    "open(0): 표준 입력(stdin)을 파일 객체로 엽니다. 이를 통해 콘솔이나 프로그램으로 리디렉션된 입력에서 읽을 수 있습니다.  \n",
    "\n",
    "[*open(0)]: 입력의 모든 줄을 목록으로 읽어옵니다. 이 목록의 첫 번째 요소는 'N'을 포함하는 줄이고, 후속 요소는 숫자를 포함하는 줄입니다.  \n",
    "\n",
    "[1:]: 목록을 분할하여 첫 번째 요소를 제외하고 숫자가 포함된 줄만 남깁니다.  \n",
    "\n",
    "map(int, ...): 목록의 각 요소에 int 함수를 적용하여 문자열을 정수로 변환합니다.  \n",
    "sorted(...): 정수를 오름차순으로 정렬합니다.  \n",
    "\n",
    "print(*...): 정렬된 정수를 공백으로 구분하여 한 줄에 인쇄합니다. 별표(*)는 정렬된 목록의 압축을 푸는 데 사용되므로 print는 정수를 별도의 인수로 받습니다.  \n",
    "이 코드는 입력이 한 줄에 하나의 정수로 올바르게 형식화되었다고 가정하고 정렬된 정수를 공백으로 구분하여 한 줄에 인쇄합니다. 이는 입력을 읽는 방법과 출력 형식을 지정하는 방법이 이전 코드와 다릅니다.\n",
    "\n",
    "이전 코드는 input().strip()을 사용하여 입력을 한 줄씩 읽고, 목록에 숫자를 추가하고, 목록을 정렬하고, 정렬된 숫자를 한 줄에 하나씩 인쇄합니다. 제공한 코드 조각은 동일한 정렬 기능을 수행하지만 입력을 한 번에 읽고 정렬된 숫자를 한 줄에 인쇄합니다.\n",
    "\n",
    "또한 제공한 코드 조각은 표준 입력에서 직접 읽고 오류 처리나 입력 유효성 검사를 수행하지 않습니다. 입력 형식이 올바르지 않으면 코드에서 예외가 발생할 수 있습니다. 제약 조건이 있는 경우 문제를 해결하는 간결하고 효율적인 방법이지만 예상치 못한 입력이나 형식이 잘못된 입력에는 덜 강력할 수 있습니다."
   ]
  },
  {
   "cell_type": "code",
   "execution_count": null,
   "id": "e2fd95e7",
   "metadata": {
    "scrolled": true
   },
   "outputs": [],
   "source": [
    "numbers = [1, 2, 3]\n",
    "print(*numbers)"
   ]
  },
  {
   "cell_type": "markdown",
   "id": "3611af3b",
   "metadata": {},
   "source": [
    "### * 는 무슨뜻이야?\n",
    "Python의 별표(*)는 상황에 따라 여러 용도로 사용됩니다. print(*sorted(...)) 표현식에서 *는 인수 풀기에 사용됩니다.  \n",
    "\n",
    "\n",
    "그 의미는 다음과 같습니다.  \n",
    "\n",
    "\n",
    "인수 풀기: 함수 호출에 사용될 때 * 연산자는 목록, 튜플 또는 기타 반복 가능 항목을 풀고 해당 요소를 개별 위치 인수로 함수에 전달합니다.\n",
    "\n",
    "설명하기 위한 간단한 예는 다음과 같습니다.  \n",
    "\n",
    "\n",
    "python\n",
    "Copy code\n",
    "numbers = [1, 2, 3]\n",
    "print(*numbers)  # Equivalent to print(1, 2, 3)\n",
    "*숫자 표현식은 숫자 목록을 압축 해제하므로 print 함수는 단일 목록 대신 세 개의 별도 인수를 받습니다.  \n",
    "\n",
    "\n",
    "print(*sorted(map(int,[*open(0)][1:])))의 맥락에서 *는 정렬된 정수 목록을 풀어 에 별도의 인수로 전달합니다. 인쇄 기능. 결과적으로 정수는 공백으로 구분되어 한 줄에 인쇄됩니다.  \n",
    "\n",
    "\n",
    "* 연산자는 함수 정의에서 위치 인수(*args 사용)를 원하는 수만큼 허용하고 데이터 패킹 및 언패킹과 관련된 다양한 기타 컨텍스트에서 사용할 수도 있습니다. Python의 다재다능하고 강력한 기능입니다!"
   ]
  },
  {
   "cell_type": "markdown",
   "id": "3dfad5da",
   "metadata": {},
   "source": [
    "---"
   ]
  },
  {
   "cell_type": "markdown",
   "id": "3e302faa",
   "metadata": {},
   "source": [
    "### 2751 / 수 정렬하기 2"
   ]
  },
  {
   "cell_type": "code",
   "execution_count": 1,
   "id": "501e6e24",
   "metadata": {},
   "outputs": [
    {
     "name": "stdout",
     "output_type": "stream",
     "text": [
      "4\n",
      "5\n",
      "2\n",
      "3\n",
      "1\n",
      "1\n",
      "2\n",
      "3\n",
      "5\n"
     ]
    }
   ],
   "source": [
    "n = int(input())\n",
    "ls = []\n",
    "for _ in range(n) :\n",
    "    ls.append(int(input()))\n",
    "ls.sort()\n",
    "for i in ls :\n",
    "    print(i)\n"
   ]
  },
  {
   "cell_type": "markdown",
   "id": "1e261f1c",
   "metadata": {},
   "source": [
    "### 시간초과 문제\n",
    "pypy3로 변경해서 제출"
   ]
  },
  {
   "cell_type": "code",
   "execution_count": null,
   "id": "756078bd",
   "metadata": {},
   "outputs": [],
   "source": []
  },
  {
   "cell_type": "markdown",
   "id": "62504fa4",
   "metadata": {},
   "source": [
    "### TODO\n",
    "\n",
    "재귀함수 Study  \n",
    "https://coarmok.tistory.com/entry/%ED%8C%8C%EC%9D%B4%EC%8D%ACpython-%EB%B0%B1%EC%A4%80-2751%EB%B2%88-merge-sort"
   ]
  },
  {
   "cell_type": "markdown",
   "id": "3e4ba743",
   "metadata": {},
   "source": [
    "---"
   ]
  },
  {
   "cell_type": "code",
   "execution_count": null,
   "id": "fc4b30b7",
   "metadata": {},
   "outputs": [],
   "source": []
  }
 ],
 "metadata": {
  "kernelspec": {
   "display_name": "Python 3 (ipykernel)",
   "language": "python",
   "name": "python3"
  },
  "language_info": {
   "codemirror_mode": {
    "name": "ipython",
    "version": 3
   },
   "file_extension": ".py",
   "mimetype": "text/x-python",
   "name": "python",
   "nbconvert_exporter": "python",
   "pygments_lexer": "ipython3",
   "version": "3.12.0"
  },
  "varInspector": {
   "cols": {
    "lenName": 16,
    "lenType": 16,
    "lenVar": 40
   },
   "kernels_config": {
    "python": {
     "delete_cmd_postfix": "",
     "delete_cmd_prefix": "del ",
     "library": "var_list.py",
     "varRefreshCmd": "print(var_dic_list())"
    },
    "r": {
     "delete_cmd_postfix": ") ",
     "delete_cmd_prefix": "rm(",
     "library": "var_list.r",
     "varRefreshCmd": "cat(var_dic_list()) "
    }
   },
   "types_to_exclude": [
    "module",
    "function",
    "builtin_function_or_method",
    "instance",
    "_Feature"
   ],
   "window_display": false
  }
 },
 "nbformat": 4,
 "nbformat_minor": 5
}
