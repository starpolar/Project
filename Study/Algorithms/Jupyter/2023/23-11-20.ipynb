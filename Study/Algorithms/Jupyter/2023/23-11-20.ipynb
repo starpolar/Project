{
 "cells": [
  {
   "cell_type": "markdown",
   "id": "07f3c950-a5d7-4fcc-a8ec-b8c4450cf447",
   "metadata": {},
   "source": [
    "# 정렬"
   ]
  },
  {
   "cell_type": "markdown",
   "id": "019bd6e7-4cac-4089-8f77-a4e56b53764a",
   "metadata": {},
   "source": [
    "## 1931 회의실 배정"
   ]
  },
  {
   "cell_type": "code",
   "execution_count": 4,
   "id": "d1536627-36f1-40ea-9cc9-718c2891e9ed",
   "metadata": {},
   "outputs": [
    {
     "name": "stdin",
     "output_type": "stream",
     "text": [
      " 1 4\n",
      " 3 5\n",
      " - 6\n",
      " 5 7\n",
      " 3 8\n",
      " 5 9\n"
     ]
    },
    {
     "name": "stdout",
     "output_type": "stream",
     "text": [
      "2\n"
     ]
    }
   ],
   "source": [
    "n = 5\n",
    "x, y = input().split()\n",
    "cnt = 1\n",
    "for _ in range(n) :\n",
    "    x2, y2 = input().split()\n",
    "    if (x <= x2 < y) :        \n",
    "        pass\n",
    "    else :\n",
    "        x, y = x2, y2\n",
    "        cnt += 1\n",
    "\n",
    "print(cnt)"
   ]
  },
  {
   "cell_type": "code",
   "execution_count": 12,
   "id": "c21f8494-b132-4b57-8ee1-acf5696371b3",
   "metadata": {},
   "outputs": [
    {
     "name": "stdin",
     "output_type": "stream",
     "text": [
      " 3\n",
      " 1 4\n",
      " 3 5\n",
      " 0 6\n"
     ]
    },
    {
     "name": "stdout",
     "output_type": "stream",
     "text": [
      "1\n"
     ]
    }
   ],
   "source": [
    "n = int(input())\n",
    "x, y = input().split()\n",
    "cnt = 1\n",
    "for _ in range(n-1) :\n",
    "    x2, y2 = input().split()\n",
    "    if int(x) <= int(x2) or int(x2) < int(y) :        \n",
    "        pass\n",
    "    else :\n",
    "        x, y = x2, y2\n",
    "        cnt += 1\n",
    " \n",
    "print(cnt)"
   ]
  },
  {
   "cell_type": "code",
   "execution_count": 15,
   "id": "22526baf-be8d-4bd9-85bb-e6949739b2d3",
   "metadata": {},
   "outputs": [
    {
     "name": "stdin",
     "output_type": "stream",
     "text": [
      " 1 4\n",
      " 3 5\n",
      " 0 6\n"
     ]
    },
    {
     "name": "stdout",
     "output_type": "stream",
     "text": [
      "[('0', '6')] a1\n",
      "('0', '6') a2\n",
      "('1', '4') a2\n",
      "('3', '5') a2\n",
      "1\n"
     ]
    }
   ],
   "source": [
    "n = 3\n",
    "s = set()\n",
    "for _ in range(n) :\n",
    "    x, y = map(int, input().split())\n",
    "    s.add((x, y))\n",
    "sli = list(s)\n",
    "sli.sort()\n",
    "result = []\n",
    "result.append(sli[0])\n",
    "a, b = sli[0]\n",
    "print(result, 'a1')\n",
    "for i in sli :\n",
    "    print(i, 'a2')\n",
    "    a2, b2 = i\n",
    "    if int(a) <= int(a2) or int(b) < int(a2) :\n",
    "        pass\n",
    "    else :\n",
    "        a, b = i\n",
    "        result.append((a, b))\n",
    "print(len(result))"
   ]
  },
  {
   "cell_type": "code",
   "execution_count": null,
   "id": "733fa915-464e-41cd-8ce7-8d3ab01d9354",
   "metadata": {},
   "outputs": [],
   "source": [
    "n = int(input())\n",
    "s = set()\n",
    "for _ in range(n) :\n",
    "    x, y = map(int, input().split())\n",
    "    s.add((x, y))\n",
    "sli = list(s)\n",
    "sli.sort()\n",
    "result = []\n",
    "result.append(sli[0])\n",
    "a, b = sli[0]\n",
    "for i in sli :\n",
    "    a2, b2 = i\n",
    "    if int(a) <= int(a2) or int(b) < int(a2) :\n",
    "        pass\n",
    "    else :\n",
    "        a, b = i\n",
    "        result.append((a, b))\n",
    "print(len(result))"
   ]
  },
  {
   "cell_type": "code",
   "execution_count": null,
   "id": "62d2e551-e833-4695-bbdb-ce544ef0e78e",
   "metadata": {},
   "outputs": [],
   "source": [
    "n = int(input())\n",
    "li = []\n",
    "for _ in range(n) :\n",
    "    x, y = map(int, input().split())\n",
    "    li.append((x, y))\n",
    "li.sort(key=lambda x: (x[1], x[0]))\n",
    "\n",
    "cnt = 0\n",
    "currentEnd = 0\n",
    "for i in li :\n",
    "    a, b = i\n",
    "    if currentEnd <= a :\n",
    "        currentEnd = b\n",
    "        cnt += 1\n",
    "print(cnt)"
   ]
  },
  {
   "cell_type": "code",
   "execution_count": null,
   "id": "bff1892e-9fc7-4474-b9f7-ed0215234924",
   "metadata": {},
   "outputs": [],
   "source": []
  }
 ],
 "metadata": {
  "kernelspec": {
   "display_name": "Python 3 (ipykernel)",
   "language": "python",
   "name": "python3"
  },
  "language_info": {
   "codemirror_mode": {
    "name": "ipython",
    "version": 3
   },
   "file_extension": ".py",
   "mimetype": "text/x-python",
   "name": "python",
   "nbconvert_exporter": "python",
   "pygments_lexer": "ipython3",
   "version": "3.12.0"
  }
 },
 "nbformat": 4,
 "nbformat_minor": 5
}
