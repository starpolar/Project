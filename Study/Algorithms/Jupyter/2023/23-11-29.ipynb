{
 "cells": [
  {
   "cell_type": "markdown",
   "id": "18ce1293-8397-4a50-aa67-48061b6f8ea5",
   "metadata": {},
   "source": [
    "# 정렬"
   ]
  },
  {
   "cell_type": "markdown",
   "id": "52d903c1-ea9c-4561-a8f3-a4d9a67a5667",
   "metadata": {},
   "source": [
    "## 11651 좌표 정렬하기 2"
   ]
  },
  {
   "cell_type": "code",
   "execution_count": 6,
   "id": "f7862097-c7a8-4cac-a7cb-9f9a2914e371",
   "metadata": {},
   "outputs": [
    {
     "name": "stdin",
     "output_type": "stream",
     "text": [
      " 3\n",
      " 0 4\n",
      " 1 2\n",
      " 1 -1\n"
     ]
    },
    {
     "name": "stdout",
     "output_type": "stream",
     "text": [
      "1 -1\n",
      "1 2\n",
      "0 4\n"
     ]
    }
   ],
   "source": [
    "n = int(input())\n",
    "\n",
    "li = []\n",
    "for _ in range(n) :\n",
    "    x, y = map(int, input().split())\n",
    "    li.append((x, y))\n",
    "li.sort(key=lambda x: (x[1], x[0]))\n",
    "for i in li :\n",
    "    print(i[0], i[1])"
   ]
  },
  {
   "cell_type": "code",
   "execution_count": null,
   "id": "d11f81f2-c847-4eac-a16e-6e7e795c1844",
   "metadata": {},
   "outputs": [],
   "source": []
  }
 ],
 "metadata": {
  "kernelspec": {
   "display_name": "Python 3 (ipykernel)",
   "language": "python",
   "name": "python3"
  },
  "language_info": {
   "codemirror_mode": {
    "name": "ipython",
    "version": 3
   },
   "file_extension": ".py",
   "mimetype": "text/x-python",
   "name": "python",
   "nbconvert_exporter": "python",
   "pygments_lexer": "ipython3",
   "version": "3.12.0"
  }
 },
 "nbformat": 4,
 "nbformat_minor": 5
}
