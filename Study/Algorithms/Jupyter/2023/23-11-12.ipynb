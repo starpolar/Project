{
 "cells": [
  {
   "cell_type": "markdown",
   "id": "e2d498c6-4a71-4fd7-a2db-d054a94d3741",
   "metadata": {},
   "source": [
    "# 정렬"
   ]
  },
  {
   "cell_type": "markdown",
   "id": "f81cd2ee-2bcd-4509-99dc-461cd51e65fb",
   "metadata": {},
   "source": [
    "## 1920 수찾기"
   ]
  },
  {
   "cell_type": "code",
   "execution_count": 1,
   "id": "d31b1804-613a-42c1-b962-2aad76e1fd53",
   "metadata": {},
   "outputs": [
    {
     "name": "stdin",
     "output_type": "stream",
     "text": [
      " 5\n",
      " 4 1 5 2 3\n",
      " 5\n",
      " 1 3 7 9 5\n"
     ]
    },
    {
     "name": "stdout",
     "output_type": "stream",
     "text": [
      "1\n",
      "1\n",
      "0\n",
      "0\n",
      "1\n"
     ]
    }
   ],
   "source": [
    "n = int(input())\n",
    "li1 = list(map(int, input().split()))\n",
    "m = int(input())\n",
    "li2 = list(map(int, input().split()))\n",
    "\n",
    "for i in li2 :\n",
    "    if li1.count(i) == 0 :\n",
    "        print(0)\n",
    "    else :\n",
    "        print(1)"
   ]
  },
  {
   "cell_type": "code",
   "execution_count": null,
   "id": "e5a9ccf2-61b7-4398-842a-30ba43b97cce",
   "metadata": {},
   "outputs": [],
   "source": []
  },
  {
   "cell_type": "code",
   "execution_count": null,
   "id": "51947730-6023-4065-9b59-e38509f24a46",
   "metadata": {},
   "outputs": [],
   "source": [
    "def binary_search(array, target):\n",
    "    start, end = 0, len(array) - 1\n",
    "    while start <= end:\n",
    "        mid = (start + end) // 2\n",
    "        if array[mid] == target:\n",
    "            return 1  # Target found\n",
    "        elif array[mid] < target:\n",
    "            start = mid + 1\n",
    "        else:\n",
    "            end = mid - 1\n",
    "    return 0  # Target not found\n",
    "\n",
    "# Example usage\n",
    "N = int(input())  # Example size of the first array\n",
    "# Example size of the second array\n",
    "n_list = list(map(int, input().split()))  # Example first array\n",
    "M = int(input())\n",
    "m_list = list(map(int, input().split()))  # Example second array\n",
    "\n",
    "# Sort the first array for binary search\n",
    "n_list.sort()\n",
    "\n",
    "# Check each element in the second array using binary search\n",
    "result = [print(binary_search(n_list, target)) for target in m_list]\n",
    "result"
   ]
  },
  {
   "cell_type": "markdown",
   "id": "3924a64b-fff4-4b9f-b830-22004cdc5f3a",
   "metadata": {
    "jp-MarkdownHeadingCollapsed": true
   },
   "source": [
    "### 이진탐색"
   ]
  },
  {
   "cell_type": "markdown",
   "id": "71240d29-a105-405f-8aa8-ed529b700f66",
   "metadata": {},
   "source": [
    "이진 탐색(Binary Search)은 정렬된 배열에서 특정한 값을 효율적으로 찾는 검색 알고리즘입니다. 이 알고리즘의 핵심은 탐색 범위를 반으로 줄여나가면서 원하는 값을 찾는 것입니다. 이진 탐색의 논리적 흐름은 다음과 같습니다:\n",
    "\n",
    "1. 초기 설정\n",
    "탐색 범위: 처음에는 전체 배열이 탐색 범위입니다.\n",
    "시작점 (start): 배열의 첫 번째 인덱스.\n",
    "종료점 (end): 배열의 마지막 인덱스.\n",
    "2. 중간점 찾기\n",
    "중간점 (mid): 현재 탐색 범위의 중간 지점입니다. 보통 (start + end) / 2로 계산합니다.\n",
    "3. 중간점과 타겟 비교\n",
    "타겟 찾음: 만약 중간점의 값이 찾고자 하는 값(target)과 같다면, 타겟을 찾은 것입니다. 탐색을 종료합니다.\n",
    "타겟이 중간점보다 큼: 중간점의 값이 타겟보다 작다면, 타겟은 중간점의 오른쪽에 있습니다. 시작점을 mid + 1로 업데이트하여 탐색 범위를 반으로 줄입니다.\n",
    "타겟이 중간점보다 작음: 중간점의 값이 타겟보다 크다면, 타겟은 중간점의 왼쪽에 있습니다. 종료점을 mid - 1로 업데이트하여 탐색 범위를 반으로 줄입니다.\n",
    "4. 반복 또는 종료\n",
    "탐색 범위가 더 이상 없거나(start > end), 타겟을 찾으면 탐색을 종료합니다.\n",
    "타겟을 찾지 못했으면, 탐색 범위를 조정한 후 2번부터 다시 시작합니다.\n",
    "5. 결과 반환\n",
    "타겟을 찾았다면 해당 인덱스 또는 특정 값을 반환합니다.\n",
    "타겟을 찾지 못했다면 0, False 또는 탐색 실패를 나타내는 값을 반환합니다.\n",
    "예시\n",
    "배열 [1, 2, 3, 4, 5]에서 3을 찾는 경우:\n",
    "\n",
    "초기 탐색 범위는 0에서 4(인덱스)입니다.\n",
    "중간점은 2입니다(값은 3).\n",
    "중간점의 값 3은 찾고자 하는 값과 일치합니다. 탐색 종료.\n",
    "이진 탐색은 O(log N)의 시간 복잡도를 가지며, 대규모 데이터셋에서 매우 효율적입니다. 그러나 이진 탐색을 사용하려면 데이터가 미리 정렬되어 있어야 한다는 점을 유의해야 합니다."
   ]
  },
  {
   "cell_type": "markdown",
   "id": "da8dcbb1-9168-4b93-aecb-37980eb3507f",
   "metadata": {},
   "source": [
    "### Fail"
   ]
  },
  {
   "cell_type": "code",
   "execution_count": 3,
   "id": "dbeee23a-89f8-44a8-9eb5-0f8ce7336a6a",
   "metadata": {},
   "outputs": [],
   "source": [
    "N = 5  # Example size of the first array\n",
    "M = 5  # Example size of the second array\n",
    "n_list = [4, 1, 5, 2, 3]  # Example first array\n",
    "m_list = [1, 3, 7, 9, 5] "
   ]
  },
  {
   "cell_type": "code",
   "execution_count": 8,
   "id": "45545e36-6a2c-455b-9bf1-dfff8e2b432f",
   "metadata": {},
   "outputs": [
    {
     "name": "stdout",
     "output_type": "stream",
     "text": [
      "1\n",
      "1\n",
      "0\n",
      "0\n",
      "1\n"
     ]
    }
   ],
   "source": [
    "for i in m_list :\n",
    "    try :\n",
    "        n_list.index(i)\n",
    "        print(1)\n",
    "    except ValueError :\n",
    "        print(0)"
   ]
  },
  {
   "cell_type": "markdown",
   "id": "5e24d328-682e-4235-bda5-c9020136a30b",
   "metadata": {},
   "source": [
    "-----"
   ]
  }
 ],
 "metadata": {
  "kernelspec": {
   "display_name": "Python 3 (ipykernel)",
   "language": "python",
   "name": "python3"
  },
  "language_info": {
   "codemirror_mode": {
    "name": "ipython",
    "version": 3
   },
   "file_extension": ".py",
   "mimetype": "text/x-python",
   "name": "python",
   "nbconvert_exporter": "python",
   "pygments_lexer": "ipython3",
   "version": "3.12.0"
  }
 },
 "nbformat": 4,
 "nbformat_minor": 5
}
