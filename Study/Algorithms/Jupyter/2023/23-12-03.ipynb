{
 "cells": [
  {
   "cell_type": "markdown",
   "id": "e3cb2195-48db-4f8a-886d-d2c74003c2d7",
   "metadata": {},
   "source": [
    "# 정렬"
   ]
  },
  {
   "cell_type": "markdown",
   "id": "e6ca2b53-d38e-40a5-85dd-0550120a6319",
   "metadata": {},
   "source": [
    "## 1764 듣보잡"
   ]
  },
  {
   "cell_type": "code",
   "execution_count": null,
   "id": "21c0923e-aa22-4a09-9ec3-2fcab5650862",
   "metadata": {},
   "outputs": [],
   "source": [
    "# 입력 받기\n",
    "n, m = map(int, input().split())\n",
    "not_heard = set(input() for _ in range(n))\n",
    "not_seen = set(input() for _ in range(m))\n",
    "\n",
    "# 듣도 못한 사람과 보도 못한 사람의 교집합 구하기\n",
    "result = sorted(list(not_heard & not_seen))\n",
    "\n",
    "# 결과 출력\n",
    "print(len(result))\n",
    "for name in result:\n",
    "    print(name)\n"
   ]
  }
 ],
 "metadata": {
  "kernelspec": {
   "display_name": "Python 3 (ipykernel)",
   "language": "python",
   "name": "python3"
  },
  "language_info": {
   "codemirror_mode": {
    "name": "ipython",
    "version": 3
   },
   "file_extension": ".py",
   "mimetype": "text/x-python",
   "name": "python",
   "nbconvert_exporter": "python",
   "pygments_lexer": "ipython3",
   "version": "3.12.0"
  }
 },
 "nbformat": 4,
 "nbformat_minor": 5
}
