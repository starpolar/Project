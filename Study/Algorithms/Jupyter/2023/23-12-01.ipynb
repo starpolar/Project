{
 "cells": [
  {
   "cell_type": "markdown",
   "id": "c7d6c9bc-35c6-4137-99e6-5ccca0e283de",
   "metadata": {},
   "source": [
    "# 정렬"
   ]
  },
  {
   "cell_type": "markdown",
   "id": "1296a536-e667-49b2-b049-ce16b65c06dd",
   "metadata": {},
   "source": [
    "## 10816 숫자 카드 2"
   ]
  },
  {
   "cell_type": "code",
   "execution_count": null,
   "id": "d85b6b51-bb21-4347-bb45-faf8e4a1f4f6",
   "metadata": {},
   "outputs": [],
   "source": []
  }
 ],
 "metadata": {
  "kernelspec": {
   "display_name": "Python 3 (ipykernel)",
   "language": "python",
   "name": "python3"
  },
  "language_info": {
   "codemirror_mode": {
    "name": "ipython",
    "version": 3
   },
   "file_extension": ".py",
   "mimetype": "text/x-python",
   "name": "python",
   "nbconvert_exporter": "python",
   "pygments_lexer": "ipython3",
   "version": "3.12.0"
  }
 },
 "nbformat": 4,
 "nbformat_minor": 5
}
