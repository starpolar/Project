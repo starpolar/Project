{
 "cells": [
  {
   "cell_type": "markdown",
   "id": "62fbb229-d42d-478f-bcad-5692c999614a",
   "metadata": {},
   "source": [
    "# 정렬"
   ]
  },
  {
   "cell_type": "markdown",
   "id": "344edc29-8acf-4e2d-8485-044fbdc1c898",
   "metadata": {},
   "source": [
    "## 1026 보물"
   ]
  },
  {
   "cell_type": "code",
   "execution_count": null,
   "id": "5caf29e1-e12e-40ff-8813-cc0433bbc2b8",
   "metadata": {},
   "outputs": [],
   "source": [
    "# A의 재배열이니, B와 B을 내림차순으로 정렬한 B2를 정의하고 순서대로 B에 대칭해 즉,\n",
    "# 큰 숫자의 인덱스를 찾아낸다 이 인덱스를 B3로 정의.(겹칠 가능성을 고려해서 B를 pop해서 뺀다면, 실제 인덱스가\n",
    "# 제거돼서 불가.)(그럼 겹치지 않는다는 가정하에)이후 A의 range 만큼의 배열을 만들고\n",
    "# C로 정의, A를 오름차순으로 정렬 후 B3와 대칭해 A의 순서대로 B3의 값을 인덱스로 치환해\n",
    "# C에 인덱스에 A의 값을 순서대로 대입.\n",
    "# 이후 S를 정의 후 C 값을 A로 치환 후 대입\n",
    "\n",
    "## 출력 값은 마지막 값만 출력하면 되는데, b를 재배열하지 말라는\n",
    "## 문제를 잘 못 이해함."
   ]
  },
  {
   "cell_type": "code",
   "execution_count": 7,
   "id": "b21ab703-164e-433e-978f-e3a10d3d8b2e",
   "metadata": {},
   "outputs": [
    {
     "name": "stdin",
     "output_type": "stream",
     "text": [
      " 5\n",
      " 1 1 1 6 0\n",
      " 2 7 8 3 1\n"
     ]
    },
    {
     "name": "stdout",
     "output_type": "stream",
     "text": [
      "<generator object <genexpr> at 0x0000024EB2D84790>\n"
     ]
    }
   ],
   "source": [
    "# 입력 받기\n",
    "n = int(input())\n",
    "A = list(map(int, input().split()))\n",
    "B = list(map(int, input().split()))\n",
    "\n",
    "# A를 오름차순으로 정렬하고, B를 내림차순으로 정렬\n",
    "A.sort()\n",
    "B.sort(reverse=True)\n",
    "\n",
    "# 각 인덱스의 곱의 합 계산\n",
    "c = (a * b for a, b in zip(A, B))\n",
    "print(c)"
   ]
  },
  {
   "cell_type": "code",
   "execution_count": 25,
   "id": "77b1388f-7ce3-41bf-a1d6-db31c9b2ff8a",
   "metadata": {},
   "outputs": [
    {
     "ename": "StopIteration",
     "evalue": "",
     "output_type": "error",
     "traceback": [
      "\u001b[1;31m---------------------------------------------------------------------------\u001b[0m",
      "\u001b[1;31mStopIteration\u001b[0m                             Traceback (most recent call last)",
      "Cell \u001b[1;32mIn[25], line 1\u001b[0m\n\u001b[1;32m----> 1\u001b[0m \u001b[38;5;28;43mnext\u001b[39;49m\u001b[43m(\u001b[49m\u001b[43mc\u001b[49m\u001b[43m)\u001b[49m\n",
      "\u001b[1;31mStopIteration\u001b[0m: "
     ]
    }
   ],
   "source": [
    "next(c)"
   ]
  },
  {
   "cell_type": "code",
   "execution_count": 26,
   "id": "7d149b44-a678-4e68-991c-667043d9537b",
   "metadata": {},
   "outputs": [
    {
     "data": {
      "text/plain": [
       "[0, 7, 3, 2, 6]"
      ]
     },
     "execution_count": 26,
     "metadata": {},
     "output_type": "execute_result"
    }
   ],
   "source": [
    "d = [a * b for a, b in zip(A, B)]\n",
    "d"
   ]
  },
  {
   "cell_type": "code",
   "execution_count": 27,
   "id": "8d4095cc-0330-4192-afba-20d9fd7083f6",
   "metadata": {},
   "outputs": [
    {
     "data": {
      "text/plain": [
       "18"
      ]
     },
     "execution_count": 27,
     "metadata": {},
     "output_type": "execute_result"
    }
   ],
   "source": [
    "sum(d)\n",
    "# 즉, 굳이 제너레이터로 할 필요는 없다\n",
    "# sum 함수는 제너레이터 및 리스트도 합산 가능한 함수."
   ]
  },
  {
   "cell_type": "code",
   "execution_count": 28,
   "id": "210bbadc-f465-4e58-aff5-7a32ccb1d08f",
   "metadata": {},
   "outputs": [
    {
     "data": {
      "text/plain": [
       "18"
      ]
     },
     "execution_count": 28,
     "metadata": {},
     "output_type": "execute_result"
    }
   ],
   "source": [
    "# 하지만 별도의 괄호 처리 없이 sum 함수안에 파라미터로 넣었을 시\n",
    "# 자동 변환 후 연산 하는 듯 함.\n",
    "sum(a * b for a, b in zip(A, B))"
   ]
  },
  {
   "cell_type": "code",
   "execution_count": 30,
   "id": "efdb4e81-9803-460b-b959-e3409b3be9a4",
   "metadata": {},
   "outputs": [
    {
     "data": {
      "text/plain": [
       "<generator object <genexpr> at 0x0000024EB2D85970>"
      ]
     },
     "execution_count": 30,
     "metadata": {},
     "output_type": "execute_result"
    }
   ],
   "source": [
    "(a * b for a, b in zip(A, B))"
   ]
  },
  {
   "cell_type": "code",
   "execution_count": 31,
   "id": "0caef5a9-5944-49fe-8b45-556c25fa04f1",
   "metadata": {},
   "outputs": [
    {
     "data": {
      "text/plain": [
       "[0, 7, 3, 2, 6]"
      ]
     },
     "execution_count": 31,
     "metadata": {},
     "output_type": "execute_result"
    }
   ],
   "source": [
    "[a * b for a, b in zip(A, B)]"
   ]
  }
 ],
 "metadata": {
  "kernelspec": {
   "display_name": "Python 3 (ipykernel)",
   "language": "python",
   "name": "python3"
  },
  "language_info": {
   "codemirror_mode": {
    "name": "ipython",
    "version": 3
   },
   "file_extension": ".py",
   "mimetype": "text/x-python",
   "name": "python",
   "nbconvert_exporter": "python",
   "pygments_lexer": "ipython3",
   "version": "3.12.0"
  }
 },
 "nbformat": 4,
 "nbformat_minor": 5
}
